{
  "nbformat": 4,
  "nbformat_minor": 0,
  "metadata": {
    "colab": {
      "provenance": [],
      "gpuType": "T4",
      "include_colab_link": true
    },
    "kernelspec": {
      "name": "python3",
      "display_name": "Python 3"
    },
    "language_info": {
      "name": "python"
    },
    "accelerator": "GPU"
  },
  "cells": [
    {
      "cell_type": "markdown",
      "metadata": {
        "id": "view-in-github",
        "colab_type": "text"
      },
      "source": [
        "<a href=\"https://colab.research.google.com/github/JapiKredi/MultiModel_RAG_for_Videoprocessing/blob/main/Copy_of_Multmodel_RAG_System_for_video_processing.ipynb\" target=\"_parent\"><img src=\"https://colab.research.google.com/assets/colab-badge.svg\" alt=\"Open In Colab\"/></a>"
      ]
    },
    {
      "cell_type": "markdown",
      "source": [
        "1. llamaindex framework\n",
        "2. Lancedb\n",
        "3. LLM model(GPT-4V)\n",
        "4. GEMINI-PRO-VISION"
      ],
      "metadata": {
        "id": "uTcFXUVl76Li"
      }
    },
    {
      "cell_type": "markdown",
      "source": [
        "Steps:\n",
        "1. Download video from YouTube, process and store it.\n",
        "\n",
        "2. Build Multi-Modal index and vector store for both texts and images.\n",
        "\n",
        "3. Retrieve relevant images and context, use both to augment the prompt.\n",
        "\n",
        "4. Using GPT4V for reasoning the correlations between the input query and augmented data and generating final response."
      ],
      "metadata": {
        "id": "M2QcYrOH_aLn"
      }
    },
    {
      "cell_type": "code",
      "execution_count": 1,
      "metadata": {
        "colab": {
          "base_uri": "https://localhost:8080/"
        },
        "id": "OAsuGoD57sPC",
        "outputId": "11a79cea-7792-465b-e94e-25416d3ba302"
      },
      "outputs": [
        {
          "output_type": "stream",
          "name": "stdout",
          "text": [
            "Collecting llama-index-vector-stores-lancedb\n",
            "  Downloading llama_index_vector_stores_lancedb-0.1.3-py3-none-any.whl (4.1 kB)\n",
            "Collecting lancedb<0.6.0,>=0.5.1 (from llama-index-vector-stores-lancedb)\n",
            "  Downloading lancedb-0.5.7-py3-none-any.whl (115 kB)\n",
            "\u001b[2K     \u001b[90m━━━━━━━━━━━━━━━━━━━━━━━━━━━━━━━━━━━━━━━━\u001b[0m \u001b[32m115.1/115.1 kB\u001b[0m \u001b[31m2.2 MB/s\u001b[0m eta \u001b[36m0:00:00\u001b[0m\n",
            "\u001b[?25hCollecting llama-index-core<0.11.0,>=0.10.1 (from llama-index-vector-stores-lancedb)\n",
            "  Downloading llama_index_core-0.10.29-py3-none-any.whl (15.4 MB)\n",
            "\u001b[2K     \u001b[90m━━━━━━━━━━━━━━━━━━━━━━━━━━━━━━━━━━━━━━━━\u001b[0m \u001b[32m15.4/15.4 MB\u001b[0m \u001b[31m26.5 MB/s\u001b[0m eta \u001b[36m0:00:00\u001b[0m\n",
            "\u001b[?25hCollecting deprecation (from lancedb<0.6.0,>=0.5.1->llama-index-vector-stores-lancedb)\n",
            "  Downloading deprecation-2.1.0-py2.py3-none-any.whl (11 kB)\n",
            "Collecting pylance==0.9.18 (from lancedb<0.6.0,>=0.5.1->llama-index-vector-stores-lancedb)\n",
            "  Downloading pylance-0.9.18-cp38-abi3-manylinux_2_17_x86_64.manylinux2014_x86_64.whl (21.6 MB)\n",
            "\u001b[2K     \u001b[90m━━━━━━━━━━━━━━━━━━━━━━━━━━━━━━━━━━━━━━━━\u001b[0m \u001b[32m21.6/21.6 MB\u001b[0m \u001b[31m26.2 MB/s\u001b[0m eta \u001b[36m0:00:00\u001b[0m\n",
            "\u001b[?25hCollecting ratelimiter~=1.0 (from lancedb<0.6.0,>=0.5.1->llama-index-vector-stores-lancedb)\n",
            "  Downloading ratelimiter-1.2.0.post0-py3-none-any.whl (6.6 kB)\n",
            "Collecting retry>=0.9.2 (from lancedb<0.6.0,>=0.5.1->llama-index-vector-stores-lancedb)\n",
            "  Downloading retry-0.9.2-py2.py3-none-any.whl (8.0 kB)\n",
            "Requirement already satisfied: tqdm>=4.27.0 in /usr/local/lib/python3.10/dist-packages (from lancedb<0.6.0,>=0.5.1->llama-index-vector-stores-lancedb) (4.66.2)\n",
            "Requirement already satisfied: pydantic>=1.10 in /usr/local/lib/python3.10/dist-packages (from lancedb<0.6.0,>=0.5.1->llama-index-vector-stores-lancedb) (2.6.4)\n",
            "Requirement already satisfied: attrs>=21.3.0 in /usr/local/lib/python3.10/dist-packages (from lancedb<0.6.0,>=0.5.1->llama-index-vector-stores-lancedb) (23.2.0)\n",
            "Collecting semver>=3.0 (from lancedb<0.6.0,>=0.5.1->llama-index-vector-stores-lancedb)\n",
            "  Downloading semver-3.0.2-py3-none-any.whl (17 kB)\n",
            "Requirement already satisfied: cachetools in /usr/local/lib/python3.10/dist-packages (from lancedb<0.6.0,>=0.5.1->llama-index-vector-stores-lancedb) (5.3.3)\n",
            "Requirement already satisfied: pyyaml>=6.0 in /usr/local/lib/python3.10/dist-packages (from lancedb<0.6.0,>=0.5.1->llama-index-vector-stores-lancedb) (6.0.1)\n",
            "Requirement already satisfied: click>=8.1.7 in /usr/local/lib/python3.10/dist-packages (from lancedb<0.6.0,>=0.5.1->llama-index-vector-stores-lancedb) (8.1.7)\n",
            "Requirement already satisfied: requests>=2.31.0 in /usr/local/lib/python3.10/dist-packages (from lancedb<0.6.0,>=0.5.1->llama-index-vector-stores-lancedb) (2.31.0)\n",
            "Collecting overrides>=0.7 (from lancedb<0.6.0,>=0.5.1->llama-index-vector-stores-lancedb)\n",
            "  Downloading overrides-7.7.0-py3-none-any.whl (17 kB)\n",
            "Requirement already satisfied: pyarrow>=12 in /usr/local/lib/python3.10/dist-packages (from pylance==0.9.18->lancedb<0.6.0,>=0.5.1->llama-index-vector-stores-lancedb) (14.0.2)\n",
            "Requirement already satisfied: numpy>=1.22 in /usr/local/lib/python3.10/dist-packages (from pylance==0.9.18->lancedb<0.6.0,>=0.5.1->llama-index-vector-stores-lancedb) (1.25.2)\n",
            "Requirement already satisfied: SQLAlchemy[asyncio]>=1.4.49 in /usr/local/lib/python3.10/dist-packages (from llama-index-core<0.11.0,>=0.10.1->llama-index-vector-stores-lancedb) (2.0.29)\n",
            "Requirement already satisfied: aiohttp<4.0.0,>=3.8.6 in /usr/local/lib/python3.10/dist-packages (from llama-index-core<0.11.0,>=0.10.1->llama-index-vector-stores-lancedb) (3.9.3)\n",
            "Collecting dataclasses-json (from llama-index-core<0.11.0,>=0.10.1->llama-index-vector-stores-lancedb)\n",
            "  Downloading dataclasses_json-0.6.4-py3-none-any.whl (28 kB)\n",
            "Collecting deprecated>=1.2.9.3 (from llama-index-core<0.11.0,>=0.10.1->llama-index-vector-stores-lancedb)\n",
            "  Downloading Deprecated-1.2.14-py2.py3-none-any.whl (9.6 kB)\n",
            "Collecting dirtyjson<2.0.0,>=1.0.8 (from llama-index-core<0.11.0,>=0.10.1->llama-index-vector-stores-lancedb)\n",
            "  Downloading dirtyjson-1.0.8-py3-none-any.whl (25 kB)\n",
            "Requirement already satisfied: fsspec>=2023.5.0 in /usr/local/lib/python3.10/dist-packages (from llama-index-core<0.11.0,>=0.10.1->llama-index-vector-stores-lancedb) (2023.6.0)\n",
            "Collecting httpx (from llama-index-core<0.11.0,>=0.10.1->llama-index-vector-stores-lancedb)\n",
            "  Downloading httpx-0.27.0-py3-none-any.whl (75 kB)\n",
            "\u001b[2K     \u001b[90m━━━━━━━━━━━━━━━━━━━━━━━━━━━━━━━━━━━━━━━━\u001b[0m \u001b[32m75.6/75.6 kB\u001b[0m \u001b[31m5.3 MB/s\u001b[0m eta \u001b[36m0:00:00\u001b[0m\n",
            "\u001b[?25hCollecting llamaindex-py-client<0.2.0,>=0.1.18 (from llama-index-core<0.11.0,>=0.10.1->llama-index-vector-stores-lancedb)\n",
            "  Downloading llamaindex_py_client-0.1.18-py3-none-any.whl (136 kB)\n",
            "\u001b[2K     \u001b[90m━━━━━━━━━━━━━━━━━━━━━━━━━━━━━━━━━━━━━━━━\u001b[0m \u001b[32m136.1/136.1 kB\u001b[0m \u001b[31m10.1 MB/s\u001b[0m eta \u001b[36m0:00:00\u001b[0m\n",
            "\u001b[?25hRequirement already satisfied: nest-asyncio<2.0.0,>=1.5.8 in /usr/local/lib/python3.10/dist-packages (from llama-index-core<0.11.0,>=0.10.1->llama-index-vector-stores-lancedb) (1.6.0)\n",
            "Requirement already satisfied: networkx>=3.0 in /usr/local/lib/python3.10/dist-packages (from llama-index-core<0.11.0,>=0.10.1->llama-index-vector-stores-lancedb) (3.3)\n",
            "Requirement already satisfied: nltk<4.0.0,>=3.8.1 in /usr/local/lib/python3.10/dist-packages (from llama-index-core<0.11.0,>=0.10.1->llama-index-vector-stores-lancedb) (3.8.1)\n",
            "Collecting openai>=1.1.0 (from llama-index-core<0.11.0,>=0.10.1->llama-index-vector-stores-lancedb)\n",
            "  Downloading openai-1.17.1-py3-none-any.whl (268 kB)\n",
            "\u001b[2K     \u001b[90m━━━━━━━━━━━━━━━━━━━━━━━━━━━━━━━━━━━━━━━━\u001b[0m \u001b[32m268.3/268.3 kB\u001b[0m \u001b[31m11.3 MB/s\u001b[0m eta \u001b[36m0:00:00\u001b[0m\n",
            "\u001b[?25hRequirement already satisfied: pandas in /usr/local/lib/python3.10/dist-packages (from llama-index-core<0.11.0,>=0.10.1->llama-index-vector-stores-lancedb) (2.0.3)\n",
            "Requirement already satisfied: pillow>=9.0.0 in /usr/local/lib/python3.10/dist-packages (from llama-index-core<0.11.0,>=0.10.1->llama-index-vector-stores-lancedb) (9.4.0)\n",
            "Requirement already satisfied: tenacity<9.0.0,>=8.2.0 in /usr/local/lib/python3.10/dist-packages (from llama-index-core<0.11.0,>=0.10.1->llama-index-vector-stores-lancedb) (8.2.3)\n",
            "Collecting tiktoken>=0.3.3 (from llama-index-core<0.11.0,>=0.10.1->llama-index-vector-stores-lancedb)\n",
            "  Downloading tiktoken-0.6.0-cp310-cp310-manylinux_2_17_x86_64.manylinux2014_x86_64.whl (1.8 MB)\n",
            "\u001b[2K     \u001b[90m━━━━━━━━━━━━━━━━━━━━━━━━━━━━━━━━━━━━━━━━\u001b[0m \u001b[32m1.8/1.8 MB\u001b[0m \u001b[31m24.6 MB/s\u001b[0m eta \u001b[36m0:00:00\u001b[0m\n",
            "\u001b[?25hRequirement already satisfied: typing-extensions>=4.5.0 in /usr/local/lib/python3.10/dist-packages (from llama-index-core<0.11.0,>=0.10.1->llama-index-vector-stores-lancedb) (4.11.0)\n",
            "Collecting typing-inspect>=0.8.0 (from llama-index-core<0.11.0,>=0.10.1->llama-index-vector-stores-lancedb)\n",
            "  Downloading typing_inspect-0.9.0-py3-none-any.whl (8.8 kB)\n",
            "Requirement already satisfied: wrapt in /usr/local/lib/python3.10/dist-packages (from llama-index-core<0.11.0,>=0.10.1->llama-index-vector-stores-lancedb) (1.14.1)\n",
            "Requirement already satisfied: aiosignal>=1.1.2 in /usr/local/lib/python3.10/dist-packages (from aiohttp<4.0.0,>=3.8.6->llama-index-core<0.11.0,>=0.10.1->llama-index-vector-stores-lancedb) (1.3.1)\n",
            "Requirement already satisfied: frozenlist>=1.1.1 in /usr/local/lib/python3.10/dist-packages (from aiohttp<4.0.0,>=3.8.6->llama-index-core<0.11.0,>=0.10.1->llama-index-vector-stores-lancedb) (1.4.1)\n",
            "Requirement already satisfied: multidict<7.0,>=4.5 in /usr/local/lib/python3.10/dist-packages (from aiohttp<4.0.0,>=3.8.6->llama-index-core<0.11.0,>=0.10.1->llama-index-vector-stores-lancedb) (6.0.5)\n",
            "Requirement already satisfied: yarl<2.0,>=1.0 in /usr/local/lib/python3.10/dist-packages (from aiohttp<4.0.0,>=3.8.6->llama-index-core<0.11.0,>=0.10.1->llama-index-vector-stores-lancedb) (1.9.4)\n",
            "Requirement already satisfied: async-timeout<5.0,>=4.0 in /usr/local/lib/python3.10/dist-packages (from aiohttp<4.0.0,>=3.8.6->llama-index-core<0.11.0,>=0.10.1->llama-index-vector-stores-lancedb) (4.0.3)\n",
            "Requirement already satisfied: anyio in /usr/local/lib/python3.10/dist-packages (from httpx->llama-index-core<0.11.0,>=0.10.1->llama-index-vector-stores-lancedb) (3.7.1)\n",
            "Requirement already satisfied: certifi in /usr/local/lib/python3.10/dist-packages (from httpx->llama-index-core<0.11.0,>=0.10.1->llama-index-vector-stores-lancedb) (2024.2.2)\n",
            "Collecting httpcore==1.* (from httpx->llama-index-core<0.11.0,>=0.10.1->llama-index-vector-stores-lancedb)\n",
            "  Downloading httpcore-1.0.5-py3-none-any.whl (77 kB)\n",
            "\u001b[2K     \u001b[90m━━━━━━━━━━━━━━━━━━━━━━━━━━━━━━━━━━━━━━━━\u001b[0m \u001b[32m77.9/77.9 kB\u001b[0m \u001b[31m3.5 MB/s\u001b[0m eta \u001b[36m0:00:00\u001b[0m\n",
            "\u001b[?25hRequirement already satisfied: idna in /usr/local/lib/python3.10/dist-packages (from httpx->llama-index-core<0.11.0,>=0.10.1->llama-index-vector-stores-lancedb) (3.6)\n",
            "Requirement already satisfied: sniffio in /usr/local/lib/python3.10/dist-packages (from httpx->llama-index-core<0.11.0,>=0.10.1->llama-index-vector-stores-lancedb) (1.3.1)\n",
            "Collecting h11<0.15,>=0.13 (from httpcore==1.*->httpx->llama-index-core<0.11.0,>=0.10.1->llama-index-vector-stores-lancedb)\n",
            "  Downloading h11-0.14.0-py3-none-any.whl (58 kB)\n",
            "\u001b[2K     \u001b[90m━━━━━━━━━━━━━━━━━━━━━━━━━━━━━━━━━━━━━━━━\u001b[0m \u001b[32m58.3/58.3 kB\u001b[0m \u001b[31m2.3 MB/s\u001b[0m eta \u001b[36m0:00:00\u001b[0m\n",
            "\u001b[?25hRequirement already satisfied: joblib in /usr/local/lib/python3.10/dist-packages (from nltk<4.0.0,>=3.8.1->llama-index-core<0.11.0,>=0.10.1->llama-index-vector-stores-lancedb) (1.4.0)\n",
            "Requirement already satisfied: regex>=2021.8.3 in /usr/local/lib/python3.10/dist-packages (from nltk<4.0.0,>=3.8.1->llama-index-core<0.11.0,>=0.10.1->llama-index-vector-stores-lancedb) (2023.12.25)\n",
            "Requirement already satisfied: distro<2,>=1.7.0 in /usr/lib/python3/dist-packages (from openai>=1.1.0->llama-index-core<0.11.0,>=0.10.1->llama-index-vector-stores-lancedb) (1.7.0)\n",
            "Requirement already satisfied: annotated-types>=0.4.0 in /usr/local/lib/python3.10/dist-packages (from pydantic>=1.10->lancedb<0.6.0,>=0.5.1->llama-index-vector-stores-lancedb) (0.6.0)\n",
            "Requirement already satisfied: pydantic-core==2.16.3 in /usr/local/lib/python3.10/dist-packages (from pydantic>=1.10->lancedb<0.6.0,>=0.5.1->llama-index-vector-stores-lancedb) (2.16.3)\n",
            "Requirement already satisfied: charset-normalizer<4,>=2 in /usr/local/lib/python3.10/dist-packages (from requests>=2.31.0->lancedb<0.6.0,>=0.5.1->llama-index-vector-stores-lancedb) (3.3.2)\n",
            "Requirement already satisfied: urllib3<3,>=1.21.1 in /usr/local/lib/python3.10/dist-packages (from requests>=2.31.0->lancedb<0.6.0,>=0.5.1->llama-index-vector-stores-lancedb) (2.0.7)\n",
            "Requirement already satisfied: decorator>=3.4.2 in /usr/local/lib/python3.10/dist-packages (from retry>=0.9.2->lancedb<0.6.0,>=0.5.1->llama-index-vector-stores-lancedb) (4.4.2)\n",
            "Collecting py<2.0.0,>=1.4.26 (from retry>=0.9.2->lancedb<0.6.0,>=0.5.1->llama-index-vector-stores-lancedb)\n",
            "  Downloading py-1.11.0-py2.py3-none-any.whl (98 kB)\n",
            "\u001b[2K     \u001b[90m━━━━━━━━━━━━━━━━━━━━━━━━━━━━━━━━━━━━━━━━\u001b[0m \u001b[32m98.7/98.7 kB\u001b[0m \u001b[31m5.3 MB/s\u001b[0m eta \u001b[36m0:00:00\u001b[0m\n",
            "\u001b[?25hRequirement already satisfied: greenlet!=0.4.17 in /usr/local/lib/python3.10/dist-packages (from SQLAlchemy[asyncio]>=1.4.49->llama-index-core<0.11.0,>=0.10.1->llama-index-vector-stores-lancedb) (3.0.3)\n",
            "Collecting mypy-extensions>=0.3.0 (from typing-inspect>=0.8.0->llama-index-core<0.11.0,>=0.10.1->llama-index-vector-stores-lancedb)\n",
            "  Downloading mypy_extensions-1.0.0-py3-none-any.whl (4.7 kB)\n",
            "Collecting marshmallow<4.0.0,>=3.18.0 (from dataclasses-json->llama-index-core<0.11.0,>=0.10.1->llama-index-vector-stores-lancedb)\n",
            "  Downloading marshmallow-3.21.1-py3-none-any.whl (49 kB)\n",
            "\u001b[2K     \u001b[90m━━━━━━━━━━━━━━━━━━━━━━━━━━━━━━━━━━━━━━━━\u001b[0m \u001b[32m49.4/49.4 kB\u001b[0m \u001b[31m2.1 MB/s\u001b[0m eta \u001b[36m0:00:00\u001b[0m\n",
            "\u001b[?25hRequirement already satisfied: packaging in /usr/local/lib/python3.10/dist-packages (from deprecation->lancedb<0.6.0,>=0.5.1->llama-index-vector-stores-lancedb) (24.0)\n",
            "Requirement already satisfied: python-dateutil>=2.8.2 in /usr/local/lib/python3.10/dist-packages (from pandas->llama-index-core<0.11.0,>=0.10.1->llama-index-vector-stores-lancedb) (2.8.2)\n",
            "Requirement already satisfied: pytz>=2020.1 in /usr/local/lib/python3.10/dist-packages (from pandas->llama-index-core<0.11.0,>=0.10.1->llama-index-vector-stores-lancedb) (2023.4)\n",
            "Requirement already satisfied: tzdata>=2022.1 in /usr/local/lib/python3.10/dist-packages (from pandas->llama-index-core<0.11.0,>=0.10.1->llama-index-vector-stores-lancedb) (2024.1)\n",
            "Requirement already satisfied: exceptiongroup in /usr/local/lib/python3.10/dist-packages (from anyio->httpx->llama-index-core<0.11.0,>=0.10.1->llama-index-vector-stores-lancedb) (1.2.0)\n",
            "Requirement already satisfied: six>=1.5 in /usr/local/lib/python3.10/dist-packages (from python-dateutil>=2.8.2->pandas->llama-index-core<0.11.0,>=0.10.1->llama-index-vector-stores-lancedb) (1.16.0)\n",
            "Installing collected packages: ratelimiter, dirtyjson, semver, py, overrides, mypy-extensions, marshmallow, h11, deprecation, deprecated, typing-inspect, tiktoken, retry, pylance, httpcore, lancedb, httpx, dataclasses-json, openai, llamaindex-py-client, llama-index-core, llama-index-vector-stores-lancedb\n",
            "Successfully installed dataclasses-json-0.6.4 deprecated-1.2.14 deprecation-2.1.0 dirtyjson-1.0.8 h11-0.14.0 httpcore-1.0.5 httpx-0.27.0 lancedb-0.5.7 llama-index-core-0.10.29 llama-index-vector-stores-lancedb-0.1.3 llamaindex-py-client-0.1.18 marshmallow-3.21.1 mypy-extensions-1.0.0 openai-1.17.1 overrides-7.7.0 py-1.11.0 pylance-0.9.18 ratelimiter-1.2.0.post0 retry-0.9.2 semver-3.0.2 tiktoken-0.6.0 typing-inspect-0.9.0\n",
            "Collecting llama-index-multi-modal-llms-openai\n",
            "  Downloading llama_index_multi_modal_llms_openai-0.1.5-py3-none-any.whl (5.8 kB)\n",
            "Requirement already satisfied: llama-index-core<0.11.0,>=0.10.1 in /usr/local/lib/python3.10/dist-packages (from llama-index-multi-modal-llms-openai) (0.10.29)\n",
            "Collecting llama-index-llms-openai<0.2.0,>=0.1.1 (from llama-index-multi-modal-llms-openai)\n",
            "  Downloading llama_index_llms_openai-0.1.15-py3-none-any.whl (10 kB)\n",
            "Requirement already satisfied: PyYAML>=6.0.1 in /usr/local/lib/python3.10/dist-packages (from llama-index-core<0.11.0,>=0.10.1->llama-index-multi-modal-llms-openai) (6.0.1)\n",
            "Requirement already satisfied: SQLAlchemy[asyncio]>=1.4.49 in /usr/local/lib/python3.10/dist-packages (from llama-index-core<0.11.0,>=0.10.1->llama-index-multi-modal-llms-openai) (2.0.29)\n",
            "Requirement already satisfied: aiohttp<4.0.0,>=3.8.6 in /usr/local/lib/python3.10/dist-packages (from llama-index-core<0.11.0,>=0.10.1->llama-index-multi-modal-llms-openai) (3.9.3)\n",
            "Requirement already satisfied: dataclasses-json in /usr/local/lib/python3.10/dist-packages (from llama-index-core<0.11.0,>=0.10.1->llama-index-multi-modal-llms-openai) (0.6.4)\n",
            "Requirement already satisfied: deprecated>=1.2.9.3 in /usr/local/lib/python3.10/dist-packages (from llama-index-core<0.11.0,>=0.10.1->llama-index-multi-modal-llms-openai) (1.2.14)\n",
            "Requirement already satisfied: dirtyjson<2.0.0,>=1.0.8 in /usr/local/lib/python3.10/dist-packages (from llama-index-core<0.11.0,>=0.10.1->llama-index-multi-modal-llms-openai) (1.0.8)\n",
            "Requirement already satisfied: fsspec>=2023.5.0 in /usr/local/lib/python3.10/dist-packages (from llama-index-core<0.11.0,>=0.10.1->llama-index-multi-modal-llms-openai) (2023.6.0)\n",
            "Requirement already satisfied: httpx in /usr/local/lib/python3.10/dist-packages (from llama-index-core<0.11.0,>=0.10.1->llama-index-multi-modal-llms-openai) (0.27.0)\n",
            "Requirement already satisfied: llamaindex-py-client<0.2.0,>=0.1.18 in /usr/local/lib/python3.10/dist-packages (from llama-index-core<0.11.0,>=0.10.1->llama-index-multi-modal-llms-openai) (0.1.18)\n",
            "Requirement already satisfied: nest-asyncio<2.0.0,>=1.5.8 in /usr/local/lib/python3.10/dist-packages (from llama-index-core<0.11.0,>=0.10.1->llama-index-multi-modal-llms-openai) (1.6.0)\n",
            "Requirement already satisfied: networkx>=3.0 in /usr/local/lib/python3.10/dist-packages (from llama-index-core<0.11.0,>=0.10.1->llama-index-multi-modal-llms-openai) (3.3)\n",
            "Requirement already satisfied: nltk<4.0.0,>=3.8.1 in /usr/local/lib/python3.10/dist-packages (from llama-index-core<0.11.0,>=0.10.1->llama-index-multi-modal-llms-openai) (3.8.1)\n",
            "Requirement already satisfied: numpy in /usr/local/lib/python3.10/dist-packages (from llama-index-core<0.11.0,>=0.10.1->llama-index-multi-modal-llms-openai) (1.25.2)\n",
            "Requirement already satisfied: openai>=1.1.0 in /usr/local/lib/python3.10/dist-packages (from llama-index-core<0.11.0,>=0.10.1->llama-index-multi-modal-llms-openai) (1.17.1)\n",
            "Requirement already satisfied: pandas in /usr/local/lib/python3.10/dist-packages (from llama-index-core<0.11.0,>=0.10.1->llama-index-multi-modal-llms-openai) (2.0.3)\n",
            "Requirement already satisfied: pillow>=9.0.0 in /usr/local/lib/python3.10/dist-packages (from llama-index-core<0.11.0,>=0.10.1->llama-index-multi-modal-llms-openai) (9.4.0)\n",
            "Requirement already satisfied: requests>=2.31.0 in /usr/local/lib/python3.10/dist-packages (from llama-index-core<0.11.0,>=0.10.1->llama-index-multi-modal-llms-openai) (2.31.0)\n",
            "Requirement already satisfied: tenacity<9.0.0,>=8.2.0 in /usr/local/lib/python3.10/dist-packages (from llama-index-core<0.11.0,>=0.10.1->llama-index-multi-modal-llms-openai) (8.2.3)\n",
            "Requirement already satisfied: tiktoken>=0.3.3 in /usr/local/lib/python3.10/dist-packages (from llama-index-core<0.11.0,>=0.10.1->llama-index-multi-modal-llms-openai) (0.6.0)\n",
            "Requirement already satisfied: tqdm<5.0.0,>=4.66.1 in /usr/local/lib/python3.10/dist-packages (from llama-index-core<0.11.0,>=0.10.1->llama-index-multi-modal-llms-openai) (4.66.2)\n",
            "Requirement already satisfied: typing-extensions>=4.5.0 in /usr/local/lib/python3.10/dist-packages (from llama-index-core<0.11.0,>=0.10.1->llama-index-multi-modal-llms-openai) (4.11.0)\n",
            "Requirement already satisfied: typing-inspect>=0.8.0 in /usr/local/lib/python3.10/dist-packages (from llama-index-core<0.11.0,>=0.10.1->llama-index-multi-modal-llms-openai) (0.9.0)\n",
            "Requirement already satisfied: wrapt in /usr/local/lib/python3.10/dist-packages (from llama-index-core<0.11.0,>=0.10.1->llama-index-multi-modal-llms-openai) (1.14.1)\n",
            "Requirement already satisfied: aiosignal>=1.1.2 in /usr/local/lib/python3.10/dist-packages (from aiohttp<4.0.0,>=3.8.6->llama-index-core<0.11.0,>=0.10.1->llama-index-multi-modal-llms-openai) (1.3.1)\n",
            "Requirement already satisfied: attrs>=17.3.0 in /usr/local/lib/python3.10/dist-packages (from aiohttp<4.0.0,>=3.8.6->llama-index-core<0.11.0,>=0.10.1->llama-index-multi-modal-llms-openai) (23.2.0)\n",
            "Requirement already satisfied: frozenlist>=1.1.1 in /usr/local/lib/python3.10/dist-packages (from aiohttp<4.0.0,>=3.8.6->llama-index-core<0.11.0,>=0.10.1->llama-index-multi-modal-llms-openai) (1.4.1)\n",
            "Requirement already satisfied: multidict<7.0,>=4.5 in /usr/local/lib/python3.10/dist-packages (from aiohttp<4.0.0,>=3.8.6->llama-index-core<0.11.0,>=0.10.1->llama-index-multi-modal-llms-openai) (6.0.5)\n",
            "Requirement already satisfied: yarl<2.0,>=1.0 in /usr/local/lib/python3.10/dist-packages (from aiohttp<4.0.0,>=3.8.6->llama-index-core<0.11.0,>=0.10.1->llama-index-multi-modal-llms-openai) (1.9.4)\n",
            "Requirement already satisfied: async-timeout<5.0,>=4.0 in /usr/local/lib/python3.10/dist-packages (from aiohttp<4.0.0,>=3.8.6->llama-index-core<0.11.0,>=0.10.1->llama-index-multi-modal-llms-openai) (4.0.3)\n",
            "Requirement already satisfied: pydantic>=1.10 in /usr/local/lib/python3.10/dist-packages (from llamaindex-py-client<0.2.0,>=0.1.18->llama-index-core<0.11.0,>=0.10.1->llama-index-multi-modal-llms-openai) (2.6.4)\n",
            "Requirement already satisfied: anyio in /usr/local/lib/python3.10/dist-packages (from httpx->llama-index-core<0.11.0,>=0.10.1->llama-index-multi-modal-llms-openai) (3.7.1)\n",
            "Requirement already satisfied: certifi in /usr/local/lib/python3.10/dist-packages (from httpx->llama-index-core<0.11.0,>=0.10.1->llama-index-multi-modal-llms-openai) (2024.2.2)\n",
            "Requirement already satisfied: httpcore==1.* in /usr/local/lib/python3.10/dist-packages (from httpx->llama-index-core<0.11.0,>=0.10.1->llama-index-multi-modal-llms-openai) (1.0.5)\n",
            "Requirement already satisfied: idna in /usr/local/lib/python3.10/dist-packages (from httpx->llama-index-core<0.11.0,>=0.10.1->llama-index-multi-modal-llms-openai) (3.6)\n",
            "Requirement already satisfied: sniffio in /usr/local/lib/python3.10/dist-packages (from httpx->llama-index-core<0.11.0,>=0.10.1->llama-index-multi-modal-llms-openai) (1.3.1)\n",
            "Requirement already satisfied: h11<0.15,>=0.13 in /usr/local/lib/python3.10/dist-packages (from httpcore==1.*->httpx->llama-index-core<0.11.0,>=0.10.1->llama-index-multi-modal-llms-openai) (0.14.0)\n",
            "Requirement already satisfied: click in /usr/local/lib/python3.10/dist-packages (from nltk<4.0.0,>=3.8.1->llama-index-core<0.11.0,>=0.10.1->llama-index-multi-modal-llms-openai) (8.1.7)\n",
            "Requirement already satisfied: joblib in /usr/local/lib/python3.10/dist-packages (from nltk<4.0.0,>=3.8.1->llama-index-core<0.11.0,>=0.10.1->llama-index-multi-modal-llms-openai) (1.4.0)\n",
            "Requirement already satisfied: regex>=2021.8.3 in /usr/local/lib/python3.10/dist-packages (from nltk<4.0.0,>=3.8.1->llama-index-core<0.11.0,>=0.10.1->llama-index-multi-modal-llms-openai) (2023.12.25)\n",
            "Requirement already satisfied: distro<2,>=1.7.0 in /usr/lib/python3/dist-packages (from openai>=1.1.0->llama-index-core<0.11.0,>=0.10.1->llama-index-multi-modal-llms-openai) (1.7.0)\n",
            "Requirement already satisfied: charset-normalizer<4,>=2 in /usr/local/lib/python3.10/dist-packages (from requests>=2.31.0->llama-index-core<0.11.0,>=0.10.1->llama-index-multi-modal-llms-openai) (3.3.2)\n",
            "Requirement already satisfied: urllib3<3,>=1.21.1 in /usr/local/lib/python3.10/dist-packages (from requests>=2.31.0->llama-index-core<0.11.0,>=0.10.1->llama-index-multi-modal-llms-openai) (2.0.7)\n",
            "Requirement already satisfied: greenlet!=0.4.17 in /usr/local/lib/python3.10/dist-packages (from SQLAlchemy[asyncio]>=1.4.49->llama-index-core<0.11.0,>=0.10.1->llama-index-multi-modal-llms-openai) (3.0.3)\n",
            "Requirement already satisfied: mypy-extensions>=0.3.0 in /usr/local/lib/python3.10/dist-packages (from typing-inspect>=0.8.0->llama-index-core<0.11.0,>=0.10.1->llama-index-multi-modal-llms-openai) (1.0.0)\n",
            "Requirement already satisfied: marshmallow<4.0.0,>=3.18.0 in /usr/local/lib/python3.10/dist-packages (from dataclasses-json->llama-index-core<0.11.0,>=0.10.1->llama-index-multi-modal-llms-openai) (3.21.1)\n",
            "Requirement already satisfied: python-dateutil>=2.8.2 in /usr/local/lib/python3.10/dist-packages (from pandas->llama-index-core<0.11.0,>=0.10.1->llama-index-multi-modal-llms-openai) (2.8.2)\n",
            "Requirement already satisfied: pytz>=2020.1 in /usr/local/lib/python3.10/dist-packages (from pandas->llama-index-core<0.11.0,>=0.10.1->llama-index-multi-modal-llms-openai) (2023.4)\n",
            "Requirement already satisfied: tzdata>=2022.1 in /usr/local/lib/python3.10/dist-packages (from pandas->llama-index-core<0.11.0,>=0.10.1->llama-index-multi-modal-llms-openai) (2024.1)\n",
            "Requirement already satisfied: exceptiongroup in /usr/local/lib/python3.10/dist-packages (from anyio->httpx->llama-index-core<0.11.0,>=0.10.1->llama-index-multi-modal-llms-openai) (1.2.0)\n",
            "Requirement already satisfied: packaging>=17.0 in /usr/local/lib/python3.10/dist-packages (from marshmallow<4.0.0,>=3.18.0->dataclasses-json->llama-index-core<0.11.0,>=0.10.1->llama-index-multi-modal-llms-openai) (24.0)\n",
            "Requirement already satisfied: annotated-types>=0.4.0 in /usr/local/lib/python3.10/dist-packages (from pydantic>=1.10->llamaindex-py-client<0.2.0,>=0.1.18->llama-index-core<0.11.0,>=0.10.1->llama-index-multi-modal-llms-openai) (0.6.0)\n",
            "Requirement already satisfied: pydantic-core==2.16.3 in /usr/local/lib/python3.10/dist-packages (from pydantic>=1.10->llamaindex-py-client<0.2.0,>=0.1.18->llama-index-core<0.11.0,>=0.10.1->llama-index-multi-modal-llms-openai) (2.16.3)\n",
            "Requirement already satisfied: six>=1.5 in /usr/local/lib/python3.10/dist-packages (from python-dateutil>=2.8.2->pandas->llama-index-core<0.11.0,>=0.10.1->llama-index-multi-modal-llms-openai) (1.16.0)\n",
            "Installing collected packages: llama-index-llms-openai, llama-index-multi-modal-llms-openai\n",
            "Successfully installed llama-index-llms-openai-0.1.15 llama-index-multi-modal-llms-openai-0.1.5\n"
          ]
        }
      ],
      "source": [
        "%pip install llama-index-vector-stores-lancedb\n",
        "%pip install llama-index-multi-modal-llms-openai"
      ]
    },
    {
      "cell_type": "code",
      "source": [
        "#%pip install llama-index-multi-modal-llms-openai\n",
        "#%pip install llama-index-vector-stores-lancedb\n",
        "%pip install llama-index-embeddings-clip"
      ],
      "metadata": {
        "colab": {
          "base_uri": "https://localhost:8080/",
          "height": 1000
        },
        "id": "R6wIq_e8AXua",
        "outputId": "e50b6080-d65f-4db6-a6da-f2b0f15f17be"
      },
      "execution_count": 2,
      "outputs": [
        {
          "output_type": "stream",
          "name": "stdout",
          "text": [
            "Collecting llama-index-embeddings-clip\n",
            "  Downloading llama_index_embeddings_clip-0.1.5-py3-none-any.whl (3.2 kB)\n",
            "Collecting ftfy<7.0.0,>=6.1.3 (from llama-index-embeddings-clip)\n",
            "  Downloading ftfy-6.2.0-py3-none-any.whl (54 kB)\n",
            "\u001b[2K     \u001b[90m━━━━━━━━━━━━━━━━━━━━━━━━━━━━━━━━━━━━━━━━\u001b[0m \u001b[32m54.4/54.4 kB\u001b[0m \u001b[31m1.5 MB/s\u001b[0m eta \u001b[36m0:00:00\u001b[0m\n",
            "\u001b[?25hRequirement already satisfied: llama-index-core<0.11.0,>=0.10.1 in /usr/local/lib/python3.10/dist-packages (from llama-index-embeddings-clip) (0.10.29)\n",
            "Collecting pillow<11.0.0,>=10.2.0 (from llama-index-embeddings-clip)\n",
            "  Downloading pillow-10.3.0-cp310-cp310-manylinux_2_28_x86_64.whl (4.5 MB)\n",
            "\u001b[2K     \u001b[90m━━━━━━━━━━━━━━━━━━━━━━━━━━━━━━━━━━━━━━━━\u001b[0m \u001b[32m4.5/4.5 MB\u001b[0m \u001b[31m37.8 MB/s\u001b[0m eta \u001b[36m0:00:00\u001b[0m\n",
            "\u001b[?25hRequirement already satisfied: torch<3.0.0,>=2.1.2 in /usr/local/lib/python3.10/dist-packages (from llama-index-embeddings-clip) (2.2.1+cu121)\n",
            "Requirement already satisfied: torchvision<0.18.0,>=0.17.0 in /usr/local/lib/python3.10/dist-packages (from llama-index-embeddings-clip) (0.17.1+cu121)\n",
            "Requirement already satisfied: wcwidth<0.3.0,>=0.2.12 in /usr/local/lib/python3.10/dist-packages (from ftfy<7.0.0,>=6.1.3->llama-index-embeddings-clip) (0.2.13)\n",
            "Requirement already satisfied: PyYAML>=6.0.1 in /usr/local/lib/python3.10/dist-packages (from llama-index-core<0.11.0,>=0.10.1->llama-index-embeddings-clip) (6.0.1)\n",
            "Requirement already satisfied: SQLAlchemy[asyncio]>=1.4.49 in /usr/local/lib/python3.10/dist-packages (from llama-index-core<0.11.0,>=0.10.1->llama-index-embeddings-clip) (2.0.29)\n",
            "Requirement already satisfied: aiohttp<4.0.0,>=3.8.6 in /usr/local/lib/python3.10/dist-packages (from llama-index-core<0.11.0,>=0.10.1->llama-index-embeddings-clip) (3.9.3)\n",
            "Requirement already satisfied: dataclasses-json in /usr/local/lib/python3.10/dist-packages (from llama-index-core<0.11.0,>=0.10.1->llama-index-embeddings-clip) (0.6.4)\n",
            "Requirement already satisfied: deprecated>=1.2.9.3 in /usr/local/lib/python3.10/dist-packages (from llama-index-core<0.11.0,>=0.10.1->llama-index-embeddings-clip) (1.2.14)\n",
            "Requirement already satisfied: dirtyjson<2.0.0,>=1.0.8 in /usr/local/lib/python3.10/dist-packages (from llama-index-core<0.11.0,>=0.10.1->llama-index-embeddings-clip) (1.0.8)\n",
            "Requirement already satisfied: fsspec>=2023.5.0 in /usr/local/lib/python3.10/dist-packages (from llama-index-core<0.11.0,>=0.10.1->llama-index-embeddings-clip) (2023.6.0)\n",
            "Requirement already satisfied: httpx in /usr/local/lib/python3.10/dist-packages (from llama-index-core<0.11.0,>=0.10.1->llama-index-embeddings-clip) (0.27.0)\n",
            "Requirement already satisfied: llamaindex-py-client<0.2.0,>=0.1.18 in /usr/local/lib/python3.10/dist-packages (from llama-index-core<0.11.0,>=0.10.1->llama-index-embeddings-clip) (0.1.18)\n",
            "Requirement already satisfied: nest-asyncio<2.0.0,>=1.5.8 in /usr/local/lib/python3.10/dist-packages (from llama-index-core<0.11.0,>=0.10.1->llama-index-embeddings-clip) (1.6.0)\n",
            "Requirement already satisfied: networkx>=3.0 in /usr/local/lib/python3.10/dist-packages (from llama-index-core<0.11.0,>=0.10.1->llama-index-embeddings-clip) (3.3)\n",
            "Requirement already satisfied: nltk<4.0.0,>=3.8.1 in /usr/local/lib/python3.10/dist-packages (from llama-index-core<0.11.0,>=0.10.1->llama-index-embeddings-clip) (3.8.1)\n",
            "Requirement already satisfied: numpy in /usr/local/lib/python3.10/dist-packages (from llama-index-core<0.11.0,>=0.10.1->llama-index-embeddings-clip) (1.25.2)\n",
            "Requirement already satisfied: openai>=1.1.0 in /usr/local/lib/python3.10/dist-packages (from llama-index-core<0.11.0,>=0.10.1->llama-index-embeddings-clip) (1.17.1)\n",
            "Requirement already satisfied: pandas in /usr/local/lib/python3.10/dist-packages (from llama-index-core<0.11.0,>=0.10.1->llama-index-embeddings-clip) (2.0.3)\n",
            "Requirement already satisfied: requests>=2.31.0 in /usr/local/lib/python3.10/dist-packages (from llama-index-core<0.11.0,>=0.10.1->llama-index-embeddings-clip) (2.31.0)\n",
            "Requirement already satisfied: tenacity<9.0.0,>=8.2.0 in /usr/local/lib/python3.10/dist-packages (from llama-index-core<0.11.0,>=0.10.1->llama-index-embeddings-clip) (8.2.3)\n",
            "Requirement already satisfied: tiktoken>=0.3.3 in /usr/local/lib/python3.10/dist-packages (from llama-index-core<0.11.0,>=0.10.1->llama-index-embeddings-clip) (0.6.0)\n",
            "Requirement already satisfied: tqdm<5.0.0,>=4.66.1 in /usr/local/lib/python3.10/dist-packages (from llama-index-core<0.11.0,>=0.10.1->llama-index-embeddings-clip) (4.66.2)\n",
            "Requirement already satisfied: typing-extensions>=4.5.0 in /usr/local/lib/python3.10/dist-packages (from llama-index-core<0.11.0,>=0.10.1->llama-index-embeddings-clip) (4.11.0)\n",
            "Requirement already satisfied: typing-inspect>=0.8.0 in /usr/local/lib/python3.10/dist-packages (from llama-index-core<0.11.0,>=0.10.1->llama-index-embeddings-clip) (0.9.0)\n",
            "Requirement already satisfied: wrapt in /usr/local/lib/python3.10/dist-packages (from llama-index-core<0.11.0,>=0.10.1->llama-index-embeddings-clip) (1.14.1)\n",
            "Requirement already satisfied: filelock in /usr/local/lib/python3.10/dist-packages (from torch<3.0.0,>=2.1.2->llama-index-embeddings-clip) (3.13.4)\n",
            "Requirement already satisfied: sympy in /usr/local/lib/python3.10/dist-packages (from torch<3.0.0,>=2.1.2->llama-index-embeddings-clip) (1.12)\n",
            "Requirement already satisfied: jinja2 in /usr/local/lib/python3.10/dist-packages (from torch<3.0.0,>=2.1.2->llama-index-embeddings-clip) (3.1.3)\n",
            "Collecting nvidia-cuda-nvrtc-cu12==12.1.105 (from torch<3.0.0,>=2.1.2->llama-index-embeddings-clip)\n",
            "  Using cached nvidia_cuda_nvrtc_cu12-12.1.105-py3-none-manylinux1_x86_64.whl (23.7 MB)\n",
            "Collecting nvidia-cuda-runtime-cu12==12.1.105 (from torch<3.0.0,>=2.1.2->llama-index-embeddings-clip)\n",
            "  Using cached nvidia_cuda_runtime_cu12-12.1.105-py3-none-manylinux1_x86_64.whl (823 kB)\n",
            "Collecting nvidia-cuda-cupti-cu12==12.1.105 (from torch<3.0.0,>=2.1.2->llama-index-embeddings-clip)\n",
            "  Using cached nvidia_cuda_cupti_cu12-12.1.105-py3-none-manylinux1_x86_64.whl (14.1 MB)\n",
            "Collecting nvidia-cudnn-cu12==8.9.2.26 (from torch<3.0.0,>=2.1.2->llama-index-embeddings-clip)\n",
            "  Using cached nvidia_cudnn_cu12-8.9.2.26-py3-none-manylinux1_x86_64.whl (731.7 MB)\n",
            "Collecting nvidia-cublas-cu12==12.1.3.1 (from torch<3.0.0,>=2.1.2->llama-index-embeddings-clip)\n",
            "  Using cached nvidia_cublas_cu12-12.1.3.1-py3-none-manylinux1_x86_64.whl (410.6 MB)\n",
            "Collecting nvidia-cufft-cu12==11.0.2.54 (from torch<3.0.0,>=2.1.2->llama-index-embeddings-clip)\n",
            "  Using cached nvidia_cufft_cu12-11.0.2.54-py3-none-manylinux1_x86_64.whl (121.6 MB)\n",
            "Collecting nvidia-curand-cu12==10.3.2.106 (from torch<3.0.0,>=2.1.2->llama-index-embeddings-clip)\n",
            "  Using cached nvidia_curand_cu12-10.3.2.106-py3-none-manylinux1_x86_64.whl (56.5 MB)\n",
            "Collecting nvidia-cusolver-cu12==11.4.5.107 (from torch<3.0.0,>=2.1.2->llama-index-embeddings-clip)\n",
            "  Using cached nvidia_cusolver_cu12-11.4.5.107-py3-none-manylinux1_x86_64.whl (124.2 MB)\n",
            "Collecting nvidia-cusparse-cu12==12.1.0.106 (from torch<3.0.0,>=2.1.2->llama-index-embeddings-clip)\n",
            "  Using cached nvidia_cusparse_cu12-12.1.0.106-py3-none-manylinux1_x86_64.whl (196.0 MB)\n",
            "Collecting nvidia-nccl-cu12==2.19.3 (from torch<3.0.0,>=2.1.2->llama-index-embeddings-clip)\n",
            "  Using cached nvidia_nccl_cu12-2.19.3-py3-none-manylinux1_x86_64.whl (166.0 MB)\n",
            "Collecting nvidia-nvtx-cu12==12.1.105 (from torch<3.0.0,>=2.1.2->llama-index-embeddings-clip)\n",
            "  Using cached nvidia_nvtx_cu12-12.1.105-py3-none-manylinux1_x86_64.whl (99 kB)\n",
            "Requirement already satisfied: triton==2.2.0 in /usr/local/lib/python3.10/dist-packages (from torch<3.0.0,>=2.1.2->llama-index-embeddings-clip) (2.2.0)\n",
            "Collecting nvidia-nvjitlink-cu12 (from nvidia-cusolver-cu12==11.4.5.107->torch<3.0.0,>=2.1.2->llama-index-embeddings-clip)\n",
            "  Using cached nvidia_nvjitlink_cu12-12.4.127-py3-none-manylinux2014_x86_64.whl (21.1 MB)\n",
            "Requirement already satisfied: aiosignal>=1.1.2 in /usr/local/lib/python3.10/dist-packages (from aiohttp<4.0.0,>=3.8.6->llama-index-core<0.11.0,>=0.10.1->llama-index-embeddings-clip) (1.3.1)\n",
            "Requirement already satisfied: attrs>=17.3.0 in /usr/local/lib/python3.10/dist-packages (from aiohttp<4.0.0,>=3.8.6->llama-index-core<0.11.0,>=0.10.1->llama-index-embeddings-clip) (23.2.0)\n",
            "Requirement already satisfied: frozenlist>=1.1.1 in /usr/local/lib/python3.10/dist-packages (from aiohttp<4.0.0,>=3.8.6->llama-index-core<0.11.0,>=0.10.1->llama-index-embeddings-clip) (1.4.1)\n",
            "Requirement already satisfied: multidict<7.0,>=4.5 in /usr/local/lib/python3.10/dist-packages (from aiohttp<4.0.0,>=3.8.6->llama-index-core<0.11.0,>=0.10.1->llama-index-embeddings-clip) (6.0.5)\n",
            "Requirement already satisfied: yarl<2.0,>=1.0 in /usr/local/lib/python3.10/dist-packages (from aiohttp<4.0.0,>=3.8.6->llama-index-core<0.11.0,>=0.10.1->llama-index-embeddings-clip) (1.9.4)\n",
            "Requirement already satisfied: async-timeout<5.0,>=4.0 in /usr/local/lib/python3.10/dist-packages (from aiohttp<4.0.0,>=3.8.6->llama-index-core<0.11.0,>=0.10.1->llama-index-embeddings-clip) (4.0.3)\n",
            "Requirement already satisfied: pydantic>=1.10 in /usr/local/lib/python3.10/dist-packages (from llamaindex-py-client<0.2.0,>=0.1.18->llama-index-core<0.11.0,>=0.10.1->llama-index-embeddings-clip) (2.6.4)\n",
            "Requirement already satisfied: anyio in /usr/local/lib/python3.10/dist-packages (from httpx->llama-index-core<0.11.0,>=0.10.1->llama-index-embeddings-clip) (3.7.1)\n",
            "Requirement already satisfied: certifi in /usr/local/lib/python3.10/dist-packages (from httpx->llama-index-core<0.11.0,>=0.10.1->llama-index-embeddings-clip) (2024.2.2)\n",
            "Requirement already satisfied: httpcore==1.* in /usr/local/lib/python3.10/dist-packages (from httpx->llama-index-core<0.11.0,>=0.10.1->llama-index-embeddings-clip) (1.0.5)\n",
            "Requirement already satisfied: idna in /usr/local/lib/python3.10/dist-packages (from httpx->llama-index-core<0.11.0,>=0.10.1->llama-index-embeddings-clip) (3.6)\n",
            "Requirement already satisfied: sniffio in /usr/local/lib/python3.10/dist-packages (from httpx->llama-index-core<0.11.0,>=0.10.1->llama-index-embeddings-clip) (1.3.1)\n",
            "Requirement already satisfied: h11<0.15,>=0.13 in /usr/local/lib/python3.10/dist-packages (from httpcore==1.*->httpx->llama-index-core<0.11.0,>=0.10.1->llama-index-embeddings-clip) (0.14.0)\n",
            "Requirement already satisfied: click in /usr/local/lib/python3.10/dist-packages (from nltk<4.0.0,>=3.8.1->llama-index-core<0.11.0,>=0.10.1->llama-index-embeddings-clip) (8.1.7)\n",
            "Requirement already satisfied: joblib in /usr/local/lib/python3.10/dist-packages (from nltk<4.0.0,>=3.8.1->llama-index-core<0.11.0,>=0.10.1->llama-index-embeddings-clip) (1.4.0)\n",
            "Requirement already satisfied: regex>=2021.8.3 in /usr/local/lib/python3.10/dist-packages (from nltk<4.0.0,>=3.8.1->llama-index-core<0.11.0,>=0.10.1->llama-index-embeddings-clip) (2023.12.25)\n",
            "Requirement already satisfied: distro<2,>=1.7.0 in /usr/lib/python3/dist-packages (from openai>=1.1.0->llama-index-core<0.11.0,>=0.10.1->llama-index-embeddings-clip) (1.7.0)\n",
            "Requirement already satisfied: charset-normalizer<4,>=2 in /usr/local/lib/python3.10/dist-packages (from requests>=2.31.0->llama-index-core<0.11.0,>=0.10.1->llama-index-embeddings-clip) (3.3.2)\n",
            "Requirement already satisfied: urllib3<3,>=1.21.1 in /usr/local/lib/python3.10/dist-packages (from requests>=2.31.0->llama-index-core<0.11.0,>=0.10.1->llama-index-embeddings-clip) (2.0.7)\n",
            "Requirement already satisfied: greenlet!=0.4.17 in /usr/local/lib/python3.10/dist-packages (from SQLAlchemy[asyncio]>=1.4.49->llama-index-core<0.11.0,>=0.10.1->llama-index-embeddings-clip) (3.0.3)\n",
            "Requirement already satisfied: mypy-extensions>=0.3.0 in /usr/local/lib/python3.10/dist-packages (from typing-inspect>=0.8.0->llama-index-core<0.11.0,>=0.10.1->llama-index-embeddings-clip) (1.0.0)\n",
            "Requirement already satisfied: marshmallow<4.0.0,>=3.18.0 in /usr/local/lib/python3.10/dist-packages (from dataclasses-json->llama-index-core<0.11.0,>=0.10.1->llama-index-embeddings-clip) (3.21.1)\n",
            "Requirement already satisfied: MarkupSafe>=2.0 in /usr/local/lib/python3.10/dist-packages (from jinja2->torch<3.0.0,>=2.1.2->llama-index-embeddings-clip) (2.1.5)\n",
            "Requirement already satisfied: python-dateutil>=2.8.2 in /usr/local/lib/python3.10/dist-packages (from pandas->llama-index-core<0.11.0,>=0.10.1->llama-index-embeddings-clip) (2.8.2)\n",
            "Requirement already satisfied: pytz>=2020.1 in /usr/local/lib/python3.10/dist-packages (from pandas->llama-index-core<0.11.0,>=0.10.1->llama-index-embeddings-clip) (2023.4)\n",
            "Requirement already satisfied: tzdata>=2022.1 in /usr/local/lib/python3.10/dist-packages (from pandas->llama-index-core<0.11.0,>=0.10.1->llama-index-embeddings-clip) (2024.1)\n",
            "Requirement already satisfied: mpmath>=0.19 in /usr/local/lib/python3.10/dist-packages (from sympy->torch<3.0.0,>=2.1.2->llama-index-embeddings-clip) (1.3.0)\n",
            "Requirement already satisfied: exceptiongroup in /usr/local/lib/python3.10/dist-packages (from anyio->httpx->llama-index-core<0.11.0,>=0.10.1->llama-index-embeddings-clip) (1.2.0)\n",
            "Requirement already satisfied: packaging>=17.0 in /usr/local/lib/python3.10/dist-packages (from marshmallow<4.0.0,>=3.18.0->dataclasses-json->llama-index-core<0.11.0,>=0.10.1->llama-index-embeddings-clip) (24.0)\n",
            "Requirement already satisfied: annotated-types>=0.4.0 in /usr/local/lib/python3.10/dist-packages (from pydantic>=1.10->llamaindex-py-client<0.2.0,>=0.1.18->llama-index-core<0.11.0,>=0.10.1->llama-index-embeddings-clip) (0.6.0)\n",
            "Requirement already satisfied: pydantic-core==2.16.3 in /usr/local/lib/python3.10/dist-packages (from pydantic>=1.10->llamaindex-py-client<0.2.0,>=0.1.18->llama-index-core<0.11.0,>=0.10.1->llama-index-embeddings-clip) (2.16.3)\n",
            "Requirement already satisfied: six>=1.5 in /usr/local/lib/python3.10/dist-packages (from python-dateutil>=2.8.2->pandas->llama-index-core<0.11.0,>=0.10.1->llama-index-embeddings-clip) (1.16.0)\n",
            "Installing collected packages: pillow, nvidia-nvtx-cu12, nvidia-nvjitlink-cu12, nvidia-nccl-cu12, nvidia-curand-cu12, nvidia-cufft-cu12, nvidia-cuda-runtime-cu12, nvidia-cuda-nvrtc-cu12, nvidia-cuda-cupti-cu12, nvidia-cublas-cu12, ftfy, nvidia-cusparse-cu12, nvidia-cudnn-cu12, nvidia-cusolver-cu12, llama-index-embeddings-clip\n",
            "  Attempting uninstall: pillow\n",
            "    Found existing installation: Pillow 9.4.0\n",
            "    Uninstalling Pillow-9.4.0:\n",
            "      Successfully uninstalled Pillow-9.4.0\n",
            "\u001b[31mERROR: pip's dependency resolver does not currently take into account all the packages that are installed. This behaviour is the source of the following dependency conflicts.\n",
            "imageio 2.31.6 requires pillow<10.1.0,>=8.3.2, but you have pillow 10.3.0 which is incompatible.\u001b[0m\u001b[31m\n",
            "\u001b[0mSuccessfully installed ftfy-6.2.0 llama-index-embeddings-clip-0.1.5 nvidia-cublas-cu12-12.1.3.1 nvidia-cuda-cupti-cu12-12.1.105 nvidia-cuda-nvrtc-cu12-12.1.105 nvidia-cuda-runtime-cu12-12.1.105 nvidia-cudnn-cu12-8.9.2.26 nvidia-cufft-cu12-11.0.2.54 nvidia-curand-cu12-10.3.2.106 nvidia-cusolver-cu12-11.4.5.107 nvidia-cusparse-cu12-12.1.0.106 nvidia-nccl-cu12-2.19.3 nvidia-nvjitlink-cu12-12.4.127 nvidia-nvtx-cu12-12.1.105 pillow-10.3.0\n"
          ]
        },
        {
          "output_type": "display_data",
          "data": {
            "application/vnd.colab-display-data+json": {
              "pip_warning": {
                "packages": [
                  "PIL"
                ]
              },
              "id": "26651c4565934107af742103d384c0d4"
            }
          },
          "metadata": {}
        }
      ]
    },
    {
      "cell_type": "code",
      "source": [
        "%pip install llama_index ftfy regex tqdm\n",
        "%pip install -U openai-whisper\n",
        "%pip install git+https://github.com/openai/CLIP.git\n",
        "%pip install torch torchvision\n",
        "%pip install matplotlib scikit-image\n",
        "%pip install lancedb\n",
        "%pip install moviepy\n",
        "%pip install pytube\n",
        "%pip install pydub\n",
        "%pip install SpeechRecognition\n",
        "%pip install ffmpeg-python\n",
        "%pip install soundfile"
      ],
      "metadata": {
        "colab": {
          "base_uri": "https://localhost:8080/"
        },
        "id": "NwSkX7yVA7D9",
        "outputId": "7a35ff94-6bbf-41bb-c283-723712f0a544"
      },
      "execution_count": 1,
      "outputs": [
        {
          "output_type": "stream",
          "name": "stdout",
          "text": [
            "Requirement already satisfied: llama_index in /usr/local/lib/python3.10/dist-packages (0.10.28)\n",
            "Requirement already satisfied: ftfy in /usr/local/lib/python3.10/dist-packages (6.2.0)\n",
            "Requirement already satisfied: regex in /usr/local/lib/python3.10/dist-packages (2023.12.25)\n",
            "Requirement already satisfied: tqdm in /usr/local/lib/python3.10/dist-packages (4.66.2)\n",
            "Requirement already satisfied: llama-index-agent-openai<0.3.0,>=0.1.4 in /usr/local/lib/python3.10/dist-packages (from llama_index) (0.2.2)\n",
            "Requirement already satisfied: llama-index-cli<0.2.0,>=0.1.2 in /usr/local/lib/python3.10/dist-packages (from llama_index) (0.1.11)\n",
            "Requirement already satisfied: llama-index-core<0.11.0,>=0.10.28 in /usr/local/lib/python3.10/dist-packages (from llama_index) (0.10.29)\n",
            "Requirement already satisfied: llama-index-embeddings-openai<0.2.0,>=0.1.5 in /usr/local/lib/python3.10/dist-packages (from llama_index) (0.1.7)\n",
            "Requirement already satisfied: llama-index-indices-managed-llama-cloud<0.2.0,>=0.1.2 in /usr/local/lib/python3.10/dist-packages (from llama_index) (0.1.5)\n",
            "Requirement already satisfied: llama-index-legacy<0.10.0,>=0.9.48 in /usr/local/lib/python3.10/dist-packages (from llama_index) (0.9.48)\n",
            "Requirement already satisfied: llama-index-llms-openai<0.2.0,>=0.1.13 in /usr/local/lib/python3.10/dist-packages (from llama_index) (0.1.15)\n",
            "Requirement already satisfied: llama-index-multi-modal-llms-openai<0.2.0,>=0.1.3 in /usr/local/lib/python3.10/dist-packages (from llama_index) (0.1.5)\n",
            "Requirement already satisfied: llama-index-program-openai<0.2.0,>=0.1.3 in /usr/local/lib/python3.10/dist-packages (from llama_index) (0.1.5)\n",
            "Requirement already satisfied: llama-index-question-gen-openai<0.2.0,>=0.1.2 in /usr/local/lib/python3.10/dist-packages (from llama_index) (0.1.3)\n",
            "Requirement already satisfied: llama-index-readers-file<0.2.0,>=0.1.4 in /usr/local/lib/python3.10/dist-packages (from llama_index) (0.1.17)\n",
            "Requirement already satisfied: llama-index-readers-llama-parse<0.2.0,>=0.1.2 in /usr/local/lib/python3.10/dist-packages (from llama_index) (0.1.4)\n",
            "Requirement already satisfied: wcwidth<0.3.0,>=0.2.12 in /usr/local/lib/python3.10/dist-packages (from ftfy) (0.2.13)\n",
            "Requirement already satisfied: openai>=1.14.0 in /usr/local/lib/python3.10/dist-packages (from llama-index-agent-openai<0.3.0,>=0.1.4->llama_index) (1.17.1)\n",
            "Requirement already satisfied: PyYAML>=6.0.1 in /usr/local/lib/python3.10/dist-packages (from llama-index-core<0.11.0,>=0.10.28->llama_index) (6.0.1)\n",
            "Requirement already satisfied: SQLAlchemy[asyncio]>=1.4.49 in /usr/local/lib/python3.10/dist-packages (from llama-index-core<0.11.0,>=0.10.28->llama_index) (2.0.29)\n",
            "Requirement already satisfied: aiohttp<4.0.0,>=3.8.6 in /usr/local/lib/python3.10/dist-packages (from llama-index-core<0.11.0,>=0.10.28->llama_index) (3.9.3)\n",
            "Requirement already satisfied: dataclasses-json in /usr/local/lib/python3.10/dist-packages (from llama-index-core<0.11.0,>=0.10.28->llama_index) (0.6.4)\n",
            "Requirement already satisfied: deprecated>=1.2.9.3 in /usr/local/lib/python3.10/dist-packages (from llama-index-core<0.11.0,>=0.10.28->llama_index) (1.2.14)\n",
            "Requirement already satisfied: dirtyjson<2.0.0,>=1.0.8 in /usr/local/lib/python3.10/dist-packages (from llama-index-core<0.11.0,>=0.10.28->llama_index) (1.0.8)\n",
            "Requirement already satisfied: fsspec>=2023.5.0 in /usr/local/lib/python3.10/dist-packages (from llama-index-core<0.11.0,>=0.10.28->llama_index) (2023.6.0)\n",
            "Requirement already satisfied: httpx in /usr/local/lib/python3.10/dist-packages (from llama-index-core<0.11.0,>=0.10.28->llama_index) (0.27.0)\n",
            "Requirement already satisfied: llamaindex-py-client<0.2.0,>=0.1.18 in /usr/local/lib/python3.10/dist-packages (from llama-index-core<0.11.0,>=0.10.28->llama_index) (0.1.18)\n",
            "Requirement already satisfied: nest-asyncio<2.0.0,>=1.5.8 in /usr/local/lib/python3.10/dist-packages (from llama-index-core<0.11.0,>=0.10.28->llama_index) (1.6.0)\n",
            "Requirement already satisfied: networkx>=3.0 in /usr/local/lib/python3.10/dist-packages (from llama-index-core<0.11.0,>=0.10.28->llama_index) (3.3)\n",
            "Requirement already satisfied: nltk<4.0.0,>=3.8.1 in /usr/local/lib/python3.10/dist-packages (from llama-index-core<0.11.0,>=0.10.28->llama_index) (3.8.1)\n",
            "Requirement already satisfied: numpy in /usr/local/lib/python3.10/dist-packages (from llama-index-core<0.11.0,>=0.10.28->llama_index) (1.25.2)\n",
            "Requirement already satisfied: pandas in /usr/local/lib/python3.10/dist-packages (from llama-index-core<0.11.0,>=0.10.28->llama_index) (2.0.3)\n",
            "Requirement already satisfied: pillow>=9.0.0 in /usr/local/lib/python3.10/dist-packages (from llama-index-core<0.11.0,>=0.10.28->llama_index) (10.0.1)\n",
            "Requirement already satisfied: requests>=2.31.0 in /usr/local/lib/python3.10/dist-packages (from llama-index-core<0.11.0,>=0.10.28->llama_index) (2.31.0)\n",
            "Requirement already satisfied: tenacity<9.0.0,>=8.2.0 in /usr/local/lib/python3.10/dist-packages (from llama-index-core<0.11.0,>=0.10.28->llama_index) (8.2.3)\n",
            "Requirement already satisfied: tiktoken>=0.3.3 in /usr/local/lib/python3.10/dist-packages (from llama-index-core<0.11.0,>=0.10.28->llama_index) (0.6.0)\n",
            "Requirement already satisfied: typing-extensions>=4.5.0 in /usr/local/lib/python3.10/dist-packages (from llama-index-core<0.11.0,>=0.10.28->llama_index) (4.11.0)\n",
            "Requirement already satisfied: typing-inspect>=0.8.0 in /usr/local/lib/python3.10/dist-packages (from llama-index-core<0.11.0,>=0.10.28->llama_index) (0.9.0)\n",
            "Requirement already satisfied: wrapt in /usr/local/lib/python3.10/dist-packages (from llama-index-core<0.11.0,>=0.10.28->llama_index) (1.14.1)\n",
            "Requirement already satisfied: beautifulsoup4<5.0.0,>=4.12.3 in /usr/local/lib/python3.10/dist-packages (from llama-index-readers-file<0.2.0,>=0.1.4->llama_index) (4.12.3)\n",
            "Requirement already satisfied: pypdf<5.0.0,>=4.0.1 in /usr/local/lib/python3.10/dist-packages (from llama-index-readers-file<0.2.0,>=0.1.4->llama_index) (4.2.0)\n",
            "Requirement already satisfied: striprtf<0.0.27,>=0.0.26 in /usr/local/lib/python3.10/dist-packages (from llama-index-readers-file<0.2.0,>=0.1.4->llama_index) (0.0.26)\n",
            "Requirement already satisfied: llama-parse<0.5.0,>=0.4.0 in /usr/local/lib/python3.10/dist-packages (from llama-index-readers-llama-parse<0.2.0,>=0.1.2->llama_index) (0.4.0)\n",
            "Requirement already satisfied: aiosignal>=1.1.2 in /usr/local/lib/python3.10/dist-packages (from aiohttp<4.0.0,>=3.8.6->llama-index-core<0.11.0,>=0.10.28->llama_index) (1.3.1)\n",
            "Requirement already satisfied: attrs>=17.3.0 in /usr/local/lib/python3.10/dist-packages (from aiohttp<4.0.0,>=3.8.6->llama-index-core<0.11.0,>=0.10.28->llama_index) (23.2.0)\n",
            "Requirement already satisfied: frozenlist>=1.1.1 in /usr/local/lib/python3.10/dist-packages (from aiohttp<4.0.0,>=3.8.6->llama-index-core<0.11.0,>=0.10.28->llama_index) (1.4.1)\n",
            "Requirement already satisfied: multidict<7.0,>=4.5 in /usr/local/lib/python3.10/dist-packages (from aiohttp<4.0.0,>=3.8.6->llama-index-core<0.11.0,>=0.10.28->llama_index) (6.0.5)\n",
            "Requirement already satisfied: yarl<2.0,>=1.0 in /usr/local/lib/python3.10/dist-packages (from aiohttp<4.0.0,>=3.8.6->llama-index-core<0.11.0,>=0.10.28->llama_index) (1.9.4)\n",
            "Requirement already satisfied: async-timeout<5.0,>=4.0 in /usr/local/lib/python3.10/dist-packages (from aiohttp<4.0.0,>=3.8.6->llama-index-core<0.11.0,>=0.10.28->llama_index) (4.0.3)\n",
            "Requirement already satisfied: soupsieve>1.2 in /usr/local/lib/python3.10/dist-packages (from beautifulsoup4<5.0.0,>=4.12.3->llama-index-readers-file<0.2.0,>=0.1.4->llama_index) (2.5)\n",
            "Requirement already satisfied: pydantic>=1.10 in /usr/local/lib/python3.10/dist-packages (from llamaindex-py-client<0.2.0,>=0.1.18->llama-index-core<0.11.0,>=0.10.28->llama_index) (2.6.4)\n",
            "Requirement already satisfied: anyio in /usr/local/lib/python3.10/dist-packages (from httpx->llama-index-core<0.11.0,>=0.10.28->llama_index) (3.7.1)\n",
            "Requirement already satisfied: certifi in /usr/local/lib/python3.10/dist-packages (from httpx->llama-index-core<0.11.0,>=0.10.28->llama_index) (2024.2.2)\n",
            "Requirement already satisfied: httpcore==1.* in /usr/local/lib/python3.10/dist-packages (from httpx->llama-index-core<0.11.0,>=0.10.28->llama_index) (1.0.5)\n",
            "Requirement already satisfied: idna in /usr/local/lib/python3.10/dist-packages (from httpx->llama-index-core<0.11.0,>=0.10.28->llama_index) (3.6)\n",
            "Requirement already satisfied: sniffio in /usr/local/lib/python3.10/dist-packages (from httpx->llama-index-core<0.11.0,>=0.10.28->llama_index) (1.3.1)\n",
            "Requirement already satisfied: h11<0.15,>=0.13 in /usr/local/lib/python3.10/dist-packages (from httpcore==1.*->httpx->llama-index-core<0.11.0,>=0.10.28->llama_index) (0.14.0)\n",
            "Requirement already satisfied: click in /usr/local/lib/python3.10/dist-packages (from nltk<4.0.0,>=3.8.1->llama-index-core<0.11.0,>=0.10.28->llama_index) (8.1.7)\n",
            "Requirement already satisfied: joblib in /usr/local/lib/python3.10/dist-packages (from nltk<4.0.0,>=3.8.1->llama-index-core<0.11.0,>=0.10.28->llama_index) (1.4.0)\n",
            "Requirement already satisfied: distro<2,>=1.7.0 in /usr/lib/python3/dist-packages (from openai>=1.14.0->llama-index-agent-openai<0.3.0,>=0.1.4->llama_index) (1.7.0)\n",
            "Requirement already satisfied: charset-normalizer<4,>=2 in /usr/local/lib/python3.10/dist-packages (from requests>=2.31.0->llama-index-core<0.11.0,>=0.10.28->llama_index) (3.3.2)\n",
            "Requirement already satisfied: urllib3<3,>=1.21.1 in /usr/local/lib/python3.10/dist-packages (from requests>=2.31.0->llama-index-core<0.11.0,>=0.10.28->llama_index) (2.0.7)\n",
            "Requirement already satisfied: greenlet!=0.4.17 in /usr/local/lib/python3.10/dist-packages (from SQLAlchemy[asyncio]>=1.4.49->llama-index-core<0.11.0,>=0.10.28->llama_index) (3.0.3)\n",
            "Requirement already satisfied: mypy-extensions>=0.3.0 in /usr/local/lib/python3.10/dist-packages (from typing-inspect>=0.8.0->llama-index-core<0.11.0,>=0.10.28->llama_index) (1.0.0)\n",
            "Requirement already satisfied: marshmallow<4.0.0,>=3.18.0 in /usr/local/lib/python3.10/dist-packages (from dataclasses-json->llama-index-core<0.11.0,>=0.10.28->llama_index) (3.21.1)\n",
            "Requirement already satisfied: python-dateutil>=2.8.2 in /usr/local/lib/python3.10/dist-packages (from pandas->llama-index-core<0.11.0,>=0.10.28->llama_index) (2.8.2)\n",
            "Requirement already satisfied: pytz>=2020.1 in /usr/local/lib/python3.10/dist-packages (from pandas->llama-index-core<0.11.0,>=0.10.28->llama_index) (2023.4)\n",
            "Requirement already satisfied: tzdata>=2022.1 in /usr/local/lib/python3.10/dist-packages (from pandas->llama-index-core<0.11.0,>=0.10.28->llama_index) (2024.1)\n",
            "Requirement already satisfied: exceptiongroup in /usr/local/lib/python3.10/dist-packages (from anyio->httpx->llama-index-core<0.11.0,>=0.10.28->llama_index) (1.2.0)\n",
            "Requirement already satisfied: packaging>=17.0 in /usr/local/lib/python3.10/dist-packages (from marshmallow<4.0.0,>=3.18.0->dataclasses-json->llama-index-core<0.11.0,>=0.10.28->llama_index) (24.0)\n",
            "Requirement already satisfied: annotated-types>=0.4.0 in /usr/local/lib/python3.10/dist-packages (from pydantic>=1.10->llamaindex-py-client<0.2.0,>=0.1.18->llama-index-core<0.11.0,>=0.10.28->llama_index) (0.6.0)\n",
            "Requirement already satisfied: pydantic-core==2.16.3 in /usr/local/lib/python3.10/dist-packages (from pydantic>=1.10->llamaindex-py-client<0.2.0,>=0.1.18->llama-index-core<0.11.0,>=0.10.28->llama_index) (2.16.3)\n",
            "Requirement already satisfied: six>=1.5 in /usr/local/lib/python3.10/dist-packages (from python-dateutil>=2.8.2->pandas->llama-index-core<0.11.0,>=0.10.28->llama_index) (1.16.0)\n",
            "Requirement already satisfied: openai-whisper in /usr/local/lib/python3.10/dist-packages (20231117)\n",
            "Requirement already satisfied: triton<3,>=2.0.0 in /usr/local/lib/python3.10/dist-packages (from openai-whisper) (2.2.0)\n",
            "Requirement already satisfied: numba in /usr/local/lib/python3.10/dist-packages (from openai-whisper) (0.58.1)\n",
            "Requirement already satisfied: numpy in /usr/local/lib/python3.10/dist-packages (from openai-whisper) (1.25.2)\n",
            "Requirement already satisfied: torch in /usr/local/lib/python3.10/dist-packages (from openai-whisper) (2.2.1+cu121)\n",
            "Requirement already satisfied: tqdm in /usr/local/lib/python3.10/dist-packages (from openai-whisper) (4.66.2)\n",
            "Requirement already satisfied: more-itertools in /usr/local/lib/python3.10/dist-packages (from openai-whisper) (10.1.0)\n",
            "Requirement already satisfied: tiktoken in /usr/local/lib/python3.10/dist-packages (from openai-whisper) (0.6.0)\n",
            "Requirement already satisfied: filelock in /usr/local/lib/python3.10/dist-packages (from triton<3,>=2.0.0->openai-whisper) (3.13.4)\n",
            "Requirement already satisfied: llvmlite<0.42,>=0.41.0dev0 in /usr/local/lib/python3.10/dist-packages (from numba->openai-whisper) (0.41.1)\n",
            "Requirement already satisfied: regex>=2022.1.18 in /usr/local/lib/python3.10/dist-packages (from tiktoken->openai-whisper) (2023.12.25)\n",
            "Requirement already satisfied: requests>=2.26.0 in /usr/local/lib/python3.10/dist-packages (from tiktoken->openai-whisper) (2.31.0)\n",
            "Requirement already satisfied: typing-extensions>=4.8.0 in /usr/local/lib/python3.10/dist-packages (from torch->openai-whisper) (4.11.0)\n",
            "Requirement already satisfied: sympy in /usr/local/lib/python3.10/dist-packages (from torch->openai-whisper) (1.12)\n",
            "Requirement already satisfied: networkx in /usr/local/lib/python3.10/dist-packages (from torch->openai-whisper) (3.3)\n",
            "Requirement already satisfied: jinja2 in /usr/local/lib/python3.10/dist-packages (from torch->openai-whisper) (3.1.3)\n",
            "Requirement already satisfied: fsspec in /usr/local/lib/python3.10/dist-packages (from torch->openai-whisper) (2023.6.0)\n",
            "Requirement already satisfied: nvidia-cuda-nvrtc-cu12==12.1.105 in /usr/local/lib/python3.10/dist-packages (from torch->openai-whisper) (12.1.105)\n",
            "Requirement already satisfied: nvidia-cuda-runtime-cu12==12.1.105 in /usr/local/lib/python3.10/dist-packages (from torch->openai-whisper) (12.1.105)\n",
            "Requirement already satisfied: nvidia-cuda-cupti-cu12==12.1.105 in /usr/local/lib/python3.10/dist-packages (from torch->openai-whisper) (12.1.105)\n",
            "Requirement already satisfied: nvidia-cudnn-cu12==8.9.2.26 in /usr/local/lib/python3.10/dist-packages (from torch->openai-whisper) (8.9.2.26)\n",
            "Requirement already satisfied: nvidia-cublas-cu12==12.1.3.1 in /usr/local/lib/python3.10/dist-packages (from torch->openai-whisper) (12.1.3.1)\n",
            "Requirement already satisfied: nvidia-cufft-cu12==11.0.2.54 in /usr/local/lib/python3.10/dist-packages (from torch->openai-whisper) (11.0.2.54)\n",
            "Requirement already satisfied: nvidia-curand-cu12==10.3.2.106 in /usr/local/lib/python3.10/dist-packages (from torch->openai-whisper) (10.3.2.106)\n",
            "Requirement already satisfied: nvidia-cusolver-cu12==11.4.5.107 in /usr/local/lib/python3.10/dist-packages (from torch->openai-whisper) (11.4.5.107)\n",
            "Requirement already satisfied: nvidia-cusparse-cu12==12.1.0.106 in /usr/local/lib/python3.10/dist-packages (from torch->openai-whisper) (12.1.0.106)\n",
            "Requirement already satisfied: nvidia-nccl-cu12==2.19.3 in /usr/local/lib/python3.10/dist-packages (from torch->openai-whisper) (2.19.3)\n",
            "Requirement already satisfied: nvidia-nvtx-cu12==12.1.105 in /usr/local/lib/python3.10/dist-packages (from torch->openai-whisper) (12.1.105)\n",
            "Requirement already satisfied: nvidia-nvjitlink-cu12 in /usr/local/lib/python3.10/dist-packages (from nvidia-cusolver-cu12==11.4.5.107->torch->openai-whisper) (12.4.127)\n",
            "Requirement already satisfied: charset-normalizer<4,>=2 in /usr/local/lib/python3.10/dist-packages (from requests>=2.26.0->tiktoken->openai-whisper) (3.3.2)\n",
            "Requirement already satisfied: idna<4,>=2.5 in /usr/local/lib/python3.10/dist-packages (from requests>=2.26.0->tiktoken->openai-whisper) (3.6)\n",
            "Requirement already satisfied: urllib3<3,>=1.21.1 in /usr/local/lib/python3.10/dist-packages (from requests>=2.26.0->tiktoken->openai-whisper) (2.0.7)\n",
            "Requirement already satisfied: certifi>=2017.4.17 in /usr/local/lib/python3.10/dist-packages (from requests>=2.26.0->tiktoken->openai-whisper) (2024.2.2)\n",
            "Requirement already satisfied: MarkupSafe>=2.0 in /usr/local/lib/python3.10/dist-packages (from jinja2->torch->openai-whisper) (2.1.5)\n",
            "Requirement already satisfied: mpmath>=0.19 in /usr/local/lib/python3.10/dist-packages (from sympy->torch->openai-whisper) (1.3.0)\n",
            "Collecting git+https://github.com/openai/CLIP.git\n",
            "  Cloning https://github.com/openai/CLIP.git to /tmp/pip-req-build-c4yw5ayg\n",
            "  Running command git clone --filter=blob:none --quiet https://github.com/openai/CLIP.git /tmp/pip-req-build-c4yw5ayg\n",
            "  Resolved https://github.com/openai/CLIP.git to commit a1d071733d7111c9c014f024669f959182114e33\n",
            "  Preparing metadata (setup.py) ... \u001b[?25l\u001b[?25hdone\n",
            "Requirement already satisfied: ftfy in /usr/local/lib/python3.10/dist-packages (from clip==1.0) (6.2.0)\n",
            "Requirement already satisfied: regex in /usr/local/lib/python3.10/dist-packages (from clip==1.0) (2023.12.25)\n",
            "Requirement already satisfied: tqdm in /usr/local/lib/python3.10/dist-packages (from clip==1.0) (4.66.2)\n",
            "Requirement already satisfied: torch in /usr/local/lib/python3.10/dist-packages (from clip==1.0) (2.2.1+cu121)\n",
            "Requirement already satisfied: torchvision in /usr/local/lib/python3.10/dist-packages (from clip==1.0) (0.17.1+cu121)\n",
            "Requirement already satisfied: wcwidth<0.3.0,>=0.2.12 in /usr/local/lib/python3.10/dist-packages (from ftfy->clip==1.0) (0.2.13)\n",
            "Requirement already satisfied: filelock in /usr/local/lib/python3.10/dist-packages (from torch->clip==1.0) (3.13.4)\n",
            "Requirement already satisfied: typing-extensions>=4.8.0 in /usr/local/lib/python3.10/dist-packages (from torch->clip==1.0) (4.11.0)\n",
            "Requirement already satisfied: sympy in /usr/local/lib/python3.10/dist-packages (from torch->clip==1.0) (1.12)\n",
            "Requirement already satisfied: networkx in /usr/local/lib/python3.10/dist-packages (from torch->clip==1.0) (3.3)\n",
            "Requirement already satisfied: jinja2 in /usr/local/lib/python3.10/dist-packages (from torch->clip==1.0) (3.1.3)\n",
            "Requirement already satisfied: fsspec in /usr/local/lib/python3.10/dist-packages (from torch->clip==1.0) (2023.6.0)\n",
            "Requirement already satisfied: nvidia-cuda-nvrtc-cu12==12.1.105 in /usr/local/lib/python3.10/dist-packages (from torch->clip==1.0) (12.1.105)\n",
            "Requirement already satisfied: nvidia-cuda-runtime-cu12==12.1.105 in /usr/local/lib/python3.10/dist-packages (from torch->clip==1.0) (12.1.105)\n",
            "Requirement already satisfied: nvidia-cuda-cupti-cu12==12.1.105 in /usr/local/lib/python3.10/dist-packages (from torch->clip==1.0) (12.1.105)\n",
            "Requirement already satisfied: nvidia-cudnn-cu12==8.9.2.26 in /usr/local/lib/python3.10/dist-packages (from torch->clip==1.0) (8.9.2.26)\n",
            "Requirement already satisfied: nvidia-cublas-cu12==12.1.3.1 in /usr/local/lib/python3.10/dist-packages (from torch->clip==1.0) (12.1.3.1)\n",
            "Requirement already satisfied: nvidia-cufft-cu12==11.0.2.54 in /usr/local/lib/python3.10/dist-packages (from torch->clip==1.0) (11.0.2.54)\n",
            "Requirement already satisfied: nvidia-curand-cu12==10.3.2.106 in /usr/local/lib/python3.10/dist-packages (from torch->clip==1.0) (10.3.2.106)\n",
            "Requirement already satisfied: nvidia-cusolver-cu12==11.4.5.107 in /usr/local/lib/python3.10/dist-packages (from torch->clip==1.0) (11.4.5.107)\n",
            "Requirement already satisfied: nvidia-cusparse-cu12==12.1.0.106 in /usr/local/lib/python3.10/dist-packages (from torch->clip==1.0) (12.1.0.106)\n",
            "Requirement already satisfied: nvidia-nccl-cu12==2.19.3 in /usr/local/lib/python3.10/dist-packages (from torch->clip==1.0) (2.19.3)\n",
            "Requirement already satisfied: nvidia-nvtx-cu12==12.1.105 in /usr/local/lib/python3.10/dist-packages (from torch->clip==1.0) (12.1.105)\n",
            "Requirement already satisfied: triton==2.2.0 in /usr/local/lib/python3.10/dist-packages (from torch->clip==1.0) (2.2.0)\n",
            "Requirement already satisfied: nvidia-nvjitlink-cu12 in /usr/local/lib/python3.10/dist-packages (from nvidia-cusolver-cu12==11.4.5.107->torch->clip==1.0) (12.4.127)\n",
            "Requirement already satisfied: numpy in /usr/local/lib/python3.10/dist-packages (from torchvision->clip==1.0) (1.25.2)\n",
            "Requirement already satisfied: pillow!=8.3.*,>=5.3.0 in /usr/local/lib/python3.10/dist-packages (from torchvision->clip==1.0) (10.0.1)\n",
            "Requirement already satisfied: MarkupSafe>=2.0 in /usr/local/lib/python3.10/dist-packages (from jinja2->torch->clip==1.0) (2.1.5)\n",
            "Requirement already satisfied: mpmath>=0.19 in /usr/local/lib/python3.10/dist-packages (from sympy->torch->clip==1.0) (1.3.0)\n",
            "Requirement already satisfied: torch in /usr/local/lib/python3.10/dist-packages (2.2.1+cu121)\n",
            "Requirement already satisfied: torchvision in /usr/local/lib/python3.10/dist-packages (0.17.1+cu121)\n",
            "Requirement already satisfied: filelock in /usr/local/lib/python3.10/dist-packages (from torch) (3.13.4)\n",
            "Requirement already satisfied: typing-extensions>=4.8.0 in /usr/local/lib/python3.10/dist-packages (from torch) (4.11.0)\n",
            "Requirement already satisfied: sympy in /usr/local/lib/python3.10/dist-packages (from torch) (1.12)\n",
            "Requirement already satisfied: networkx in /usr/local/lib/python3.10/dist-packages (from torch) (3.3)\n",
            "Requirement already satisfied: jinja2 in /usr/local/lib/python3.10/dist-packages (from torch) (3.1.3)\n",
            "Requirement already satisfied: fsspec in /usr/local/lib/python3.10/dist-packages (from torch) (2023.6.0)\n",
            "Requirement already satisfied: nvidia-cuda-nvrtc-cu12==12.1.105 in /usr/local/lib/python3.10/dist-packages (from torch) (12.1.105)\n",
            "Requirement already satisfied: nvidia-cuda-runtime-cu12==12.1.105 in /usr/local/lib/python3.10/dist-packages (from torch) (12.1.105)\n",
            "Requirement already satisfied: nvidia-cuda-cupti-cu12==12.1.105 in /usr/local/lib/python3.10/dist-packages (from torch) (12.1.105)\n",
            "Requirement already satisfied: nvidia-cudnn-cu12==8.9.2.26 in /usr/local/lib/python3.10/dist-packages (from torch) (8.9.2.26)\n",
            "Requirement already satisfied: nvidia-cublas-cu12==12.1.3.1 in /usr/local/lib/python3.10/dist-packages (from torch) (12.1.3.1)\n",
            "Requirement already satisfied: nvidia-cufft-cu12==11.0.2.54 in /usr/local/lib/python3.10/dist-packages (from torch) (11.0.2.54)\n",
            "Requirement already satisfied: nvidia-curand-cu12==10.3.2.106 in /usr/local/lib/python3.10/dist-packages (from torch) (10.3.2.106)\n",
            "Requirement already satisfied: nvidia-cusolver-cu12==11.4.5.107 in /usr/local/lib/python3.10/dist-packages (from torch) (11.4.5.107)\n",
            "Requirement already satisfied: nvidia-cusparse-cu12==12.1.0.106 in /usr/local/lib/python3.10/dist-packages (from torch) (12.1.0.106)\n",
            "Requirement already satisfied: nvidia-nccl-cu12==2.19.3 in /usr/local/lib/python3.10/dist-packages (from torch) (2.19.3)\n",
            "Requirement already satisfied: nvidia-nvtx-cu12==12.1.105 in /usr/local/lib/python3.10/dist-packages (from torch) (12.1.105)\n",
            "Requirement already satisfied: triton==2.2.0 in /usr/local/lib/python3.10/dist-packages (from torch) (2.2.0)\n",
            "Requirement already satisfied: nvidia-nvjitlink-cu12 in /usr/local/lib/python3.10/dist-packages (from nvidia-cusolver-cu12==11.4.5.107->torch) (12.4.127)\n",
            "Requirement already satisfied: numpy in /usr/local/lib/python3.10/dist-packages (from torchvision) (1.25.2)\n",
            "Requirement already satisfied: pillow!=8.3.*,>=5.3.0 in /usr/local/lib/python3.10/dist-packages (from torchvision) (10.0.1)\n",
            "Requirement already satisfied: MarkupSafe>=2.0 in /usr/local/lib/python3.10/dist-packages (from jinja2->torch) (2.1.5)\n",
            "Requirement already satisfied: mpmath>=0.19 in /usr/local/lib/python3.10/dist-packages (from sympy->torch) (1.3.0)\n",
            "Requirement already satisfied: matplotlib in /usr/local/lib/python3.10/dist-packages (3.7.1)\n",
            "Requirement already satisfied: scikit-image in /usr/local/lib/python3.10/dist-packages (0.19.3)\n",
            "Requirement already satisfied: contourpy>=1.0.1 in /usr/local/lib/python3.10/dist-packages (from matplotlib) (1.2.1)\n",
            "Requirement already satisfied: cycler>=0.10 in /usr/local/lib/python3.10/dist-packages (from matplotlib) (0.12.1)\n",
            "Requirement already satisfied: fonttools>=4.22.0 in /usr/local/lib/python3.10/dist-packages (from matplotlib) (4.51.0)\n",
            "Requirement already satisfied: kiwisolver>=1.0.1 in /usr/local/lib/python3.10/dist-packages (from matplotlib) (1.4.5)\n",
            "Requirement already satisfied: numpy>=1.20 in /usr/local/lib/python3.10/dist-packages (from matplotlib) (1.25.2)\n",
            "Requirement already satisfied: packaging>=20.0 in /usr/local/lib/python3.10/dist-packages (from matplotlib) (24.0)\n",
            "Requirement already satisfied: pillow>=6.2.0 in /usr/local/lib/python3.10/dist-packages (from matplotlib) (10.0.1)\n",
            "Requirement already satisfied: pyparsing>=2.3.1 in /usr/local/lib/python3.10/dist-packages (from matplotlib) (3.1.2)\n",
            "Requirement already satisfied: python-dateutil>=2.7 in /usr/local/lib/python3.10/dist-packages (from matplotlib) (2.8.2)\n",
            "Requirement already satisfied: scipy>=1.4.1 in /usr/local/lib/python3.10/dist-packages (from scikit-image) (1.11.4)\n",
            "Requirement already satisfied: networkx>=2.2 in /usr/local/lib/python3.10/dist-packages (from scikit-image) (3.3)\n",
            "Requirement already satisfied: imageio>=2.4.1 in /usr/local/lib/python3.10/dist-packages (from scikit-image) (2.31.6)\n",
            "Requirement already satisfied: tifffile>=2019.7.26 in /usr/local/lib/python3.10/dist-packages (from scikit-image) (2024.2.12)\n",
            "Requirement already satisfied: PyWavelets>=1.1.1 in /usr/local/lib/python3.10/dist-packages (from scikit-image) (1.6.0)\n",
            "Requirement already satisfied: six>=1.5 in /usr/local/lib/python3.10/dist-packages (from python-dateutil>=2.7->matplotlib) (1.16.0)\n",
            "Requirement already satisfied: lancedb in /usr/local/lib/python3.10/dist-packages (0.5.7)\n",
            "Requirement already satisfied: deprecation in /usr/local/lib/python3.10/dist-packages (from lancedb) (2.1.0)\n",
            "Requirement already satisfied: pylance==0.9.18 in /usr/local/lib/python3.10/dist-packages (from lancedb) (0.9.18)\n",
            "Requirement already satisfied: ratelimiter~=1.0 in /usr/local/lib/python3.10/dist-packages (from lancedb) (1.2.0.post0)\n",
            "Requirement already satisfied: retry>=0.9.2 in /usr/local/lib/python3.10/dist-packages (from lancedb) (0.9.2)\n",
            "Requirement already satisfied: tqdm>=4.27.0 in /usr/local/lib/python3.10/dist-packages (from lancedb) (4.66.2)\n",
            "Requirement already satisfied: pydantic>=1.10 in /usr/local/lib/python3.10/dist-packages (from lancedb) (2.6.4)\n",
            "Requirement already satisfied: attrs>=21.3.0 in /usr/local/lib/python3.10/dist-packages (from lancedb) (23.2.0)\n",
            "Requirement already satisfied: semver>=3.0 in /usr/local/lib/python3.10/dist-packages (from lancedb) (3.0.2)\n",
            "Requirement already satisfied: cachetools in /usr/local/lib/python3.10/dist-packages (from lancedb) (5.3.3)\n",
            "Requirement already satisfied: pyyaml>=6.0 in /usr/local/lib/python3.10/dist-packages (from lancedb) (6.0.1)\n",
            "Requirement already satisfied: click>=8.1.7 in /usr/local/lib/python3.10/dist-packages (from lancedb) (8.1.7)\n",
            "Requirement already satisfied: requests>=2.31.0 in /usr/local/lib/python3.10/dist-packages (from lancedb) (2.31.0)\n",
            "Requirement already satisfied: overrides>=0.7 in /usr/local/lib/python3.10/dist-packages (from lancedb) (7.7.0)\n",
            "Requirement already satisfied: pyarrow>=12 in /usr/local/lib/python3.10/dist-packages (from pylance==0.9.18->lancedb) (14.0.2)\n",
            "Requirement already satisfied: numpy>=1.22 in /usr/local/lib/python3.10/dist-packages (from pylance==0.9.18->lancedb) (1.25.2)\n",
            "Requirement already satisfied: annotated-types>=0.4.0 in /usr/local/lib/python3.10/dist-packages (from pydantic>=1.10->lancedb) (0.6.0)\n",
            "Requirement already satisfied: pydantic-core==2.16.3 in /usr/local/lib/python3.10/dist-packages (from pydantic>=1.10->lancedb) (2.16.3)\n",
            "Requirement already satisfied: typing-extensions>=4.6.1 in /usr/local/lib/python3.10/dist-packages (from pydantic>=1.10->lancedb) (4.11.0)\n",
            "Requirement already satisfied: charset-normalizer<4,>=2 in /usr/local/lib/python3.10/dist-packages (from requests>=2.31.0->lancedb) (3.3.2)\n",
            "Requirement already satisfied: idna<4,>=2.5 in /usr/local/lib/python3.10/dist-packages (from requests>=2.31.0->lancedb) (3.6)\n",
            "Requirement already satisfied: urllib3<3,>=1.21.1 in /usr/local/lib/python3.10/dist-packages (from requests>=2.31.0->lancedb) (2.0.7)\n",
            "Requirement already satisfied: certifi>=2017.4.17 in /usr/local/lib/python3.10/dist-packages (from requests>=2.31.0->lancedb) (2024.2.2)\n",
            "Requirement already satisfied: decorator>=3.4.2 in /usr/local/lib/python3.10/dist-packages (from retry>=0.9.2->lancedb) (4.4.2)\n",
            "Requirement already satisfied: py<2.0.0,>=1.4.26 in /usr/local/lib/python3.10/dist-packages (from retry>=0.9.2->lancedb) (1.11.0)\n",
            "Requirement already satisfied: packaging in /usr/local/lib/python3.10/dist-packages (from deprecation->lancedb) (24.0)\n",
            "Requirement already satisfied: moviepy in /usr/local/lib/python3.10/dist-packages (1.0.3)\n",
            "Requirement already satisfied: decorator<5.0,>=4.0.2 in /usr/local/lib/python3.10/dist-packages (from moviepy) (4.4.2)\n",
            "Requirement already satisfied: tqdm<5.0,>=4.11.2 in /usr/local/lib/python3.10/dist-packages (from moviepy) (4.66.2)\n",
            "Requirement already satisfied: requests<3.0,>=2.8.1 in /usr/local/lib/python3.10/dist-packages (from moviepy) (2.31.0)\n",
            "Requirement already satisfied: proglog<=1.0.0 in /usr/local/lib/python3.10/dist-packages (from moviepy) (0.1.10)\n",
            "Requirement already satisfied: numpy>=1.17.3 in /usr/local/lib/python3.10/dist-packages (from moviepy) (1.25.2)\n",
            "Requirement already satisfied: imageio<3.0,>=2.5 in /usr/local/lib/python3.10/dist-packages (from moviepy) (2.31.6)\n",
            "Requirement already satisfied: imageio-ffmpeg>=0.2.0 in /usr/local/lib/python3.10/dist-packages (from moviepy) (0.4.9)\n",
            "Requirement already satisfied: pillow<10.1.0,>=8.3.2 in /usr/local/lib/python3.10/dist-packages (from imageio<3.0,>=2.5->moviepy) (10.0.1)\n",
            "Requirement already satisfied: setuptools in /usr/local/lib/python3.10/dist-packages (from imageio-ffmpeg>=0.2.0->moviepy) (67.7.2)\n",
            "Requirement already satisfied: charset-normalizer<4,>=2 in /usr/local/lib/python3.10/dist-packages (from requests<3.0,>=2.8.1->moviepy) (3.3.2)\n",
            "Requirement already satisfied: idna<4,>=2.5 in /usr/local/lib/python3.10/dist-packages (from requests<3.0,>=2.8.1->moviepy) (3.6)\n",
            "Requirement already satisfied: urllib3<3,>=1.21.1 in /usr/local/lib/python3.10/dist-packages (from requests<3.0,>=2.8.1->moviepy) (2.0.7)\n",
            "Requirement already satisfied: certifi>=2017.4.17 in /usr/local/lib/python3.10/dist-packages (from requests<3.0,>=2.8.1->moviepy) (2024.2.2)\n",
            "Requirement already satisfied: pytube in /usr/local/lib/python3.10/dist-packages (15.0.0)\n",
            "Requirement already satisfied: pydub in /usr/local/lib/python3.10/dist-packages (0.25.1)\n",
            "Collecting SpeechRecognition\n",
            "  Downloading SpeechRecognition-3.10.3-py2.py3-none-any.whl (32.8 MB)\n",
            "\u001b[2K     \u001b[90m━━━━━━━━━━━━━━━━━━━━━━━━━━━━━━━━━━━━━━━━\u001b[0m \u001b[32m32.8/32.8 MB\u001b[0m \u001b[31m24.4 MB/s\u001b[0m eta \u001b[36m0:00:00\u001b[0m\n",
            "\u001b[?25hRequirement already satisfied: requests>=2.26.0 in /usr/local/lib/python3.10/dist-packages (from SpeechRecognition) (2.31.0)\n",
            "Requirement already satisfied: typing-extensions in /usr/local/lib/python3.10/dist-packages (from SpeechRecognition) (4.11.0)\n",
            "Requirement already satisfied: charset-normalizer<4,>=2 in /usr/local/lib/python3.10/dist-packages (from requests>=2.26.0->SpeechRecognition) (3.3.2)\n",
            "Requirement already satisfied: idna<4,>=2.5 in /usr/local/lib/python3.10/dist-packages (from requests>=2.26.0->SpeechRecognition) (3.6)\n",
            "Requirement already satisfied: urllib3<3,>=1.21.1 in /usr/local/lib/python3.10/dist-packages (from requests>=2.26.0->SpeechRecognition) (2.0.7)\n",
            "Requirement already satisfied: certifi>=2017.4.17 in /usr/local/lib/python3.10/dist-packages (from requests>=2.26.0->SpeechRecognition) (2024.2.2)\n",
            "Installing collected packages: SpeechRecognition\n",
            "Successfully installed SpeechRecognition-3.10.3\n",
            "Requirement already satisfied: ffmpeg-python in /usr/local/lib/python3.10/dist-packages (0.2.0)\n",
            "Requirement already satisfied: future in /usr/local/lib/python3.10/dist-packages (from ffmpeg-python) (0.18.3)\n",
            "Requirement already satisfied: soundfile in /usr/local/lib/python3.10/dist-packages (0.12.1)\n",
            "Requirement already satisfied: cffi>=1.0 in /usr/local/lib/python3.10/dist-packages (from soundfile) (1.16.0)\n",
            "Requirement already satisfied: pycparser in /usr/local/lib/python3.10/dist-packages (from cffi>=1.0->soundfile) (2.22)\n"
          ]
        }
      ]
    },
    {
      "cell_type": "code",
      "source": [
        "from moviepy.editor import VideoFileClip\n",
        "from pathlib import Path\n",
        "import speech_recognition as sr\n",
        "from pytube import YouTube\n",
        "from pprint import pprint"
      ],
      "metadata": {
        "id": "Y2keTnMeBVtH"
      },
      "execution_count": 2,
      "outputs": []
    },
    {
      "cell_type": "code",
      "source": [
        "from google.colab import userdata\n",
        "OPENAI_API_TOKEN=userdata.get('OPENAI_API_KEY')"
      ],
      "metadata": {
        "id": "lmthLkvMChQS"
      },
      "execution_count": 3,
      "outputs": []
    },
    {
      "cell_type": "code",
      "source": [
        "import os\n",
        "os.environ[\"OPENAI_API_KEY\"] = OPENAI_API_TOKEN"
      ],
      "metadata": {
        "id": "9ap37E5eDqEL"
      },
      "execution_count": 4,
      "outputs": []
    },
    {
      "cell_type": "code",
      "source": [
        "from PIL import Image\n",
        "import matplotlib.pyplot as plt"
      ],
      "metadata": {
        "id": "0lGPRPxPDy_J"
      },
      "execution_count": 5,
      "outputs": []
    },
    {
      "cell_type": "code",
      "source": [
        "import os\n",
        "os.getcwd()"
      ],
      "metadata": {
        "colab": {
          "base_uri": "https://localhost:8080/",
          "height": 56
        },
        "id": "qQB_g8nQGWtA",
        "outputId": "0d30ad98-7cfb-477d-8d51-5db2c332c851"
      },
      "execution_count": 6,
      "outputs": [
        {
          "output_type": "execute_result",
          "data": {
            "text/plain": [
              "'/content'"
            ],
            "application/vnd.google.colaboratory.intrinsic+json": {
              "type": "string"
            }
          },
          "metadata": {},
          "execution_count": 6
        }
      ]
    },
    {
      "cell_type": "code",
      "source": [
        "video_url=\"https://youtu.be/3dhcmeOTZ_Q\"\n",
        "output_video_path = \"/content/video_data/\"\n",
        "output_folder = \"/content/mixed_data/\"\n",
        "output_audio_path = \"/content/mixed_data/output_audio.wav\""
      ],
      "metadata": {
        "id": "kmX07RnNF6F5"
      },
      "execution_count": 7,
      "outputs": []
    },
    {
      "cell_type": "code",
      "source": [
        "filepath=output_video_path + \"input_vid.mp4\""
      ],
      "metadata": {
        "id": "-DhH97a0G3Ll"
      },
      "execution_count": 8,
      "outputs": []
    },
    {
      "cell_type": "code",
      "source": [
        "filepath"
      ],
      "metadata": {
        "colab": {
          "base_uri": "https://localhost:8080/",
          "height": 56
        },
        "id": "UhGYQ3zmHjCJ",
        "outputId": "4dc31202-da39-4232-c6db-8150f6bd8862"
      },
      "execution_count": 9,
      "outputs": [
        {
          "output_type": "execute_result",
          "data": {
            "text/plain": [
              "'/content/video_data/input_vid.mp4'"
            ],
            "application/vnd.google.colaboratory.intrinsic+json": {
              "type": "string"
            }
          },
          "metadata": {},
          "execution_count": 9
        }
      ]
    },
    {
      "cell_type": "code",
      "source": [
        "filepath = output_video_path + \"input_vid.mp4\"\n",
        "Path(output_folder).mkdir(parents=True, exist_ok=True)"
      ],
      "metadata": {
        "id": "lH_PgqOsNfgH"
      },
      "execution_count": 21,
      "outputs": []
    },
    {
      "cell_type": "code",
      "source": [
        "Path(filepath).mkdir(parents=True,exist_ok=True)"
      ],
      "metadata": {
        "id": "HjIRbvJPHEZ_"
      },
      "execution_count": 22,
      "outputs": []
    },
    {
      "cell_type": "code",
      "source": [
        "import matplotlib.pyplot as plt"
      ],
      "metadata": {
        "id": "d6-GS6emcwGX"
      },
      "execution_count": 12,
      "outputs": []
    },
    {
      "cell_type": "code",
      "source": [
        "def plot_images(images_path):\n",
        "  images_shown = 0\n",
        "  plt.figure(figsize=(16, 9))\n",
        "  for img_path in images_path:\n",
        "        if os.path.isfile(img_path):\n",
        "            image = Image.open(img_path)\n",
        "\n",
        "            plt.subplot(2, 3, images_shown + 1)\n",
        "            plt.imshow(image)\n",
        "            plt.xticks([])\n",
        "            plt.yticks([])\n",
        "\n",
        "            images_shown += 1\n",
        "            if images_shown >= 5:\n",
        "                break"
      ],
      "metadata": {
        "id": "LKHUF4Q0ENJU"
      },
      "execution_count": 13,
      "outputs": []
    },
    {
      "cell_type": "code",
      "source": [
        "from pytube import YouTube\n",
        "def download_video(url,output_path):\n",
        "  yt = YouTube(url)\n",
        "  metadata = {\"Author\": yt.author, \"Title\": yt.title, \"Views\": yt.views}\n",
        "  yt.streams.get_highest_resolution().download(\n",
        "        output_path=output_path, filename=\"input_vid.mp4\"\n",
        "    )\n",
        "  return metadata"
      ],
      "metadata": {
        "id": "24d4PPpPEVaQ"
      },
      "execution_count": 14,
      "outputs": []
    },
    {
      "cell_type": "markdown",
      "source": [],
      "metadata": {
        "id": "EjeMcQfEI4tF"
      }
    },
    {
      "cell_type": "code",
      "source": [
        "from moviepy.editor import VideoFileClip\n",
        "def video_to_images(video_path,output_flder):\n",
        "  clip=VideoFileClip(video_path)\n",
        "  clip.write_images_sequence(\n",
        "      os.path.join(output_folder,\"frame%04d.png\"),fps=0.2\n",
        "  )"
      ],
      "metadata": {
        "id": "SxcZxu2kEgnm"
      },
      "execution_count": 15,
      "outputs": []
    },
    {
      "cell_type": "code",
      "source": [
        "def video_to_audio(video_path,output_audio_path):\n",
        "  clip=VideoFileClip(video_path)\n",
        "  audio=clip.audio\n",
        "  audio.write_audiofile(output_audio_path)\n"
      ],
      "metadata": {
        "id": "xpVSgmxwEm7n"
      },
      "execution_count": 16,
      "outputs": []
    },
    {
      "cell_type": "code",
      "source": [
        "def audio_to_text(audio_path):\n",
        "  recognizer=sr.Recognizer()\n",
        "  audio=sr.AudioFile(audio_path)\n",
        "\n",
        "  with audio as source:\n",
        "    audio_data=recognizer.record(source)\n",
        "\n",
        "    try:\n",
        "\n",
        "      #recognize the speech\n",
        "      text = recognizer.recognize_whisper(audio_data)\n",
        "\n",
        "    except sr.UnknownValueError:\n",
        "      print(\"Speech recognition could not understand the audio.\")\n",
        "  return text"
      ],
      "metadata": {
        "id": "Ta1Dg7kFEt_L"
      },
      "execution_count": 17,
      "outputs": []
    },
    {
      "cell_type": "code",
      "source": [
        "video_url"
      ],
      "metadata": {
        "colab": {
          "base_uri": "https://localhost:8080/",
          "height": 56
        },
        "id": "ngE6B1nSMx8H",
        "outputId": "13560af8-9c63-4985-96ed-70b2438814fc"
      },
      "execution_count": 18,
      "outputs": [
        {
          "output_type": "execute_result",
          "data": {
            "text/plain": [
              "'https://youtu.be/3dhcmeOTZ_Q'"
            ],
            "application/vnd.google.colaboratory.intrinsic+json": {
              "type": "string"
            }
          },
          "metadata": {},
          "execution_count": 18
        }
      ]
    },
    {
      "cell_type": "code",
      "source": [
        "output_video_path = '/content/video_data/input_vid.mp4'"
      ],
      "metadata": {
        "id": "gUv75rWcM0Do"
      },
      "execution_count": 24,
      "outputs": []
    },
    {
      "cell_type": "code",
      "source": [
        "metadata_vid = download_video(video_url, output_video_path)"
      ],
      "metadata": {
        "id": "Ud8qttH3E-1B"
      },
      "execution_count": 25,
      "outputs": []
    },
    {
      "cell_type": "code",
      "source": [
        "metadata_vid"
      ],
      "metadata": {
        "colab": {
          "base_uri": "https://localhost:8080/"
        },
        "id": "cAnP0dakOFvi",
        "outputId": "84ba5cec-778a-43d7-a137-4eaef08ac5cc"
      },
      "execution_count": 26,
      "outputs": [
        {
          "output_type": "execute_result",
          "data": {
            "text/plain": [
              "{'Author': '3-Minute Data Science',\n",
              " 'Title': 'Linear Regression in 3 Minutes',\n",
              " 'Views': 7121}"
            ]
          },
          "metadata": {},
          "execution_count": 26
        }
      ]
    },
    {
      "cell_type": "code",
      "source": [
        "filepath"
      ],
      "metadata": {
        "colab": {
          "base_uri": "https://localhost:8080/",
          "height": 56
        },
        "id": "gN-zZjTBOSWV",
        "outputId": "f7042230-c800-43b2-9974-5e92d8c855b4"
      },
      "execution_count": 27,
      "outputs": [
        {
          "output_type": "execute_result",
          "data": {
            "text/plain": [
              "'/content/video_data/input_vid.mp4'"
            ],
            "application/vnd.google.colaboratory.intrinsic+json": {
              "type": "string"
            }
          },
          "metadata": {},
          "execution_count": 27
        }
      ]
    },
    {
      "cell_type": "code",
      "source": [
        "output_folder"
      ],
      "metadata": {
        "colab": {
          "base_uri": "https://localhost:8080/",
          "height": 56
        },
        "id": "Gc1hUebpOVQj",
        "outputId": "35158882-5f22-456b-8024-3f4a6be6deb1"
      },
      "execution_count": 28,
      "outputs": [
        {
          "output_type": "execute_result",
          "data": {
            "text/plain": [
              "'/content/mixed_data/'"
            ],
            "application/vnd.google.colaboratory.intrinsic+json": {
              "type": "string"
            }
          },
          "metadata": {},
          "execution_count": 28
        }
      ]
    },
    {
      "cell_type": "code",
      "source": [
        "!mkdir mixed_data"
      ],
      "metadata": {
        "id": "6G5EqofoPfzX"
      },
      "execution_count": null,
      "outputs": []
    },
    {
      "cell_type": "code",
      "source": [
        "filepath"
      ],
      "metadata": {
        "id": "h75pp_KcSkxJ"
      },
      "execution_count": null,
      "outputs": []
    },
    {
      "cell_type": "code",
      "source": [
        "output_folder"
      ],
      "metadata": {
        "id": "t5c3EeX-SoDv"
      },
      "execution_count": null,
      "outputs": []
    },
    {
      "cell_type": "code",
      "source": [
        "video_to_images(filepath,output_folder)"
      ],
      "metadata": {
        "colab": {
          "base_uri": "https://localhost:8080/"
        },
        "id": "1CsWOGQcFYjX",
        "outputId": "e8d56c89-053e-4cae-fbd4-1c84d2cd2938"
      },
      "execution_count": 30,
      "outputs": [
        {
          "output_type": "stream",
          "name": "stdout",
          "text": [
            "Moviepy - Writing frames /content/mixed_data/frame%04d.png.\n"
          ]
        },
        {
          "output_type": "stream",
          "name": "stderr",
          "text": [
            "                                                            "
          ]
        },
        {
          "output_type": "stream",
          "name": "stdout",
          "text": [
            "Moviepy - Done writing frames /content/mixed_data/frame%04d.png.\n"
          ]
        },
        {
          "output_type": "stream",
          "name": "stderr",
          "text": [
            "\r"
          ]
        }
      ]
    },
    {
      "cell_type": "code",
      "source": [
        "filepath"
      ],
      "metadata": {
        "id": "ACWYdKGUP9YU",
        "colab": {
          "base_uri": "https://localhost:8080/",
          "height": 56
        },
        "outputId": "8fc6b558-ff54-4d0c-b188-e89e74d07168"
      },
      "execution_count": 31,
      "outputs": [
        {
          "output_type": "execute_result",
          "data": {
            "text/plain": [
              "'/content/video_data/input_vid.mp4'"
            ],
            "application/vnd.google.colaboratory.intrinsic+json": {
              "type": "string"
            }
          },
          "metadata": {},
          "execution_count": 31
        }
      ]
    },
    {
      "cell_type": "code",
      "source": [
        "output_audio_path"
      ],
      "metadata": {
        "id": "qhIVN_xhTCF1",
        "colab": {
          "base_uri": "https://localhost:8080/",
          "height": 56
        },
        "outputId": "5c2700c9-7ba8-4388-d8fc-8ed38d879360"
      },
      "execution_count": 32,
      "outputs": [
        {
          "output_type": "execute_result",
          "data": {
            "text/plain": [
              "'/content/mixed_data/output_audio.wav'"
            ],
            "application/vnd.google.colaboratory.intrinsic+json": {
              "type": "string"
            }
          },
          "metadata": {},
          "execution_count": 32
        }
      ]
    },
    {
      "cell_type": "code",
      "source": [
        "video_to_audio(filepath,output_audio_path)"
      ],
      "metadata": {
        "id": "tUNUGX1QFeX-",
        "colab": {
          "base_uri": "https://localhost:8080/"
        },
        "outputId": "09916ffe-8b54-44a1-b086-e28ed8f63582"
      },
      "execution_count": 33,
      "outputs": [
        {
          "output_type": "stream",
          "name": "stdout",
          "text": [
            "MoviePy - Writing audio in /content/mixed_data/output_audio.wav\n"
          ]
        },
        {
          "output_type": "stream",
          "name": "stderr",
          "text": [
            "                                                                      "
          ]
        },
        {
          "output_type": "stream",
          "name": "stdout",
          "text": [
            "MoviePy - Done.\n"
          ]
        },
        {
          "output_type": "stream",
          "name": "stderr",
          "text": [
            "\r"
          ]
        }
      ]
    },
    {
      "cell_type": "code",
      "source": [
        "output_audio_path"
      ],
      "metadata": {
        "id": "Q9jGOIxfTWlO"
      },
      "execution_count": null,
      "outputs": []
    },
    {
      "cell_type": "code",
      "source": [
        "text_data=audio_to_text(output_audio_path)"
      ],
      "metadata": {
        "id": "9EdPF_dAFj6N",
        "colab": {
          "base_uri": "https://localhost:8080/"
        },
        "outputId": "0b479ea1-9a64-49e2-f8c5-66e67a3dde19"
      },
      "execution_count": 34,
      "outputs": [
        {
          "output_type": "stream",
          "name": "stderr",
          "text": [
            "100%|████████████████████████████████████████| 139M/139M [00:00<00:00, 162MiB/s]\n"
          ]
        }
      ]
    },
    {
      "cell_type": "code",
      "source": [
        "text_data"
      ],
      "metadata": {
        "id": "wK3qgVi0QLcK",
        "colab": {
          "base_uri": "https://localhost:8080/",
          "height": 194
        },
        "outputId": "2844b983-a911-4ceb-c3e6-4431250addb2"
      },
      "execution_count": 35,
      "outputs": [
        {
          "output_type": "execute_result",
          "data": {
            "text/plain": [
              "\" Lanyard regression is a statistical technique for modeling the relationship between an output variable and one or more input variables. In layman's terms, think of it as fitting a line through some data points as shown here, so you can make predictions on unknown data, assuming there is a linear relationship between the variables. You might be familiar with the linear function y equals mx plus b, where y is the output variable, also called the dependent variable. You may also see expressed as f of x, the function of the input variable. x on the other hand, would serve as the input variable, also called the independent variable. It's likely you'll see the coefficients m and b expressed as beta 1 and beta 0 respectively. So what do the m and b coefficients do? The m or beta 1 coefficient controls the slope of the line. The b or the beta 0 controls the intercept of the line. In machine learning, we also know it as the bias. These two coefficients are what we are solving for in linear regression. We can also extend to multiple input variables, so x1, x2, x3, with beta 1, beta 2, and beta 3, and so on, acting as slopes for each of those variables. In these higher dimensions, you would visualize the linear regression as a hyperplane. So how do we fit the line to these points? Well, you'll notice that there's these differences between the points and the line, these little red segments, these are called residuals. They are the differences between the data points and the predictions the line would produce. Take each of these residuals and square them. These are the squared errors, and notice that the large of the residuals are, the more amplified area of the squares are. If we total the areas of all of these squares for a given line, we will get the sum of the squared error, and this is known as our loss function. We need to find the beta 0 and beta 1 coefficients that will minimize that sum of squared error. The coefficients can be solved with a variety of techniques ranging from matrix decomposition to gradient descent, which is depicted right here. Thankfully, a lot of libraries are available to do this for us, and we will deep dive into these topics in other videos. To validate a linear regression, there are a number of techniques. Machine learning practitioners will often take a third of the data and put it into the test data set. The remaining two thirds will become the training data set. The training data set will then be used to fit the regression line. The test data set will then be used to validate the regression line. This is done to make sure that the regression performs well on data it has not seen before. The tricks used to evaluate the linear regression vary from the R square, standard error of the estimate, prediction intervals, as well as statistical significance. These are topics we will cover in future videos. If you enjoyed this video, please like and subscribe. Look at my two O'Reilly books, Essential Math for Data Science, and getting started with SQL. Chapter five of Essential Math for Data Science actually covers linear regression and much more depth. If you want live instruction, I also do teach on the O'Reilly platform. Promotional link below. I teach classes including machine learning from scratch, probability, and SQL. Comment on what topics you would like to see next, and I will see you again on 3 Minute Data Science.\""
            ],
            "application/vnd.google.colaboratory.intrinsic+json": {
              "type": "string"
            }
          },
          "metadata": {},
          "execution_count": 35
        }
      ]
    },
    {
      "cell_type": "code",
      "source": [
        "with open(output_folder + \"output_text.txt\", \"w\") as file:\n",
        "        file.write(text_data)\n",
        "print(\"Text data saved to file\")\n",
        "file.close()"
      ],
      "metadata": {
        "id": "W70bPaL0QRpe",
        "colab": {
          "base_uri": "https://localhost:8080/"
        },
        "outputId": "265b0d4c-98da-4cb4-c205-4e2d452defd7"
      },
      "execution_count": 36,
      "outputs": [
        {
          "output_type": "stream",
          "name": "stdout",
          "text": [
            "Text data saved to file\n"
          ]
        }
      ]
    },
    {
      "cell_type": "code",
      "source": [
        "os.remove(output_audio_path)\n",
        "print(\"Audio file removed\")"
      ],
      "metadata": {
        "id": "7Jm22fkzYZ1Y",
        "colab": {
          "base_uri": "https://localhost:8080/"
        },
        "outputId": "5699df83-eec7-497f-d205-b78cb76b73f0"
      },
      "execution_count": 37,
      "outputs": [
        {
          "output_type": "stream",
          "name": "stdout",
          "text": [
            "Audio file removed\n"
          ]
        }
      ]
    },
    {
      "cell_type": "markdown",
      "source": [
        "# Embedding lance db\n",
        "# LLM"
      ],
      "metadata": {
        "id": "epoGVQisl_uN"
      }
    },
    {
      "cell_type": "code",
      "source": [
        "# embedding lance db\n",
        "# llm"
      ],
      "metadata": {
        "id": "XWOzozqPRSnV"
      },
      "execution_count": 38,
      "outputs": []
    },
    {
      "cell_type": "code",
      "source": [
        "!pip install llama-index-readers-file"
      ],
      "metadata": {
        "id": "OkxuvRgkXM-U",
        "colab": {
          "base_uri": "https://localhost:8080/"
        },
        "outputId": "b0e43cc9-572f-425e-b860-e732141ab52c"
      },
      "execution_count": 39,
      "outputs": [
        {
          "output_type": "stream",
          "name": "stdout",
          "text": [
            "Requirement already satisfied: llama-index-readers-file in /usr/local/lib/python3.10/dist-packages (0.1.17)\n",
            "Requirement already satisfied: beautifulsoup4<5.0.0,>=4.12.3 in /usr/local/lib/python3.10/dist-packages (from llama-index-readers-file) (4.12.3)\n",
            "Requirement already satisfied: llama-index-core<0.11.0,>=0.10.1 in /usr/local/lib/python3.10/dist-packages (from llama-index-readers-file) (0.10.29)\n",
            "Requirement already satisfied: pypdf<5.0.0,>=4.0.1 in /usr/local/lib/python3.10/dist-packages (from llama-index-readers-file) (4.2.0)\n",
            "Requirement already satisfied: striprtf<0.0.27,>=0.0.26 in /usr/local/lib/python3.10/dist-packages (from llama-index-readers-file) (0.0.26)\n",
            "Requirement already satisfied: soupsieve>1.2 in /usr/local/lib/python3.10/dist-packages (from beautifulsoup4<5.0.0,>=4.12.3->llama-index-readers-file) (2.5)\n",
            "Requirement already satisfied: PyYAML>=6.0.1 in /usr/local/lib/python3.10/dist-packages (from llama-index-core<0.11.0,>=0.10.1->llama-index-readers-file) (6.0.1)\n",
            "Requirement already satisfied: SQLAlchemy[asyncio]>=1.4.49 in /usr/local/lib/python3.10/dist-packages (from llama-index-core<0.11.0,>=0.10.1->llama-index-readers-file) (2.0.29)\n",
            "Requirement already satisfied: aiohttp<4.0.0,>=3.8.6 in /usr/local/lib/python3.10/dist-packages (from llama-index-core<0.11.0,>=0.10.1->llama-index-readers-file) (3.9.3)\n",
            "Requirement already satisfied: dataclasses-json in /usr/local/lib/python3.10/dist-packages (from llama-index-core<0.11.0,>=0.10.1->llama-index-readers-file) (0.6.4)\n",
            "Requirement already satisfied: deprecated>=1.2.9.3 in /usr/local/lib/python3.10/dist-packages (from llama-index-core<0.11.0,>=0.10.1->llama-index-readers-file) (1.2.14)\n",
            "Requirement already satisfied: dirtyjson<2.0.0,>=1.0.8 in /usr/local/lib/python3.10/dist-packages (from llama-index-core<0.11.0,>=0.10.1->llama-index-readers-file) (1.0.8)\n",
            "Requirement already satisfied: fsspec>=2023.5.0 in /usr/local/lib/python3.10/dist-packages (from llama-index-core<0.11.0,>=0.10.1->llama-index-readers-file) (2023.6.0)\n",
            "Requirement already satisfied: httpx in /usr/local/lib/python3.10/dist-packages (from llama-index-core<0.11.0,>=0.10.1->llama-index-readers-file) (0.27.0)\n",
            "Requirement already satisfied: llamaindex-py-client<0.2.0,>=0.1.18 in /usr/local/lib/python3.10/dist-packages (from llama-index-core<0.11.0,>=0.10.1->llama-index-readers-file) (0.1.18)\n",
            "Requirement already satisfied: nest-asyncio<2.0.0,>=1.5.8 in /usr/local/lib/python3.10/dist-packages (from llama-index-core<0.11.0,>=0.10.1->llama-index-readers-file) (1.6.0)\n",
            "Requirement already satisfied: networkx>=3.0 in /usr/local/lib/python3.10/dist-packages (from llama-index-core<0.11.0,>=0.10.1->llama-index-readers-file) (3.3)\n",
            "Requirement already satisfied: nltk<4.0.0,>=3.8.1 in /usr/local/lib/python3.10/dist-packages (from llama-index-core<0.11.0,>=0.10.1->llama-index-readers-file) (3.8.1)\n",
            "Requirement already satisfied: numpy in /usr/local/lib/python3.10/dist-packages (from llama-index-core<0.11.0,>=0.10.1->llama-index-readers-file) (1.25.2)\n",
            "Requirement already satisfied: openai>=1.1.0 in /usr/local/lib/python3.10/dist-packages (from llama-index-core<0.11.0,>=0.10.1->llama-index-readers-file) (1.17.1)\n",
            "Requirement already satisfied: pandas in /usr/local/lib/python3.10/dist-packages (from llama-index-core<0.11.0,>=0.10.1->llama-index-readers-file) (2.0.3)\n",
            "Requirement already satisfied: pillow>=9.0.0 in /usr/local/lib/python3.10/dist-packages (from llama-index-core<0.11.0,>=0.10.1->llama-index-readers-file) (10.0.1)\n",
            "Requirement already satisfied: requests>=2.31.0 in /usr/local/lib/python3.10/dist-packages (from llama-index-core<0.11.0,>=0.10.1->llama-index-readers-file) (2.31.0)\n",
            "Requirement already satisfied: tenacity<9.0.0,>=8.2.0 in /usr/local/lib/python3.10/dist-packages (from llama-index-core<0.11.0,>=0.10.1->llama-index-readers-file) (8.2.3)\n",
            "Requirement already satisfied: tiktoken>=0.3.3 in /usr/local/lib/python3.10/dist-packages (from llama-index-core<0.11.0,>=0.10.1->llama-index-readers-file) (0.6.0)\n",
            "Requirement already satisfied: tqdm<5.0.0,>=4.66.1 in /usr/local/lib/python3.10/dist-packages (from llama-index-core<0.11.0,>=0.10.1->llama-index-readers-file) (4.66.2)\n",
            "Requirement already satisfied: typing-extensions>=4.5.0 in /usr/local/lib/python3.10/dist-packages (from llama-index-core<0.11.0,>=0.10.1->llama-index-readers-file) (4.11.0)\n",
            "Requirement already satisfied: typing-inspect>=0.8.0 in /usr/local/lib/python3.10/dist-packages (from llama-index-core<0.11.0,>=0.10.1->llama-index-readers-file) (0.9.0)\n",
            "Requirement already satisfied: wrapt in /usr/local/lib/python3.10/dist-packages (from llama-index-core<0.11.0,>=0.10.1->llama-index-readers-file) (1.14.1)\n",
            "Requirement already satisfied: aiosignal>=1.1.2 in /usr/local/lib/python3.10/dist-packages (from aiohttp<4.0.0,>=3.8.6->llama-index-core<0.11.0,>=0.10.1->llama-index-readers-file) (1.3.1)\n",
            "Requirement already satisfied: attrs>=17.3.0 in /usr/local/lib/python3.10/dist-packages (from aiohttp<4.0.0,>=3.8.6->llama-index-core<0.11.0,>=0.10.1->llama-index-readers-file) (23.2.0)\n",
            "Requirement already satisfied: frozenlist>=1.1.1 in /usr/local/lib/python3.10/dist-packages (from aiohttp<4.0.0,>=3.8.6->llama-index-core<0.11.0,>=0.10.1->llama-index-readers-file) (1.4.1)\n",
            "Requirement already satisfied: multidict<7.0,>=4.5 in /usr/local/lib/python3.10/dist-packages (from aiohttp<4.0.0,>=3.8.6->llama-index-core<0.11.0,>=0.10.1->llama-index-readers-file) (6.0.5)\n",
            "Requirement already satisfied: yarl<2.0,>=1.0 in /usr/local/lib/python3.10/dist-packages (from aiohttp<4.0.0,>=3.8.6->llama-index-core<0.11.0,>=0.10.1->llama-index-readers-file) (1.9.4)\n",
            "Requirement already satisfied: async-timeout<5.0,>=4.0 in /usr/local/lib/python3.10/dist-packages (from aiohttp<4.0.0,>=3.8.6->llama-index-core<0.11.0,>=0.10.1->llama-index-readers-file) (4.0.3)\n",
            "Requirement already satisfied: pydantic>=1.10 in /usr/local/lib/python3.10/dist-packages (from llamaindex-py-client<0.2.0,>=0.1.18->llama-index-core<0.11.0,>=0.10.1->llama-index-readers-file) (2.6.4)\n",
            "Requirement already satisfied: anyio in /usr/local/lib/python3.10/dist-packages (from httpx->llama-index-core<0.11.0,>=0.10.1->llama-index-readers-file) (3.7.1)\n",
            "Requirement already satisfied: certifi in /usr/local/lib/python3.10/dist-packages (from httpx->llama-index-core<0.11.0,>=0.10.1->llama-index-readers-file) (2024.2.2)\n",
            "Requirement already satisfied: httpcore==1.* in /usr/local/lib/python3.10/dist-packages (from httpx->llama-index-core<0.11.0,>=0.10.1->llama-index-readers-file) (1.0.5)\n",
            "Requirement already satisfied: idna in /usr/local/lib/python3.10/dist-packages (from httpx->llama-index-core<0.11.0,>=0.10.1->llama-index-readers-file) (3.6)\n",
            "Requirement already satisfied: sniffio in /usr/local/lib/python3.10/dist-packages (from httpx->llama-index-core<0.11.0,>=0.10.1->llama-index-readers-file) (1.3.1)\n",
            "Requirement already satisfied: h11<0.15,>=0.13 in /usr/local/lib/python3.10/dist-packages (from httpcore==1.*->httpx->llama-index-core<0.11.0,>=0.10.1->llama-index-readers-file) (0.14.0)\n",
            "Requirement already satisfied: click in /usr/local/lib/python3.10/dist-packages (from nltk<4.0.0,>=3.8.1->llama-index-core<0.11.0,>=0.10.1->llama-index-readers-file) (8.1.7)\n",
            "Requirement already satisfied: joblib in /usr/local/lib/python3.10/dist-packages (from nltk<4.0.0,>=3.8.1->llama-index-core<0.11.0,>=0.10.1->llama-index-readers-file) (1.4.0)\n",
            "Requirement already satisfied: regex>=2021.8.3 in /usr/local/lib/python3.10/dist-packages (from nltk<4.0.0,>=3.8.1->llama-index-core<0.11.0,>=0.10.1->llama-index-readers-file) (2023.12.25)\n",
            "Requirement already satisfied: distro<2,>=1.7.0 in /usr/lib/python3/dist-packages (from openai>=1.1.0->llama-index-core<0.11.0,>=0.10.1->llama-index-readers-file) (1.7.0)\n",
            "Requirement already satisfied: charset-normalizer<4,>=2 in /usr/local/lib/python3.10/dist-packages (from requests>=2.31.0->llama-index-core<0.11.0,>=0.10.1->llama-index-readers-file) (3.3.2)\n",
            "Requirement already satisfied: urllib3<3,>=1.21.1 in /usr/local/lib/python3.10/dist-packages (from requests>=2.31.0->llama-index-core<0.11.0,>=0.10.1->llama-index-readers-file) (2.0.7)\n",
            "Requirement already satisfied: greenlet!=0.4.17 in /usr/local/lib/python3.10/dist-packages (from SQLAlchemy[asyncio]>=1.4.49->llama-index-core<0.11.0,>=0.10.1->llama-index-readers-file) (3.0.3)\n",
            "Requirement already satisfied: mypy-extensions>=0.3.0 in /usr/local/lib/python3.10/dist-packages (from typing-inspect>=0.8.0->llama-index-core<0.11.0,>=0.10.1->llama-index-readers-file) (1.0.0)\n",
            "Requirement already satisfied: marshmallow<4.0.0,>=3.18.0 in /usr/local/lib/python3.10/dist-packages (from dataclasses-json->llama-index-core<0.11.0,>=0.10.1->llama-index-readers-file) (3.21.1)\n",
            "Requirement already satisfied: python-dateutil>=2.8.2 in /usr/local/lib/python3.10/dist-packages (from pandas->llama-index-core<0.11.0,>=0.10.1->llama-index-readers-file) (2.8.2)\n",
            "Requirement already satisfied: pytz>=2020.1 in /usr/local/lib/python3.10/dist-packages (from pandas->llama-index-core<0.11.0,>=0.10.1->llama-index-readers-file) (2023.4)\n",
            "Requirement already satisfied: tzdata>=2022.1 in /usr/local/lib/python3.10/dist-packages (from pandas->llama-index-core<0.11.0,>=0.10.1->llama-index-readers-file) (2024.1)\n",
            "Requirement already satisfied: exceptiongroup in /usr/local/lib/python3.10/dist-packages (from anyio->httpx->llama-index-core<0.11.0,>=0.10.1->llama-index-readers-file) (1.2.0)\n",
            "Requirement already satisfied: packaging>=17.0 in /usr/local/lib/python3.10/dist-packages (from marshmallow<4.0.0,>=3.18.0->dataclasses-json->llama-index-core<0.11.0,>=0.10.1->llama-index-readers-file) (24.0)\n",
            "Requirement already satisfied: annotated-types>=0.4.0 in /usr/local/lib/python3.10/dist-packages (from pydantic>=1.10->llamaindex-py-client<0.2.0,>=0.1.18->llama-index-core<0.11.0,>=0.10.1->llama-index-readers-file) (0.6.0)\n",
            "Requirement already satisfied: pydantic-core==2.16.3 in /usr/local/lib/python3.10/dist-packages (from pydantic>=1.10->llamaindex-py-client<0.2.0,>=0.1.18->llama-index-core<0.11.0,>=0.10.1->llama-index-readers-file) (2.16.3)\n",
            "Requirement already satisfied: six>=1.5 in /usr/local/lib/python3.10/dist-packages (from python-dateutil>=2.8.2->pandas->llama-index-core<0.11.0,>=0.10.1->llama-index-readers-file) (1.16.0)\n"
          ]
        }
      ]
    },
    {
      "cell_type": "code",
      "source": [
        "from llama_index.core.indices import MultiModalVectorStoreIndex\n",
        "from llama_index.core import SimpleDirectoryReader\n",
        "from llama_index.core import StorageContext"
      ],
      "metadata": {
        "id": "9WR3_c7PXT-P"
      },
      "execution_count": 40,
      "outputs": []
    },
    {
      "cell_type": "code",
      "source": [
        "from llama_index.vector_stores.lancedb import LanceDBVectorStore"
      ],
      "metadata": {
        "id": "5bd2H_CaXkt8"
      },
      "execution_count": 41,
      "outputs": []
    },
    {
      "cell_type": "code",
      "source": [
        "text_store=LanceDBVectorStore(uri=\"lancedb\",table_name=\"text_collection\")\n",
        "image_store=LanceDBVectorStore(uri=\"lancedb\",table_name=\"image_collection\")"
      ],
      "metadata": {
        "id": "FN_njfNqX83Z"
      },
      "execution_count": 42,
      "outputs": []
    },
    {
      "cell_type": "code",
      "source": [
        "storage_context=StorageContext.from_defaults(vector_store=text_store,image_store=image_store)"
      ],
      "metadata": {
        "id": "ieXOmtfXYfj2"
      },
      "execution_count": 43,
      "outputs": []
    },
    {
      "cell_type": "code",
      "source": [
        "output_folder"
      ],
      "metadata": {
        "id": "5DTgG47aZAS1",
        "colab": {
          "base_uri": "https://localhost:8080/",
          "height": 56
        },
        "outputId": "318707ca-ec5c-4d5f-a683-2416c4655076"
      },
      "execution_count": 44,
      "outputs": [
        {
          "output_type": "execute_result",
          "data": {
            "text/plain": [
              "'/content/mixed_data/'"
            ],
            "application/vnd.google.colaboratory.intrinsic+json": {
              "type": "string"
            }
          },
          "metadata": {},
          "execution_count": 44
        }
      ]
    },
    {
      "cell_type": "code",
      "source": [
        "documents=SimpleDirectoryReader(output_folder).load_data()"
      ],
      "metadata": {
        "id": "Ch32EG90Y3N2"
      },
      "execution_count": 45,
      "outputs": []
    },
    {
      "cell_type": "code",
      "source": [
        "documents"
      ],
      "metadata": {
        "id": "XnwicO_TZHvF",
        "colab": {
          "base_uri": "https://localhost:8080/"
        },
        "outputId": "c6456810-79a4-4ce6-8d5e-689ef5cce8d5"
      },
      "execution_count": 46,
      "outputs": [
        {
          "output_type": "execute_result",
          "data": {
            "text/plain": [
              "[ImageDocument(id_='da92e21d-020b-422f-863c-60fd9ecf528b', embedding=None, metadata={'file_path': '/content/mixed_data/frame0000.png', 'file_name': 'frame0000.png', 'file_type': 'image/png', 'file_size': 2759, 'creation_date': '2024-04-14', 'last_modified_date': '2024-04-14'}, excluded_embed_metadata_keys=['file_name', 'file_type', 'file_size', 'creation_date', 'last_modified_date', 'last_accessed_date'], excluded_llm_metadata_keys=['file_name', 'file_type', 'file_size', 'creation_date', 'last_modified_date', 'last_accessed_date'], relationships={}, text='', start_char_idx=None, end_char_idx=None, text_template='{metadata_str}\\n\\n{content}', metadata_template='{key}: {value}', metadata_seperator='\\n', image=None, image_path='/content/mixed_data/frame0000.png', image_url=None, image_mimetype=None, text_embedding=None),\n",
              " ImageDocument(id_='ad675e42-dae6-44bb-aead-86632ce3559f', embedding=None, metadata={'file_path': '/content/mixed_data/frame0001.png', 'file_name': 'frame0001.png', 'file_type': 'image/png', 'file_size': 48172, 'creation_date': '2024-04-14', 'last_modified_date': '2024-04-14'}, excluded_embed_metadata_keys=['file_name', 'file_type', 'file_size', 'creation_date', 'last_modified_date', 'last_accessed_date'], excluded_llm_metadata_keys=['file_name', 'file_type', 'file_size', 'creation_date', 'last_modified_date', 'last_accessed_date'], relationships={}, text='', start_char_idx=None, end_char_idx=None, text_template='{metadata_str}\\n\\n{content}', metadata_template='{key}: {value}', metadata_seperator='\\n', image=None, image_path='/content/mixed_data/frame0001.png', image_url=None, image_mimetype=None, text_embedding=None),\n",
              " ImageDocument(id_='12430935-903d-4f32-845c-71b5245d6aaf', embedding=None, metadata={'file_path': '/content/mixed_data/frame0002.png', 'file_name': 'frame0002.png', 'file_type': 'image/png', 'file_size': 83490, 'creation_date': '2024-04-14', 'last_modified_date': '2024-04-14'}, excluded_embed_metadata_keys=['file_name', 'file_type', 'file_size', 'creation_date', 'last_modified_date', 'last_accessed_date'], excluded_llm_metadata_keys=['file_name', 'file_type', 'file_size', 'creation_date', 'last_modified_date', 'last_accessed_date'], relationships={}, text='', start_char_idx=None, end_char_idx=None, text_template='{metadata_str}\\n\\n{content}', metadata_template='{key}: {value}', metadata_seperator='\\n', image=None, image_path='/content/mixed_data/frame0002.png', image_url=None, image_mimetype=None, text_embedding=None),\n",
              " ImageDocument(id_='3e81495a-671b-4deb-a460-9a96a5cf5cae', embedding=None, metadata={'file_path': '/content/mixed_data/frame0003.png', 'file_name': 'frame0003.png', 'file_type': 'image/png', 'file_size': 61264, 'creation_date': '2024-04-14', 'last_modified_date': '2024-04-14'}, excluded_embed_metadata_keys=['file_name', 'file_type', 'file_size', 'creation_date', 'last_modified_date', 'last_accessed_date'], excluded_llm_metadata_keys=['file_name', 'file_type', 'file_size', 'creation_date', 'last_modified_date', 'last_accessed_date'], relationships={}, text='', start_char_idx=None, end_char_idx=None, text_template='{metadata_str}\\n\\n{content}', metadata_template='{key}: {value}', metadata_seperator='\\n', image=None, image_path='/content/mixed_data/frame0003.png', image_url=None, image_mimetype=None, text_embedding=None),\n",
              " ImageDocument(id_='7316cf91-8f41-4d5a-9ac6-880960daca19', embedding=None, metadata={'file_path': '/content/mixed_data/frame0004.png', 'file_name': 'frame0004.png', 'file_type': 'image/png', 'file_size': 32749, 'creation_date': '2024-04-14', 'last_modified_date': '2024-04-14'}, excluded_embed_metadata_keys=['file_name', 'file_type', 'file_size', 'creation_date', 'last_modified_date', 'last_accessed_date'], excluded_llm_metadata_keys=['file_name', 'file_type', 'file_size', 'creation_date', 'last_modified_date', 'last_accessed_date'], relationships={}, text='', start_char_idx=None, end_char_idx=None, text_template='{metadata_str}\\n\\n{content}', metadata_template='{key}: {value}', metadata_seperator='\\n', image=None, image_path='/content/mixed_data/frame0004.png', image_url=None, image_mimetype=None, text_embedding=None),\n",
              " ImageDocument(id_='6332bee9-d805-4c64-8d4a-228cfad8dde8', embedding=None, metadata={'file_path': '/content/mixed_data/frame0005.png', 'file_name': 'frame0005.png', 'file_type': 'image/png', 'file_size': 56183, 'creation_date': '2024-04-14', 'last_modified_date': '2024-04-14'}, excluded_embed_metadata_keys=['file_name', 'file_type', 'file_size', 'creation_date', 'last_modified_date', 'last_accessed_date'], excluded_llm_metadata_keys=['file_name', 'file_type', 'file_size', 'creation_date', 'last_modified_date', 'last_accessed_date'], relationships={}, text='', start_char_idx=None, end_char_idx=None, text_template='{metadata_str}\\n\\n{content}', metadata_template='{key}: {value}', metadata_seperator='\\n', image=None, image_path='/content/mixed_data/frame0005.png', image_url=None, image_mimetype=None, text_embedding=None),\n",
              " ImageDocument(id_='f764d4d4-3881-405f-a82d-38d9bc4ef46b', embedding=None, metadata={'file_path': '/content/mixed_data/frame0006.png', 'file_name': 'frame0006.png', 'file_type': 'image/png', 'file_size': 55069, 'creation_date': '2024-04-14', 'last_modified_date': '2024-04-14'}, excluded_embed_metadata_keys=['file_name', 'file_type', 'file_size', 'creation_date', 'last_modified_date', 'last_accessed_date'], excluded_llm_metadata_keys=['file_name', 'file_type', 'file_size', 'creation_date', 'last_modified_date', 'last_accessed_date'], relationships={}, text='', start_char_idx=None, end_char_idx=None, text_template='{metadata_str}\\n\\n{content}', metadata_template='{key}: {value}', metadata_seperator='\\n', image=None, image_path='/content/mixed_data/frame0006.png', image_url=None, image_mimetype=None, text_embedding=None),\n",
              " ImageDocument(id_='1caf4f61-62d4-4a4e-9c8f-e054680584f3', embedding=None, metadata={'file_path': '/content/mixed_data/frame0007.png', 'file_name': 'frame0007.png', 'file_type': 'image/png', 'file_size': 106037, 'creation_date': '2024-04-14', 'last_modified_date': '2024-04-14'}, excluded_embed_metadata_keys=['file_name', 'file_type', 'file_size', 'creation_date', 'last_modified_date', 'last_accessed_date'], excluded_llm_metadata_keys=['file_name', 'file_type', 'file_size', 'creation_date', 'last_modified_date', 'last_accessed_date'], relationships={}, text='', start_char_idx=None, end_char_idx=None, text_template='{metadata_str}\\n\\n{content}', metadata_template='{key}: {value}', metadata_seperator='\\n', image=None, image_path='/content/mixed_data/frame0007.png', image_url=None, image_mimetype=None, text_embedding=None),\n",
              " ImageDocument(id_='8aa95878-f4de-4cb6-b012-6ffdeaf8cdad', embedding=None, metadata={'file_path': '/content/mixed_data/frame0008.png', 'file_name': 'frame0008.png', 'file_type': 'image/png', 'file_size': 16438, 'creation_date': '2024-04-14', 'last_modified_date': '2024-04-14'}, excluded_embed_metadata_keys=['file_name', 'file_type', 'file_size', 'creation_date', 'last_modified_date', 'last_accessed_date'], excluded_llm_metadata_keys=['file_name', 'file_type', 'file_size', 'creation_date', 'last_modified_date', 'last_accessed_date'], relationships={}, text='', start_char_idx=None, end_char_idx=None, text_template='{metadata_str}\\n\\n{content}', metadata_template='{key}: {value}', metadata_seperator='\\n', image=None, image_path='/content/mixed_data/frame0008.png', image_url=None, image_mimetype=None, text_embedding=None),\n",
              " ImageDocument(id_='b8aeee22-28a1-4cbc-bc89-1647ffebb58b', embedding=None, metadata={'file_path': '/content/mixed_data/frame0009.png', 'file_name': 'frame0009.png', 'file_type': 'image/png', 'file_size': 19626, 'creation_date': '2024-04-14', 'last_modified_date': '2024-04-14'}, excluded_embed_metadata_keys=['file_name', 'file_type', 'file_size', 'creation_date', 'last_modified_date', 'last_accessed_date'], excluded_llm_metadata_keys=['file_name', 'file_type', 'file_size', 'creation_date', 'last_modified_date', 'last_accessed_date'], relationships={}, text='', start_char_idx=None, end_char_idx=None, text_template='{metadata_str}\\n\\n{content}', metadata_template='{key}: {value}', metadata_seperator='\\n', image=None, image_path='/content/mixed_data/frame0009.png', image_url=None, image_mimetype=None, text_embedding=None),\n",
              " ImageDocument(id_='2734d931-1e7d-4e56-a756-4872b8f13de5', embedding=None, metadata={'file_path': '/content/mixed_data/frame0010.png', 'file_name': 'frame0010.png', 'file_type': 'image/png', 'file_size': 19161, 'creation_date': '2024-04-14', 'last_modified_date': '2024-04-14'}, excluded_embed_metadata_keys=['file_name', 'file_type', 'file_size', 'creation_date', 'last_modified_date', 'last_accessed_date'], excluded_llm_metadata_keys=['file_name', 'file_type', 'file_size', 'creation_date', 'last_modified_date', 'last_accessed_date'], relationships={}, text='', start_char_idx=None, end_char_idx=None, text_template='{metadata_str}\\n\\n{content}', metadata_template='{key}: {value}', metadata_seperator='\\n', image=None, image_path='/content/mixed_data/frame0010.png', image_url=None, image_mimetype=None, text_embedding=None),\n",
              " ImageDocument(id_='ed1df789-bc00-4329-a12a-a051d8edc914', embedding=None, metadata={'file_path': '/content/mixed_data/frame0011.png', 'file_name': 'frame0011.png', 'file_type': 'image/png', 'file_size': 12756, 'creation_date': '2024-04-14', 'last_modified_date': '2024-04-14'}, excluded_embed_metadata_keys=['file_name', 'file_type', 'file_size', 'creation_date', 'last_modified_date', 'last_accessed_date'], excluded_llm_metadata_keys=['file_name', 'file_type', 'file_size', 'creation_date', 'last_modified_date', 'last_accessed_date'], relationships={}, text='', start_char_idx=None, end_char_idx=None, text_template='{metadata_str}\\n\\n{content}', metadata_template='{key}: {value}', metadata_seperator='\\n', image=None, image_path='/content/mixed_data/frame0011.png', image_url=None, image_mimetype=None, text_embedding=None),\n",
              " ImageDocument(id_='60a6dfc0-5885-430f-a4e1-bcfb45c974ef', embedding=None, metadata={'file_path': '/content/mixed_data/frame0012.png', 'file_name': 'frame0012.png', 'file_type': 'image/png', 'file_size': 12022, 'creation_date': '2024-04-14', 'last_modified_date': '2024-04-14'}, excluded_embed_metadata_keys=['file_name', 'file_type', 'file_size', 'creation_date', 'last_modified_date', 'last_accessed_date'], excluded_llm_metadata_keys=['file_name', 'file_type', 'file_size', 'creation_date', 'last_modified_date', 'last_accessed_date'], relationships={}, text='', start_char_idx=None, end_char_idx=None, text_template='{metadata_str}\\n\\n{content}', metadata_template='{key}: {value}', metadata_seperator='\\n', image=None, image_path='/content/mixed_data/frame0012.png', image_url=None, image_mimetype=None, text_embedding=None),\n",
              " ImageDocument(id_='c40264d0-1978-49e5-9b0e-78a8ab46a581', embedding=None, metadata={'file_path': '/content/mixed_data/frame0013.png', 'file_name': 'frame0013.png', 'file_type': 'image/png', 'file_size': 77130, 'creation_date': '2024-04-14', 'last_modified_date': '2024-04-14'}, excluded_embed_metadata_keys=['file_name', 'file_type', 'file_size', 'creation_date', 'last_modified_date', 'last_accessed_date'], excluded_llm_metadata_keys=['file_name', 'file_type', 'file_size', 'creation_date', 'last_modified_date', 'last_accessed_date'], relationships={}, text='', start_char_idx=None, end_char_idx=None, text_template='{metadata_str}\\n\\n{content}', metadata_template='{key}: {value}', metadata_seperator='\\n', image=None, image_path='/content/mixed_data/frame0013.png', image_url=None, image_mimetype=None, text_embedding=None),\n",
              " ImageDocument(id_='773b0f15-eba4-4b60-80d2-3327081468b8', embedding=None, metadata={'file_path': '/content/mixed_data/frame0014.png', 'file_name': 'frame0014.png', 'file_type': 'image/png', 'file_size': 75105, 'creation_date': '2024-04-14', 'last_modified_date': '2024-04-14'}, excluded_embed_metadata_keys=['file_name', 'file_type', 'file_size', 'creation_date', 'last_modified_date', 'last_accessed_date'], excluded_llm_metadata_keys=['file_name', 'file_type', 'file_size', 'creation_date', 'last_modified_date', 'last_accessed_date'], relationships={}, text='', start_char_idx=None, end_char_idx=None, text_template='{metadata_str}\\n\\n{content}', metadata_template='{key}: {value}', metadata_seperator='\\n', image=None, image_path='/content/mixed_data/frame0014.png', image_url=None, image_mimetype=None, text_embedding=None),\n",
              " ImageDocument(id_='84be113a-e473-4ec3-88c4-2f7d7acda5c2', embedding=None, metadata={'file_path': '/content/mixed_data/frame0015.png', 'file_name': 'frame0015.png', 'file_type': 'image/png', 'file_size': 71384, 'creation_date': '2024-04-14', 'last_modified_date': '2024-04-14'}, excluded_embed_metadata_keys=['file_name', 'file_type', 'file_size', 'creation_date', 'last_modified_date', 'last_accessed_date'], excluded_llm_metadata_keys=['file_name', 'file_type', 'file_size', 'creation_date', 'last_modified_date', 'last_accessed_date'], relationships={}, text='', start_char_idx=None, end_char_idx=None, text_template='{metadata_str}\\n\\n{content}', metadata_template='{key}: {value}', metadata_seperator='\\n', image=None, image_path='/content/mixed_data/frame0015.png', image_url=None, image_mimetype=None, text_embedding=None),\n",
              " ImageDocument(id_='9d500970-e9ee-4a42-b9d9-fd857364127b', embedding=None, metadata={'file_path': '/content/mixed_data/frame0016.png', 'file_name': 'frame0016.png', 'file_type': 'image/png', 'file_size': 89287, 'creation_date': '2024-04-14', 'last_modified_date': '2024-04-14'}, excluded_embed_metadata_keys=['file_name', 'file_type', 'file_size', 'creation_date', 'last_modified_date', 'last_accessed_date'], excluded_llm_metadata_keys=['file_name', 'file_type', 'file_size', 'creation_date', 'last_modified_date', 'last_accessed_date'], relationships={}, text='', start_char_idx=None, end_char_idx=None, text_template='{metadata_str}\\n\\n{content}', metadata_template='{key}: {value}', metadata_seperator='\\n', image=None, image_path='/content/mixed_data/frame0016.png', image_url=None, image_mimetype=None, text_embedding=None),\n",
              " ImageDocument(id_='64243100-6230-4f23-afc0-178d27497604', embedding=None, metadata={'file_path': '/content/mixed_data/frame0017.png', 'file_name': 'frame0017.png', 'file_type': 'image/png', 'file_size': 18400, 'creation_date': '2024-04-14', 'last_modified_date': '2024-04-14'}, excluded_embed_metadata_keys=['file_name', 'file_type', 'file_size', 'creation_date', 'last_modified_date', 'last_accessed_date'], excluded_llm_metadata_keys=['file_name', 'file_type', 'file_size', 'creation_date', 'last_modified_date', 'last_accessed_date'], relationships={}, text='', start_char_idx=None, end_char_idx=None, text_template='{metadata_str}\\n\\n{content}', metadata_template='{key}: {value}', metadata_seperator='\\n', image=None, image_path='/content/mixed_data/frame0017.png', image_url=None, image_mimetype=None, text_embedding=None),\n",
              " ImageDocument(id_='29b9e859-6d11-442c-836c-079375f33941', embedding=None, metadata={'file_path': '/content/mixed_data/frame0018.png', 'file_name': 'frame0018.png', 'file_type': 'image/png', 'file_size': 33208, 'creation_date': '2024-04-14', 'last_modified_date': '2024-04-14'}, excluded_embed_metadata_keys=['file_name', 'file_type', 'file_size', 'creation_date', 'last_modified_date', 'last_accessed_date'], excluded_llm_metadata_keys=['file_name', 'file_type', 'file_size', 'creation_date', 'last_modified_date', 'last_accessed_date'], relationships={}, text='', start_char_idx=None, end_char_idx=None, text_template='{metadata_str}\\n\\n{content}', metadata_template='{key}: {value}', metadata_seperator='\\n', image=None, image_path='/content/mixed_data/frame0018.png', image_url=None, image_mimetype=None, text_embedding=None),\n",
              " ImageDocument(id_='60486c4e-db1a-46de-951f-d22a9514e11b', embedding=None, metadata={'file_path': '/content/mixed_data/frame0019.png', 'file_name': 'frame0019.png', 'file_type': 'image/png', 'file_size': 480515, 'creation_date': '2024-04-14', 'last_modified_date': '2024-04-14'}, excluded_embed_metadata_keys=['file_name', 'file_type', 'file_size', 'creation_date', 'last_modified_date', 'last_accessed_date'], excluded_llm_metadata_keys=['file_name', 'file_type', 'file_size', 'creation_date', 'last_modified_date', 'last_accessed_date'], relationships={}, text='', start_char_idx=None, end_char_idx=None, text_template='{metadata_str}\\n\\n{content}', metadata_template='{key}: {value}', metadata_seperator='\\n', image=None, image_path='/content/mixed_data/frame0019.png', image_url=None, image_mimetype=None, text_embedding=None),\n",
              " ImageDocument(id_='68be4e8d-9240-4795-ad9d-614a527060c2', embedding=None, metadata={'file_path': '/content/mixed_data/frame0020.png', 'file_name': 'frame0020.png', 'file_type': 'image/png', 'file_size': 61079, 'creation_date': '2024-04-14', 'last_modified_date': '2024-04-14'}, excluded_embed_metadata_keys=['file_name', 'file_type', 'file_size', 'creation_date', 'last_modified_date', 'last_accessed_date'], excluded_llm_metadata_keys=['file_name', 'file_type', 'file_size', 'creation_date', 'last_modified_date', 'last_accessed_date'], relationships={}, text='', start_char_idx=None, end_char_idx=None, text_template='{metadata_str}\\n\\n{content}', metadata_template='{key}: {value}', metadata_seperator='\\n', image=None, image_path='/content/mixed_data/frame0020.png', image_url=None, image_mimetype=None, text_embedding=None),\n",
              " ImageDocument(id_='bea15fa9-fe6f-4075-b7f2-d7afe99bdb7b', embedding=None, metadata={'file_path': '/content/mixed_data/frame0021.png', 'file_name': 'frame0021.png', 'file_type': 'image/png', 'file_size': 58073, 'creation_date': '2024-04-14', 'last_modified_date': '2024-04-14'}, excluded_embed_metadata_keys=['file_name', 'file_type', 'file_size', 'creation_date', 'last_modified_date', 'last_accessed_date'], excluded_llm_metadata_keys=['file_name', 'file_type', 'file_size', 'creation_date', 'last_modified_date', 'last_accessed_date'], relationships={}, text='', start_char_idx=None, end_char_idx=None, text_template='{metadata_str}\\n\\n{content}', metadata_template='{key}: {value}', metadata_seperator='\\n', image=None, image_path='/content/mixed_data/frame0021.png', image_url=None, image_mimetype=None, text_embedding=None),\n",
              " ImageDocument(id_='495a15ac-b8e3-47cf-96e3-8064409827c4', embedding=None, metadata={'file_path': '/content/mixed_data/frame0022.png', 'file_name': 'frame0022.png', 'file_type': 'image/png', 'file_size': 58073, 'creation_date': '2024-04-14', 'last_modified_date': '2024-04-14'}, excluded_embed_metadata_keys=['file_name', 'file_type', 'file_size', 'creation_date', 'last_modified_date', 'last_accessed_date'], excluded_llm_metadata_keys=['file_name', 'file_type', 'file_size', 'creation_date', 'last_modified_date', 'last_accessed_date'], relationships={}, text='', start_char_idx=None, end_char_idx=None, text_template='{metadata_str}\\n\\n{content}', metadata_template='{key}: {value}', metadata_seperator='\\n', image=None, image_path='/content/mixed_data/frame0022.png', image_url=None, image_mimetype=None, text_embedding=None),\n",
              " ImageDocument(id_='8d233ca8-b0ee-4c35-a927-337fa67fcc92', embedding=None, metadata={'file_path': '/content/mixed_data/frame0023.png', 'file_name': 'frame0023.png', 'file_type': 'image/png', 'file_size': 64512, 'creation_date': '2024-04-14', 'last_modified_date': '2024-04-14'}, excluded_embed_metadata_keys=['file_name', 'file_type', 'file_size', 'creation_date', 'last_modified_date', 'last_accessed_date'], excluded_llm_metadata_keys=['file_name', 'file_type', 'file_size', 'creation_date', 'last_modified_date', 'last_accessed_date'], relationships={}, text='', start_char_idx=None, end_char_idx=None, text_template='{metadata_str}\\n\\n{content}', metadata_template='{key}: {value}', metadata_seperator='\\n', image=None, image_path='/content/mixed_data/frame0023.png', image_url=None, image_mimetype=None, text_embedding=None),\n",
              " ImageDocument(id_='3db2cde0-20fd-4225-a0b8-da85a3903791', embedding=None, metadata={'file_path': '/content/mixed_data/frame0024.png', 'file_name': 'frame0024.png', 'file_type': 'image/png', 'file_size': 74971, 'creation_date': '2024-04-14', 'last_modified_date': '2024-04-14'}, excluded_embed_metadata_keys=['file_name', 'file_type', 'file_size', 'creation_date', 'last_modified_date', 'last_accessed_date'], excluded_llm_metadata_keys=['file_name', 'file_type', 'file_size', 'creation_date', 'last_modified_date', 'last_accessed_date'], relationships={}, text='', start_char_idx=None, end_char_idx=None, text_template='{metadata_str}\\n\\n{content}', metadata_template='{key}: {value}', metadata_seperator='\\n', image=None, image_path='/content/mixed_data/frame0024.png', image_url=None, image_mimetype=None, text_embedding=None),\n",
              " ImageDocument(id_='fabc5788-f2e5-4be2-ae01-ae1cc36ba742', embedding=None, metadata={'file_path': '/content/mixed_data/frame0025.png', 'file_name': 'frame0025.png', 'file_type': 'image/png', 'file_size': 83377, 'creation_date': '2024-04-14', 'last_modified_date': '2024-04-14'}, excluded_embed_metadata_keys=['file_name', 'file_type', 'file_size', 'creation_date', 'last_modified_date', 'last_accessed_date'], excluded_llm_metadata_keys=['file_name', 'file_type', 'file_size', 'creation_date', 'last_modified_date', 'last_accessed_date'], relationships={}, text='', start_char_idx=None, end_char_idx=None, text_template='{metadata_str}\\n\\n{content}', metadata_template='{key}: {value}', metadata_seperator='\\n', image=None, image_path='/content/mixed_data/frame0025.png', image_url=None, image_mimetype=None, text_embedding=None),\n",
              " ImageDocument(id_='414f1913-2519-4007-83fb-17b3a9ae0daf', embedding=None, metadata={'file_path': '/content/mixed_data/frame0026.png', 'file_name': 'frame0026.png', 'file_type': 'image/png', 'file_size': 71661, 'creation_date': '2024-04-14', 'last_modified_date': '2024-04-14'}, excluded_embed_metadata_keys=['file_name', 'file_type', 'file_size', 'creation_date', 'last_modified_date', 'last_accessed_date'], excluded_llm_metadata_keys=['file_name', 'file_type', 'file_size', 'creation_date', 'last_modified_date', 'last_accessed_date'], relationships={}, text='', start_char_idx=None, end_char_idx=None, text_template='{metadata_str}\\n\\n{content}', metadata_template='{key}: {value}', metadata_seperator='\\n', image=None, image_path='/content/mixed_data/frame0026.png', image_url=None, image_mimetype=None, text_embedding=None),\n",
              " ImageDocument(id_='647ab44d-a8a3-4517-8e92-7decafa32625', embedding=None, metadata={'file_path': '/content/mixed_data/frame0027.png', 'file_name': 'frame0027.png', 'file_type': 'image/png', 'file_size': 70238, 'creation_date': '2024-04-14', 'last_modified_date': '2024-04-14'}, excluded_embed_metadata_keys=['file_name', 'file_type', 'file_size', 'creation_date', 'last_modified_date', 'last_accessed_date'], excluded_llm_metadata_keys=['file_name', 'file_type', 'file_size', 'creation_date', 'last_modified_date', 'last_accessed_date'], relationships={}, text='', start_char_idx=None, end_char_idx=None, text_template='{metadata_str}\\n\\n{content}', metadata_template='{key}: {value}', metadata_seperator='\\n', image=None, image_path='/content/mixed_data/frame0027.png', image_url=None, image_mimetype=None, text_embedding=None),\n",
              " ImageDocument(id_='c56af4a3-6c73-4b25-9af9-cf0cd2b3319c', embedding=None, metadata={'file_path': '/content/mixed_data/frame0028.png', 'file_name': 'frame0028.png', 'file_type': 'image/png', 'file_size': 65903, 'creation_date': '2024-04-14', 'last_modified_date': '2024-04-14'}, excluded_embed_metadata_keys=['file_name', 'file_type', 'file_size', 'creation_date', 'last_modified_date', 'last_accessed_date'], excluded_llm_metadata_keys=['file_name', 'file_type', 'file_size', 'creation_date', 'last_modified_date', 'last_accessed_date'], relationships={}, text='', start_char_idx=None, end_char_idx=None, text_template='{metadata_str}\\n\\n{content}', metadata_template='{key}: {value}', metadata_seperator='\\n', image=None, image_path='/content/mixed_data/frame0028.png', image_url=None, image_mimetype=None, text_embedding=None),\n",
              " ImageDocument(id_='8f676277-e81b-4482-8c6c-f99297693ee5', embedding=None, metadata={'file_path': '/content/mixed_data/frame0029.png', 'file_name': 'frame0029.png', 'file_type': 'image/png', 'file_size': 214295, 'creation_date': '2024-04-14', 'last_modified_date': '2024-04-14'}, excluded_embed_metadata_keys=['file_name', 'file_type', 'file_size', 'creation_date', 'last_modified_date', 'last_accessed_date'], excluded_llm_metadata_keys=['file_name', 'file_type', 'file_size', 'creation_date', 'last_modified_date', 'last_accessed_date'], relationships={}, text='', start_char_idx=None, end_char_idx=None, text_template='{metadata_str}\\n\\n{content}', metadata_template='{key}: {value}', metadata_seperator='\\n', image=None, image_path='/content/mixed_data/frame0029.png', image_url=None, image_mimetype=None, text_embedding=None),\n",
              " ImageDocument(id_='1e68d815-0133-4ba4-8204-3e7164d42dfc', embedding=None, metadata={'file_path': '/content/mixed_data/frame0030.png', 'file_name': 'frame0030.png', 'file_type': 'image/png', 'file_size': 276264, 'creation_date': '2024-04-14', 'last_modified_date': '2024-04-14'}, excluded_embed_metadata_keys=['file_name', 'file_type', 'file_size', 'creation_date', 'last_modified_date', 'last_accessed_date'], excluded_llm_metadata_keys=['file_name', 'file_type', 'file_size', 'creation_date', 'last_modified_date', 'last_accessed_date'], relationships={}, text='', start_char_idx=None, end_char_idx=None, text_template='{metadata_str}\\n\\n{content}', metadata_template='{key}: {value}', metadata_seperator='\\n', image=None, image_path='/content/mixed_data/frame0030.png', image_url=None, image_mimetype=None, text_embedding=None),\n",
              " ImageDocument(id_='e998140b-e436-4008-9f22-c8d2fb3f0920', embedding=None, metadata={'file_path': '/content/mixed_data/frame0031.png', 'file_name': 'frame0031.png', 'file_type': 'image/png', 'file_size': 275569, 'creation_date': '2024-04-14', 'last_modified_date': '2024-04-14'}, excluded_embed_metadata_keys=['file_name', 'file_type', 'file_size', 'creation_date', 'last_modified_date', 'last_accessed_date'], excluded_llm_metadata_keys=['file_name', 'file_type', 'file_size', 'creation_date', 'last_modified_date', 'last_accessed_date'], relationships={}, text='', start_char_idx=None, end_char_idx=None, text_template='{metadata_str}\\n\\n{content}', metadata_template='{key}: {value}', metadata_seperator='\\n', image=None, image_path='/content/mixed_data/frame0031.png', image_url=None, image_mimetype=None, text_embedding=None),\n",
              " ImageDocument(id_='cd649f9c-69c6-4d01-ae50-d99f93f2c138', embedding=None, metadata={'file_path': '/content/mixed_data/frame0032.png', 'file_name': 'frame0032.png', 'file_type': 'image/png', 'file_size': 268317, 'creation_date': '2024-04-14', 'last_modified_date': '2024-04-14'}, excluded_embed_metadata_keys=['file_name', 'file_type', 'file_size', 'creation_date', 'last_modified_date', 'last_accessed_date'], excluded_llm_metadata_keys=['file_name', 'file_type', 'file_size', 'creation_date', 'last_modified_date', 'last_accessed_date'], relationships={}, text='', start_char_idx=None, end_char_idx=None, text_template='{metadata_str}\\n\\n{content}', metadata_template='{key}: {value}', metadata_seperator='\\n', image=None, image_path='/content/mixed_data/frame0032.png', image_url=None, image_mimetype=None, text_embedding=None),\n",
              " ImageDocument(id_='deb920f2-2cf1-4528-b819-ca8f43406a26', embedding=None, metadata={'file_path': '/content/mixed_data/frame0033.png', 'file_name': 'frame0033.png', 'file_type': 'image/png', 'file_size': 128474, 'creation_date': '2024-04-14', 'last_modified_date': '2024-04-14'}, excluded_embed_metadata_keys=['file_name', 'file_type', 'file_size', 'creation_date', 'last_modified_date', 'last_accessed_date'], excluded_llm_metadata_keys=['file_name', 'file_type', 'file_size', 'creation_date', 'last_modified_date', 'last_accessed_date'], relationships={}, text='', start_char_idx=None, end_char_idx=None, text_template='{metadata_str}\\n\\n{content}', metadata_template='{key}: {value}', metadata_seperator='\\n', image=None, image_path='/content/mixed_data/frame0033.png', image_url=None, image_mimetype=None, text_embedding=None),\n",
              " ImageDocument(id_='e59f9834-cc97-4cf8-99f4-d9e9fab6ad71', embedding=None, metadata={'file_path': '/content/mixed_data/frame0034.png', 'file_name': 'frame0034.png', 'file_type': 'image/png', 'file_size': 32376, 'creation_date': '2024-04-14', 'last_modified_date': '2024-04-14'}, excluded_embed_metadata_keys=['file_name', 'file_type', 'file_size', 'creation_date', 'last_modified_date', 'last_accessed_date'], excluded_llm_metadata_keys=['file_name', 'file_type', 'file_size', 'creation_date', 'last_modified_date', 'last_accessed_date'], relationships={}, text='', start_char_idx=None, end_char_idx=None, text_template='{metadata_str}\\n\\n{content}', metadata_template='{key}: {value}', metadata_seperator='\\n', image=None, image_path='/content/mixed_data/frame0034.png', image_url=None, image_mimetype=None, text_embedding=None),\n",
              " ImageDocument(id_='2c31f02a-3410-4dca-a36a-6702fa09bfa3', embedding=None, metadata={'file_path': '/content/mixed_data/frame0035.png', 'file_name': 'frame0035.png', 'file_type': 'image/png', 'file_size': 48350, 'creation_date': '2024-04-14', 'last_modified_date': '2024-04-14'}, excluded_embed_metadata_keys=['file_name', 'file_type', 'file_size', 'creation_date', 'last_modified_date', 'last_accessed_date'], excluded_llm_metadata_keys=['file_name', 'file_type', 'file_size', 'creation_date', 'last_modified_date', 'last_accessed_date'], relationships={}, text='', start_char_idx=None, end_char_idx=None, text_template='{metadata_str}\\n\\n{content}', metadata_template='{key}: {value}', metadata_seperator='\\n', image=None, image_path='/content/mixed_data/frame0035.png', image_url=None, image_mimetype=None, text_embedding=None),\n",
              " ImageDocument(id_='319d4af2-959e-464b-8dc1-28ba05f643dd', embedding=None, metadata={'file_path': '/content/mixed_data/frame0036.png', 'file_name': 'frame0036.png', 'file_type': 'image/png', 'file_size': 81497, 'creation_date': '2024-04-14', 'last_modified_date': '2024-04-14'}, excluded_embed_metadata_keys=['file_name', 'file_type', 'file_size', 'creation_date', 'last_modified_date', 'last_accessed_date'], excluded_llm_metadata_keys=['file_name', 'file_type', 'file_size', 'creation_date', 'last_modified_date', 'last_accessed_date'], relationships={}, text='', start_char_idx=None, end_char_idx=None, text_template='{metadata_str}\\n\\n{content}', metadata_template='{key}: {value}', metadata_seperator='\\n', image=None, image_path='/content/mixed_data/frame0036.png', image_url=None, image_mimetype=None, text_embedding=None),\n",
              " ImageDocument(id_='4e24dbfb-1d7f-4b3e-afc5-a6fcade7d5d3', embedding=None, metadata={'file_path': '/content/mixed_data/frame0037.png', 'file_name': 'frame0037.png', 'file_type': 'image/png', 'file_size': 79921, 'creation_date': '2024-04-14', 'last_modified_date': '2024-04-14'}, excluded_embed_metadata_keys=['file_name', 'file_type', 'file_size', 'creation_date', 'last_modified_date', 'last_accessed_date'], excluded_llm_metadata_keys=['file_name', 'file_type', 'file_size', 'creation_date', 'last_modified_date', 'last_accessed_date'], relationships={}, text='', start_char_idx=None, end_char_idx=None, text_template='{metadata_str}\\n\\n{content}', metadata_template='{key}: {value}', metadata_seperator='\\n', image=None, image_path='/content/mixed_data/frame0037.png', image_url=None, image_mimetype=None, text_embedding=None),\n",
              " ImageDocument(id_='4e7a6455-6741-418b-8e89-174d2830628a', embedding=None, metadata={'file_path': '/content/mixed_data/frame0038.png', 'file_name': 'frame0038.png', 'file_type': 'image/png', 'file_size': 76762, 'creation_date': '2024-04-14', 'last_modified_date': '2024-04-14'}, excluded_embed_metadata_keys=['file_name', 'file_type', 'file_size', 'creation_date', 'last_modified_date', 'last_accessed_date'], excluded_llm_metadata_keys=['file_name', 'file_type', 'file_size', 'creation_date', 'last_modified_date', 'last_accessed_date'], relationships={}, text='', start_char_idx=None, end_char_idx=None, text_template='{metadata_str}\\n\\n{content}', metadata_template='{key}: {value}', metadata_seperator='\\n', image=None, image_path='/content/mixed_data/frame0038.png', image_url=None, image_mimetype=None, text_embedding=None),\n",
              " ImageDocument(id_='dc9b97e9-41cc-4477-b137-9192486d9709', embedding=None, metadata={'file_path': '/content/mixed_data/frame0039.png', 'file_name': 'frame0039.png', 'file_type': 'image/png', 'file_size': 98337, 'creation_date': '2024-04-14', 'last_modified_date': '2024-04-14'}, excluded_embed_metadata_keys=['file_name', 'file_type', 'file_size', 'creation_date', 'last_modified_date', 'last_accessed_date'], excluded_llm_metadata_keys=['file_name', 'file_type', 'file_size', 'creation_date', 'last_modified_date', 'last_accessed_date'], relationships={}, text='', start_char_idx=None, end_char_idx=None, text_template='{metadata_str}\\n\\n{content}', metadata_template='{key}: {value}', metadata_seperator='\\n', image=None, image_path='/content/mixed_data/frame0039.png', image_url=None, image_mimetype=None, text_embedding=None),\n",
              " ImageDocument(id_='1539c155-8bfd-44f9-9c54-957519a11d10', embedding=None, metadata={'file_path': '/content/mixed_data/frame0040.png', 'file_name': 'frame0040.png', 'file_type': 'image/png', 'file_size': 266352, 'creation_date': '2024-04-14', 'last_modified_date': '2024-04-14'}, excluded_embed_metadata_keys=['file_name', 'file_type', 'file_size', 'creation_date', 'last_modified_date', 'last_accessed_date'], excluded_llm_metadata_keys=['file_name', 'file_type', 'file_size', 'creation_date', 'last_modified_date', 'last_accessed_date'], relationships={}, text='', start_char_idx=None, end_char_idx=None, text_template='{metadata_str}\\n\\n{content}', metadata_template='{key}: {value}', metadata_seperator='\\n', image=None, image_path='/content/mixed_data/frame0040.png', image_url=None, image_mimetype=None, text_embedding=None),\n",
              " ImageDocument(id_='8feeb1ca-73a0-4c1e-8bb7-aaa7440b26b7', embedding=None, metadata={'file_path': '/content/mixed_data/frame0041.png', 'file_name': 'frame0041.png', 'file_type': 'image/png', 'file_size': 266334, 'creation_date': '2024-04-14', 'last_modified_date': '2024-04-14'}, excluded_embed_metadata_keys=['file_name', 'file_type', 'file_size', 'creation_date', 'last_modified_date', 'last_accessed_date'], excluded_llm_metadata_keys=['file_name', 'file_type', 'file_size', 'creation_date', 'last_modified_date', 'last_accessed_date'], relationships={}, text='', start_char_idx=None, end_char_idx=None, text_template='{metadata_str}\\n\\n{content}', metadata_template='{key}: {value}', metadata_seperator='\\n', image=None, image_path='/content/mixed_data/frame0041.png', image_url=None, image_mimetype=None, text_embedding=None),\n",
              " ImageDocument(id_='c0fedee2-a3d8-4129-8c3d-1fd1c0383209', embedding=None, metadata={'file_path': '/content/mixed_data/frame0042.png', 'file_name': 'frame0042.png', 'file_type': 'image/png', 'file_size': 266345, 'creation_date': '2024-04-14', 'last_modified_date': '2024-04-14'}, excluded_embed_metadata_keys=['file_name', 'file_type', 'file_size', 'creation_date', 'last_modified_date', 'last_accessed_date'], excluded_llm_metadata_keys=['file_name', 'file_type', 'file_size', 'creation_date', 'last_modified_date', 'last_accessed_date'], relationships={}, text='', start_char_idx=None, end_char_idx=None, text_template='{metadata_str}\\n\\n{content}', metadata_template='{key}: {value}', metadata_seperator='\\n', image=None, image_path='/content/mixed_data/frame0042.png', image_url=None, image_mimetype=None, text_embedding=None),\n",
              " ImageDocument(id_='c5329612-cfa7-4505-be45-acdb8c976785', embedding=None, metadata={'file_path': '/content/mixed_data/frame0043.png', 'file_name': 'frame0043.png', 'file_type': 'image/png', 'file_size': 408080, 'creation_date': '2024-04-14', 'last_modified_date': '2024-04-14'}, excluded_embed_metadata_keys=['file_name', 'file_type', 'file_size', 'creation_date', 'last_modified_date', 'last_accessed_date'], excluded_llm_metadata_keys=['file_name', 'file_type', 'file_size', 'creation_date', 'last_modified_date', 'last_accessed_date'], relationships={}, text='', start_char_idx=None, end_char_idx=None, text_template='{metadata_str}\\n\\n{content}', metadata_template='{key}: {value}', metadata_seperator='\\n', image=None, image_path='/content/mixed_data/frame0043.png', image_url=None, image_mimetype=None, text_embedding=None),\n",
              " ImageDocument(id_='75fd8b16-283c-4882-997c-5ce520a511c4', embedding=None, metadata={'file_path': '/content/mixed_data/frame0044.png', 'file_name': 'frame0044.png', 'file_type': 'image/png', 'file_size': 266346, 'creation_date': '2024-04-14', 'last_modified_date': '2024-04-14'}, excluded_embed_metadata_keys=['file_name', 'file_type', 'file_size', 'creation_date', 'last_modified_date', 'last_accessed_date'], excluded_llm_metadata_keys=['file_name', 'file_type', 'file_size', 'creation_date', 'last_modified_date', 'last_accessed_date'], relationships={}, text='', start_char_idx=None, end_char_idx=None, text_template='{metadata_str}\\n\\n{content}', metadata_template='{key}: {value}', metadata_seperator='\\n', image=None, image_path='/content/mixed_data/frame0044.png', image_url=None, image_mimetype=None, text_embedding=None),\n",
              " ImageDocument(id_='ca701b46-9abf-4163-ae4b-91d4432a2f6b', embedding=None, metadata={'file_path': '/content/mixed_data/frame0045.png', 'file_name': 'frame0045.png', 'file_type': 'image/png', 'file_size': 266334, 'creation_date': '2024-04-14', 'last_modified_date': '2024-04-14'}, excluded_embed_metadata_keys=['file_name', 'file_type', 'file_size', 'creation_date', 'last_modified_date', 'last_accessed_date'], excluded_llm_metadata_keys=['file_name', 'file_type', 'file_size', 'creation_date', 'last_modified_date', 'last_accessed_date'], relationships={}, text='', start_char_idx=None, end_char_idx=None, text_template='{metadata_str}\\n\\n{content}', metadata_template='{key}: {value}', metadata_seperator='\\n', image=None, image_path='/content/mixed_data/frame0045.png', image_url=None, image_mimetype=None, text_embedding=None),\n",
              " ImageDocument(id_='b5328349-3e5c-4093-b0db-467e5b1fc61f', embedding=None, metadata={'file_path': '/content/mixed_data/frame0046.png', 'file_name': 'frame0046.png', 'file_type': 'image/png', 'file_size': 2820, 'creation_date': '2024-04-14', 'last_modified_date': '2024-04-14'}, excluded_embed_metadata_keys=['file_name', 'file_type', 'file_size', 'creation_date', 'last_modified_date', 'last_accessed_date'], excluded_llm_metadata_keys=['file_name', 'file_type', 'file_size', 'creation_date', 'last_modified_date', 'last_accessed_date'], relationships={}, text='', start_char_idx=None, end_char_idx=None, text_template='{metadata_str}\\n\\n{content}', metadata_template='{key}: {value}', metadata_seperator='\\n', image=None, image_path='/content/mixed_data/frame0046.png', image_url=None, image_mimetype=None, text_embedding=None),\n",
              " Document(id_='32c8b180-97c9-4de4-a044-ec7d02cd1f79', embedding=None, metadata={'file_path': '/content/mixed_data/output_text.txt', 'file_name': 'output_text.txt', 'file_type': 'text/plain', 'file_size': 3400, 'creation_date': '2024-04-14', 'last_modified_date': '2024-04-14'}, excluded_embed_metadata_keys=['file_name', 'file_type', 'file_size', 'creation_date', 'last_modified_date', 'last_accessed_date'], excluded_llm_metadata_keys=['file_name', 'file_type', 'file_size', 'creation_date', 'last_modified_date', 'last_accessed_date'], relationships={}, text=\" Lanyard regression is a statistical technique for modeling the relationship between an output variable and one or more input variables. In layman's terms, think of it as fitting a line through some data points as shown here, so you can make predictions on unknown data, assuming there is a linear relationship between the variables. You might be familiar with the linear function y equals mx plus b, where y is the output variable, also called the dependent variable. You may also see expressed as f of x, the function of the input variable. x on the other hand, would serve as the input variable, also called the independent variable. It's likely you'll see the coefficients m and b expressed as beta 1 and beta 0 respectively. So what do the m and b coefficients do? The m or beta 1 coefficient controls the slope of the line. The b or the beta 0 controls the intercept of the line. In machine learning, we also know it as the bias. These two coefficients are what we are solving for in linear regression. We can also extend to multiple input variables, so x1, x2, x3, with beta 1, beta 2, and beta 3, and so on, acting as slopes for each of those variables. In these higher dimensions, you would visualize the linear regression as a hyperplane. So how do we fit the line to these points? Well, you'll notice that there's these differences between the points and the line, these little red segments, these are called residuals. They are the differences between the data points and the predictions the line would produce. Take each of these residuals and square them. These are the squared errors, and notice that the large of the residuals are, the more amplified area of the squares are. If we total the areas of all of these squares for a given line, we will get the sum of the squared error, and this is known as our loss function. We need to find the beta 0 and beta 1 coefficients that will minimize that sum of squared error. The coefficients can be solved with a variety of techniques ranging from matrix decomposition to gradient descent, which is depicted right here. Thankfully, a lot of libraries are available to do this for us, and we will deep dive into these topics in other videos. To validate a linear regression, there are a number of techniques. Machine learning practitioners will often take a third of the data and put it into the test data set. The remaining two thirds will become the training data set. The training data set will then be used to fit the regression line. The test data set will then be used to validate the regression line. This is done to make sure that the regression performs well on data it has not seen before. The tricks used to evaluate the linear regression vary from the R square, standard error of the estimate, prediction intervals, as well as statistical significance. These are topics we will cover in future videos. If you enjoyed this video, please like and subscribe. Look at my two O'Reilly books, Essential Math for Data Science, and getting started with SQL. Chapter five of Essential Math for Data Science actually covers linear regression and much more depth. If you want live instruction, I also do teach on the O'Reilly platform. Promotional link below. I teach classes including machine learning from scratch, probability, and SQL. Comment on what topics you would like to see next, and I will see you again on 3 Minute Data Science.\", start_char_idx=None, end_char_idx=None, text_template='{metadata_str}\\n\\n{content}', metadata_template='{key}: {value}', metadata_seperator='\\n')]"
            ]
          },
          "metadata": {},
          "execution_count": 46
        }
      ]
    },
    {
      "cell_type": "code",
      "source": [
        "index = MultiModalVectorStoreIndex.from_documents(documents,storage_context=storage_context)"
      ],
      "metadata": {
        "id": "AwTfvUfKZI3N",
        "colab": {
          "base_uri": "https://localhost:8080/"
        },
        "outputId": "5b43dbac-0d30-4df7-eb1e-163f0bf4769d"
      },
      "execution_count": 47,
      "outputs": [
        {
          "output_type": "stream",
          "name": "stderr",
          "text": [
            "100%|████████████████████████████████████████| 338M/338M [00:03<00:00, 104MiB/s]\n"
          ]
        }
      ]
    },
    {
      "cell_type": "code",
      "source": [
        "retriever_engine=index.as_retriever(imilarity_top_k=3, image_similarity_top_k=3)"
      ],
      "metadata": {
        "id": "6C3MQsSoZfEF"
      },
      "execution_count": 48,
      "outputs": []
    },
    {
      "cell_type": "markdown",
      "source": [
        "# RAG"
      ],
      "metadata": {
        "id": "bRd-FZlQaSDy"
      }
    },
    {
      "cell_type": "code",
      "source": [
        "import json\n",
        "metadata_str=json.dumps(metadata_vid)"
      ],
      "metadata": {
        "id": "6C8FU_Frav0G"
      },
      "execution_count": 49,
      "outputs": []
    },
    {
      "cell_type": "code",
      "source": [
        "qa_tmpl_str=(\n",
        "    \"Given the provided information, including relevant images and retrieved context from the video, \\\n",
        "    accurately and precisely answer the query without any additional prior knowledge.\\n\"\n",
        "\n",
        "    \"---------------------\\n\"\n",
        "    \"Context: {context_str}\\n\"\n",
        "    \"Metadata for video: {metadata_str} \\n\"\n",
        "\n",
        "    \"---------------------\\n\"\n",
        "    \"Query: {query_str}\\n\"\n",
        "    \"Answer: \"\n",
        ")"
      ],
      "metadata": {
        "id": "Gdmv61G7aBV6"
      },
      "execution_count": 50,
      "outputs": []
    },
    {
      "cell_type": "code",
      "source": [
        "qa_tmpl_str2=(\n",
        "    \"Given the provided information, including relevant images and retrieved context from the video, \\\n",
        "    accurately and precisely answer the query without any additional prior knowledge.\\n\"\n",
        "\n",
        "    \"---------------------\\n\"\n",
        "    \"Metadata for video: {metadata_str} \\n\"\n",
        "\n",
        "    \"---------------------\\n\"\n",
        "    \"Query: {query_str}\\n\"\n",
        "    \"Answer: \"\n",
        ")"
      ],
      "metadata": {
        "id": "WEhBVKp_mwjw"
      },
      "execution_count": 51,
      "outputs": []
    },
    {
      "cell_type": "code",
      "source": [
        "from llama_index.core.response.notebook_utils import display_source_node\n",
        "from llama_index.core.schema import ImageNode"
      ],
      "metadata": {
        "id": "Y8HG926xa9iD"
      },
      "execution_count": 52,
      "outputs": []
    },
    {
      "cell_type": "markdown",
      "source": [
        "# Query 1"
      ],
      "metadata": {
        "id": "uVWdKwVRqokx"
      }
    },
    {
      "cell_type": "code",
      "source": [
        "query_str=\"what is multiple linear regression?\""
      ],
      "metadata": {
        "id": "86gwR3VDbMq-"
      },
      "execution_count": 53,
      "outputs": []
    },
    {
      "cell_type": "code",
      "source": [
        "retrieval_results=retriever_engine.retrieve(query_str)"
      ],
      "metadata": {
        "id": "t1UdrwiqbFLI"
      },
      "execution_count": 54,
      "outputs": []
    },
    {
      "cell_type": "code",
      "source": [
        "retrieval_results"
      ],
      "metadata": {
        "id": "T9AzdZk8braf",
        "colab": {
          "base_uri": "https://localhost:8080/"
        },
        "outputId": "5a916812-4204-4f5a-d0bd-3af292d539d5"
      },
      "execution_count": 55,
      "outputs": [
        {
          "output_type": "execute_result",
          "data": {
            "text/plain": [
              "[NodeWithScore(node=TextNode(id_='2d97b645-ed94-45be-8c3b-6edbebfa27ea', embedding=[-0.011831889860332012, 0.0038376476150006056, -0.001850233180448413, -0.011338036507368088, -0.010082827880978584, 0.0011677560396492481, 0.0016093084122985601, 0.00849838275462389, -0.03259428218007088, -0.042553648352622986, -0.006865925621241331, 0.025419699028134346, -0.001395819941535592, 0.02853371575474739, 0.007867349311709404, -0.016804711893200874, 0.02399301342666149, 0.010727579705417156, 0.0436236634850502, -0.020138218998908997, -0.030728617683053017, 0.012943058274686337, -0.013231138698756695, -0.01629714109003544, -0.014417757280170918, -0.019520903006196022, 0.030344508588314056, -0.019685519859194756, 0.006968811620026827, -0.0025601466186344624, 0.012744145467877388, -0.006931086536496878, -0.009931928478181362, -0.019891291856765747, -0.010508089326322079, -0.02037142775952816, 0.011777017265558243, -0.001055438886396587, 0.023869551718235016, -0.01819024421274662, 0.021263105794787407, 0.020138218998908997, -0.0037107549142092466, -0.021139642223715782, 0.006934516131877899, -0.004355506971478462, 0.024637766182422638, -0.05640896037220955, -0.02273094654083252, 0.02371865138411522, 0.0033952377270907164, 0.011187137104570866, -0.03135965019464493, -0.01664009504020214, 0.0002259204920846969, 0.016845867037773132, 0.015323154628276825, 0.013025366701185703, 0.0005808771820738912, -0.025323672220110893, -0.011921057477593422, -0.0009979940950870514, -0.009767310693860054, -0.017161384224891663, 0.01713394746184349, -0.008985376916825771, 0.013937623240053654, 0.024624047800898552, -0.007407791446894407, 0.033335063606500626, -0.023389415815472603, 0.008923645131289959, 0.013656401075422764, 0.013711273670196533, 0.015446617268025875, 0.008313188329339027, -0.03371917083859444, -0.007044261321425438, 0.010672707110643387, 0.012325742281973362, 0.009767310693860054, -0.005041413940489292, 0.0007574981427751482, 0.023814678192138672, 0.023032745346426964, -0.030207328498363495, -0.003438106970861554, 0.034185588359832764, -0.013176266103982925, -0.02814960852265358, -0.007839912548661232, 0.004499547649174929, 0.024047886952757835, -0.00914999470114708, 0.009280316531658173, 0.0019788406789302826, 0.010652130469679832, 0.020083345472812653, 0.007695872336626053, -0.010562961921095848, 0.004516695160418749, -0.0025515726301819086, -0.02727164700627327, -0.009424356743693352, -0.04205979406833649, -0.006941375322639942, -0.004166882950812578, -0.016667531803250313, 0.017188820987939835, 0.0023835254833102226, -0.036325614899396896, 0.04351391643285751, -0.016489194706082344, -0.035667143762111664, 0.013196843676269054, -0.00452012475579977, 0.01456865668296814, -0.024335967376828194, -0.021125923842191696, 0.005603857338428497, 0.025927269831299782, 0.01174958050251007, 0.026860103011131287, -0.008470946922898293, 0.01551520824432373, 0.000653754745144397, -0.001841659308411181, 0.0001713694800855592, -0.010302317328751087, -0.01836857944726944, -0.0037519093602895737, 0.009794746525585651, -0.006114857736974955, 0.018066780641674995, -0.013045944273471832, 0.015021354891359806, 0.002280639484524727, -0.0004441245400812477, -0.0399746373295784, -0.03437764197587967, 0.030810926109552383, 0.009458652697503567, -0.0103640491142869, 0.0010905915405601263, -0.008930504322052002, 0.023938141763210297, 0.00581305893138051, 0.02054976299405098, -0.0032014693133533, -0.00650925375521183, 0.00662242854014039, -0.02041258104145527, 0.010912774130702019, -0.0012792159104719758, -0.0049968296661973, -0.010350330732762814, 0.016489194706082344, 0.013896468095481396, -0.024047886952757835, -0.007016825024038553, 0.012380614876747131, 0.03673715889453888, -0.01032975409179926, 0.01030917651951313, 0.02709331177175045, 0.03876744210720062, 0.0005491540068760514, -0.01681843027472496, -0.004863078240305185, 0.012943058274686337, 0.006800764240324497, 0.03964540362358093, -0.05042785406112671, 0.02691497653722763, 0.006018830928951502, -0.007750744931399822, -0.0032477679196745157, -0.003463828470557928, -0.02579008974134922, -0.019644366577267647, -0.005926233250647783, 0.01677727699279785, 0.01208567526191473, 0.02639368735253811, -0.005391226150095463, -0.0006571842823177576, 0.004616151563823223, -0.016900738701224327, -0.015172254294157028, -0.0313870869576931, 0.022456582635641098, 0.021894140169024467, -0.007894785143435001, -0.019685519859194756, -0.6255468726158142, -0.0022737805265933275, 0.003228905377909541, -0.0010460076155140996, -0.0030660026241093874, -0.005010548047721386, 0.005881649442017078, -0.029603730887174606, -0.011811312288045883, 0.04359622672200203, -0.0020234244875609875, 0.0024401128757745028, 0.005267763044685125, -0.03514585644006729, -0.002035427838563919, -0.014061085879802704, -0.018492043018341064, -0.012572668492794037, -0.011413486674427986, 0.02068694494664669, -0.04074285551905632, 0.02952142059803009, -0.016722403466701508, 0.03561227396130562, -0.007421509828418493, 0.011722144670784473, 0.009513525292277336, 0.011653553694486618, 0.034816619008779526, 0.012161124497652054, -0.014637247659265995, 0.009931928478181362, 0.01646175980567932, 0.009657565504312515, 0.04038618132472038, -0.027463702484965324, -0.0072294557467103004, 0.022209657356142998, 0.026311378926038742, 0.044391877949237823, -0.025213927030563354, -0.03292351961135864, 0.012291447259485722, -0.0008959655533544719, 0.004931668750941753, -0.012826453894376755, 0.022086193785071373, 0.008107416331768036, 0.0009422642178833485, -0.03338993340730667, -0.015021354891359806, -0.00927345734089613, -0.010576680302619934, -0.03037194535136223, 0.009877055883407593, -0.01344376988708973, 0.04008438438177109, -0.01632457785308361, 0.023060180246829987, -0.017079075798392296, -0.014211985282599926, -0.029603730887174606, -0.02111220546066761, -0.012161124497652054, -0.009342048317193985, 0.025639189407229424, 0.021688368171453476, 0.0032169020269066095, 0.0016204543644562364, -0.012188561260700226, 0.01794331707060337, 0.02399301342666149, 0.006656724028289318, -0.02603701502084732, -0.01419826690107584, 0.024678921326994896, 0.018601788207888603, 0.024939564988017082, -0.0011120261624455452, 0.009753592312335968, 0.004304063972085714, 0.011008801870048046, -0.010508089326322079, -0.002966546220704913, 0.03264915570616722, 0.017037920653820038, -0.008621846325695515, 0.01364954188466072, 0.0017850720323622227, 0.021345414221286774, 0.005720461253076792, 0.007044261321425438, -0.027504855766892433, -0.03723101317882538, 0.01189362071454525, 0.019054485484957695, 0.0003939676098525524, 0.001025430392473936, 0.022785818204283714, -0.025913553312420845, -0.020316554233431816, 0.022250810638070107, 0.0012252007145434618, 0.0046710241585969925, 0.014349167235195637, 0.02167464978992939, 0.018341142684221268, 0.005250615067780018, 0.003228905377909541, -0.05061991140246391, -0.01096078846603632, -0.01688702218234539, 0.004729326348751783, 0.0034672580659389496, 0.015350590460002422, -0.02814960852265358, -2.8159682187833823e-05, -0.014061085879802704, 0.010638412088155746, -0.012956776656210423, 0.041291579604148865, 0.0067870463244616985, 0.0175180546939373, -0.019273975864052773, -0.001391533063724637, 0.000552583544049412, 0.018341142684221268, -0.000763499818276614, -0.008717873133718967, -0.01945231296122074, -0.0011703282361850142, -0.019081922248005867, 0.014061085879802704, -0.028341662138700485, -0.004893943667411804, -0.010556102730333805, 0.01439032144844532, -0.012936199083924294, 0.0019325419561937451, -0.010823606513440609, -0.03459713235497475, -0.010466935113072395, 0.010062250308692455, 0.005274622235447168, -0.03890462592244148, -0.030179891735315323, -0.02041258104145527, 0.01681843027472496, 0.015583798289299011, -0.0007442086935043335, -0.02635253220796585, -0.007983952760696411, -0.007983952760696411, 0.01439032144844532, -0.0021880422718822956, 0.004509835969656706, -0.023910705000162125, -0.006687589455395937, -0.03788948059082031, -0.009856478311121464, -0.0365176685154438, 0.015419181436300278, -0.015926752239465714, -0.005456387065351009, 0.010316035710275173, -0.024720074608922005, 0.0031140160281211138, 0.02772434614598751, -0.030426818877458572, -0.026023298501968384, 0.011852466501295567, -0.014431475661695004, -0.01661265827715397, 0.01185932569205761, 0.0044755409471690655, 0.02097502537071705, -0.016475478187203407, 0.0003174461598973721, -0.0008428077562712133, -0.03775230050086975, 0.003902808763086796, 0.004163453355431557, -0.03199068456888199, -0.00837492011487484, 0.030563998967409134, 0.018601788207888603, 0.023512879386544228, 0.000548296608030796, 0.00953410193324089, -0.0007673580548726022, 0.0014181119622662663, 0.02695612981915474, -0.02927449531853199, 0.020042192190885544, 0.007833053357899189, 0.004321211948990822, -0.0010117122437804937, 0.0014223988400772214, -0.014349167235195637, 0.013121393509209156, -0.007078556343913078, 0.01143406331539154, 0.008909926749765873, -0.01412967685610056, 0.005785622633993626, -0.022881845012307167, 0.012360037304461002, -0.018423452973365784, 0.021715804934501648, -0.012339460663497448, 0.019836420193314552, -0.02657202258706093, -0.012332601472735405, -0.042416464537382126, 0.0036696004681289196, 0.03703895956277847, 0.005977676250040531, 0.047409866005182266, -0.00967814214527607, 0.011392909102141857, -0.016544068232178688, 0.004180600866675377, 0.021798113361001015, 0.005449528340250254, -0.00642008613795042, -0.004321211948990822, -0.0009697005152702332, 0.006149152759462595, 0.008189724758267403, -0.01875268667936325, 0.008388638496398926, 0.019040768966078758, 0.014349167235195637, 0.004060567356646061, 0.00823087990283966, -0.0033077846746891737, 0.01611880585551262, -0.008443511091172695, 0.04935784265398979, -0.016694966703653336, -0.028451407328248024, 0.014047367498278618, 0.005463246256113052, -0.01589931547641754, 0.025817526504397392, 0.00875902734696865, 0.02776550129055977, 0.021935293450951576, 0.008031967096030712, 0.0035358488094061613, -0.005535266362130642, 0.037066396325826645, -0.013827878050506115, 0.012476641684770584, -0.0009422642178833485, -0.04038618132472038, 0.007346060127019882, -0.006917368620634079, 0.037450503557920456, 0.019616929814219475, 0.014609810896217823, -0.0017173386877402663, 0.0010648700408637524, -0.0022566327825188637, 0.011811312288045883, 0.0048665073700249195, -0.012215997092425823, -0.00048656502622179687, -0.022195938974618912, -0.001430115313269198, 0.005991394631564617, -0.0048802257515490055, 0.003378090215846896, -0.010707002133131027, 0.021798113361001015, 0.002386955078691244, 0.03174375742673874, -0.006924227345734835, 0.014554938301444054, 0.01226401049643755, -0.02583124302327633, -0.022607482969760895, 0.04258108511567116, -0.0039233858697116375, -0.0055146892555058, -0.010857902467250824, -0.009369484148919582, -0.001135175465606153, -0.0043280706740915775, -0.0012792159104719758, 0.014609810896217823, -0.0027196197770535946, -0.009973082691431046, -0.025982143357396126, -0.003995405975729227, 0.029576294124126434, 0.03769742697477341, -0.0025790089275687933, 0.015035073272883892, -0.009108840487897396, 0.009808464907109737, 0.013683836907148361, -0.008614987134933472, -0.006684160325676203, 0.043184682726860046, -0.0041703125461936, -0.00869043730199337, 0.0036524527240544558, 0.0021588911768049, -0.005576421041041613, 0.0045441314578056335, 0.00255500222556293, -0.008189724758267403, 0.007839912548661232, 0.024884693324565887, 0.010466935113072395, 0.007791899144649506, 0.01263440027832985, 0.02374608814716339, 0.025145336985588074, 0.004832212347537279, -0.010069109499454498, -0.0010888767428696156, 0.027573445811867714, 0.047656793147325516, 0.03607868775725365, -0.006282904651015997, 0.020700661465525627, -0.0296586025506258, -0.011406627483665943, -0.02203132025897503, -0.02589983493089676, 0.008971658535301685, 0.038685135543346405, -0.010583539493381977, 0.011283163912594318, 0.015775851905345917, 0.003429533215239644, 0.007332341745495796, 0.00010256447421852499, 0.012696132063865662, -0.03734075650572777, 0.0008616701816208661, -0.0007750744698569179, -0.023773523047566414, -0.015707261860370636, 0.017888445407152176, -0.002935680327937007, 0.000962841440923512, 0.011962211690843105, 0.024829819798469543, 0.033060699701309204, -0.012058238498866558, -0.03934360295534134, 0.006718455348163843, 0.022017603740096092, -0.007977094501256943, 0.0016598940128460526, -0.007462664041668177, 0.03550252690911293, 0.015309436246752739, -0.00012164125655544922, 0.004911091644316912, 0.0040434193797409534, 0.017367156222462654, 0.011667272076010704, 0.006886502727866173, 0.030097583308815956, 0.0017344864318147302, -0.010953929275274277, 0.03328019008040428, -0.01131060067564249, 0.010892197489738464, -0.002798499073833227, -0.006749321240931749, 0.004581856541335583, 0.003851365763694048, -0.024130195379257202, 0.0207280982285738, -0.009595833718776703, 0.01847832463681698, -0.008326906710863113, -0.0055318367667496204, -0.02470635622739792, -0.03075605258345604, -0.03223761171102524, 0.05767102912068367, -0.018149089068174362, -0.0035427077673375607, 0.0025001296307891607, -0.00497968215495348, -0.006132005248218775, -0.034706875681877136, -0.0034758318215608597, -0.015748417004942894, -0.02293671853840351, -0.03347224369645119, -0.022442864254117012, -0.001130888587795198, 0.024445712566375732, 0.009835900738835335, 0.007051120046526194, -0.009877055883407593, -0.0005101430579088628, -0.007044261321425438, 0.0016058789333328605, 0.0002424251288175583, -0.03212786838412285, -0.002412676578387618, 0.00373476161621511, 0.0007454947917722166, 0.0005341498181223869, -0.02850627899169922, 0.0121405478566885, -0.012428628280758858, -0.01113912370055914, -0.028753206133842468, -0.01893102377653122, 0.012051379308104515, 0.006505824625492096, -0.004070855677127838, -0.002184612676501274, 0.03429533168673515, -0.03753281012177467, 0.004331500269472599, -0.00019784118921961635, -0.006872784346342087, -0.012833313085138798, 0.01444519404321909, 0.004482399672269821, -0.003419244661927223, 0.002244629431515932, -0.005987965036183596, 0.007503818720579147, 0.01284017227590084, -0.011159701272845268, 0.01812165416777134, 0.012003365904092789, 0.02522764541208744, 0.008608127944171429, 0.02509046532213688, 0.026613177731633186, 0.0375053733587265, -0.02185298502445221, -0.007373496424406767, -0.013457488268613815, 0.026133041828870773, -0.0020199951250106096, 0.0016015919391065836, 0.018697815015912056, -0.01664009504020214, -0.01614624261856079, -0.03835589811205864, -0.0013975347392261028, -0.005603857338428497, 0.026434842497110367, -0.008368060924112797, -0.023019026964902878, -0.05865873396396637, 0.0008153715170919895, -0.03857538849115372, -0.0055009713396430016, -0.022826973348855972, -0.009540961124002934, 0.004242332652211189, 0.012943058274686337, 0.021084770560264587, -0.022648636251688004, 0.02349916100502014, -0.02065950818359852, -0.03037194535136223, 0.000164831944857724, -0.006156011950224638, 0.012092533521354198, 0.011969070881605148, 0.028835514560341835, -0.03670972213149071, -0.03649023175239563, -0.007812476716935635, -0.008923645131289959, 0.011193996295332909, -0.005353501066565514, 0.015474054031074047, 0.0058850790373981, 0.03429533168673515, -0.005655300337821245, 0.02044001780450344, 0.011790734715759754, -0.00018519478908274323, 0.0007802188047207892, -0.014925328083336353, -0.01888986863195896, -0.007407791446894407, -0.004626440349966288, 0.010576680302619934, -0.00814857054501772, 0.02814960852265358, -0.015295717865228653, -0.0069893887266516685, 0.03201812133193016, -0.0052094608545303345, -0.0052917697466909885, -0.011200855486094952, -0.02026168256998062, -0.011255728080868721, 0.03135965019464493, -0.006752750836312771, 0.025913553312420845, -0.04000207409262657, 6.687589484499767e-05, -0.0027882105205208063, 0.005483823362737894, 0.006022260058671236, -0.0038582247216254473, 0.02079668827354908, 0.009733014740049839, 0.01562495343387127, 0.003522130660712719, 0.009163713082671165, -0.020385144278407097, -0.02480238303542137, -0.028341662138700485, -0.0020457166247069836, 0.02284069173038006, -0.0017387733096256852, 0.03509098291397095, 0.00479448726400733, -0.00881389994174242, -0.017326001077890396, -0.0040434193797409534, 0.005655300337821245, -0.005651870742440224, 0.01562495343387127, -0.020892716944217682, -0.0009251165902242064, -0.0350361093878746, -0.0343502052128315, -0.006629287730902433, -0.00459214486181736, 0.03103041648864746, -0.002244629431515932, 0.01780613698065281, -0.022319402545690536, -0.0002527137112338096, 0.007757604122161865, 0.0063549247570335865, 0.02825935371220112, 0.002446971833705902, 0.032210174947977066, 0.007682154420763254, -0.008676718920469284, -0.011557526886463165, 0.012600105255842209, 0.006673871539533138, -0.003455254714936018, 0.01805306226015091, 0.010418921709060669, -0.0275871641933918, -0.03341737017035484, 0.000613886455539614, -0.0210710521787405, -0.010261163115501404, -0.03100297972559929, 0.0013100816868245602, 0.0065023950301110744, -0.01724369265139103, -0.011763298884034157, -0.0024932706728577614, -0.052513010799884796, -0.004221755545586348, -0.004324641544371843, 0.005909085739403963, -0.009698719717562199, -0.016105087473988533, -0.0019736962858587503, 0.032182738184928894, 0.0010562961688265204, 0.01576213352382183, 0.0166812501847744, -0.00995936430990696, -0.013752427883446217, 0.008971658535301685, -0.006046266760677099, -0.0047601922415196896, 0.015583798289299011, 0.03802666440606117, -0.019438594579696655, 0.0214688777923584, 0.022223375737667084, 0.025529444217681885, -0.009513525292277336, -0.006426945328712463, -0.0066978782415390015, 0.039425913244485855, -0.026338813826441765, -0.0027024720329791307, -0.02248401939868927, -0.0030814355704933405, -0.018588069826364517, 0.012860748916864395, -0.019959883764386177, -0.02340313419699669, -0.014294294640421867, 0.004828782752156258, 0.031579140573740005, 0.0018896728288382292, -0.021715804934501648, 0.02374608814716339, -0.012318883091211319, -0.0151996910572052, -0.01674984022974968, -0.00608742143958807, -0.006180018652230501, -0.03747793659567833, -0.022401710972189903, -0.024089040234684944, 0.003947392571717501, 0.013148830272257328, -0.00869043730199337, -0.002707616426050663, -0.0026287371292710304, 0.02097502537071705, -0.019754111766815186, -0.0025344251189380884, 0.0017644948093220592, 0.01344376988708973, -0.008176007308065891, 0.033801477402448654, -0.00814857054501772, 0.011125405319035053, 0.01607765071094036, -0.013752427883446217, -0.018629224970936775, -0.025200210511684418, 0.00013428766396827996, 0.006557267624884844, -0.013992494903504848, -0.012517795898020267, -0.015432898886501789, 0.0047910576686263084, 0.004904232453554869, 0.008196583949029446, -0.013937623240053654, 0.002138313837349415, 0.007606704719364643, -0.010041672736406326, 0.020042192190885544, -0.02723049372434616, 0.013786722905933857, -0.008326906710863113, -0.009026531130075455, 0.0022377704735845327, -0.03649023175239563, 0.0022171931341290474, -0.010075968690216541, -0.004173741675913334, -0.005061991047114134, 0.012181702069938183, -0.01679099351167679, -0.0172711294144392, -0.016036497429013252, 0.016585221514105797, -0.006022260058671236, -0.015707261860370636, 0.004472111351788044, 0.004568138159811497, 0.016653813421726227, 0.041044652462005615, -0.030426818877458572, -0.021756958216428757, 0.01861550658941269, -0.004763621371239424, -0.003134593367576599, -0.014870455488562584, -0.029740910977125168, 0.036819469183683395, 0.010233727283775806, -0.017435746267437935, -0.008875631727278233, -0.0037313320208340883, -0.03599638119339943, -0.012888185679912567, -0.009403780102729797, 0.002428109524771571, -5.018371666665189e-05, 0.014088522642850876, 0.007538113743066788, 0.03810897096991539, 0.0016616088105365634, 0.011811312288045883, -0.018848713487386703, -0.007140288129448891, 0.0019342567538842559, 0.013731851242482662, 0.001286074984818697, -0.005895367357879877, -0.02621535211801529, -0.012236574664711952, -0.007929081097245216, -0.010014236904680729, 0.0318809412419796, 0.0414561964571476, -0.012092533521354198, -0.013080239295959473, 0.013100816868245602, 0.03273146599531174, 0.01893102377653122, 0.0002437111979816109, 0.014061085879802704, -0.03476174920797348, -0.02234683744609356, 0.015542644076049328, 0.02596842497587204, 0.0010391485411673784, -0.015981623902916908, 0.01769639179110527, 0.016845867037773132, 0.0052026016637682915, -0.016132524237036705, -0.0006841918802820146, -0.01099508348852396, 0.016763558611273766, 0.03015245497226715, 0.007894785143435001, 0.02160605974495411, 0.04581856355071068, 0.0014824157115072012, -0.005881649442017078, -0.010103404521942139, 0.0011240295134484768, -0.0026081600226461887, 0.0022669213358312845, 0.028588589280843735, -0.012092533521354198, -0.009561538696289062, 0.0042663393542170525, 0.02702472172677517, 0.016845867037773132, 0.0036387345753610134, -0.008560114540159702, -0.01263440027832985, -0.02358146943151951, 0.015391744673252106, -0.01162611786276102, -0.006804193835705519, 0.004441245459020138, -0.0028070728294551373, 0.0020903004333376884, 0.012325742281973362, -0.001941115828230977, 0.01945231296122074, -0.02315620705485344, -0.007819335907697678, -0.003220331622287631, 0.002993982518091798, -0.0076615773141384125, 0.014404038898646832, 0.01587187871336937, -0.03015245497226715, 0.022195938974618912, 0.190297931432724, -0.028451407328248024, 0.0137935820966959, -0.002716190181672573, 0.002800213871523738, 0.011564386077225208, -0.0005491540068760514, 0.008704154752194881, 0.003235764568671584, 0.01407480426132679, 0.008957941085100174, 0.022072475403547287, -0.002681894926354289, -0.0037038957234472036, 0.007887925952672958, 0.015597516670823097, -0.02765575610101223, -0.02445943094789982, -0.008566973730921745, 0.014239422045648098, -0.017339719459414482, 0.017435746267437935, -0.00835434254258871, -0.03026220016181469, 0.054268933832645416, 0.009767310693860054, -0.019273975864052773, -0.014472629874944687, 0.0159404706209898, 0.009829042479395866, -0.02572149783372879, -0.009527242742478848, 0.0012209138367325068, 0.005168306641280651, -0.023512879386544228, 0.010350330732762814, 0.004983111750334501, -0.000693623092956841, 0.030948108062148094, 0.004667594563215971, 0.052732501178979874, -0.01699676550924778, 0.005617575254291296, -0.012620681896805763, -0.004077714867889881, 0.023334544152021408, -0.012257151305675507, -0.013800441287457943, -0.014239422045648098, -0.0007845057407394052, -0.0072294557467103004, 0.010226868093013763, 0.009705578908324242, 0.02090643346309662, -0.018697815015912056, 0.009835900738835335, -0.016530349850654602, 0.014088522642850876, 0.02277209982275963, 0.011557526886463165, -0.026681767776608467, -0.007263751234859228, -0.0014163971645757556, 0.028945259749889374, -0.018876150250434875, 0.010576680302619934, 0.013917045667767525, -0.016050215810537338, -0.030344508588314056, -0.019822701811790466, -0.02009706385433674, 0.016585221514105797, -0.01917794905602932, 0.010165136307477951, -0.018217680975794792, -0.02648971416056156, 0.021976448595523834, 0.01987757347524166, 0.009623270481824875, 0.022964153438806534, -0.027038440108299255, -0.01755920983850956, -0.007503818720579147, -0.03769742697477341, -0.02009706385433674, -0.01632457785308361, -0.03163401409983635, -0.02902756817638874, -0.008752169087529182, -0.030481690540909767, 0.004369225353002548, -0.014143395237624645, -0.017079075798392296, 0.0007189158932305872, 0.006841918453574181, -0.006344636436551809, -0.007496959529817104, 0.009307753294706345, 0.004009124357253313, 0.011392909102141857, -0.0252688005566597, 0.055613309144973755, 0.03956309333443642, 0.020316554233431816, 0.040770288556814194, -0.01657150499522686, -0.03050912730395794, 0.01910935901105404, 0.013663260266184807, -0.008326906710863113, 0.007174583617597818, -0.037066396325826645, 0.006056555546820164, -0.016022779047489166, -0.03212786838412285, -0.011694707907736301, 0.04101721569895744, -0.004194319248199463, -0.0066978782415390015, 0.01226401049643755, -0.022182220593094826, -0.019959883764386177, -0.006073703058063984, -0.0056210048496723175, -0.0008625275804661214, -0.004650447051972151, 0.002143458230420947, 0.0056210048496723175, -0.0313870869576931, 0.015967905521392822, 0.011331177316606045, -0.014294294640421867, 0.002690468681976199, 0.010837324894964695, 0.025844961404800415, -0.010892197489738464, -0.006540119647979736, -0.03028963692486286, 0.005106574855744839, 0.01829998940229416, -0.012730427086353302, -7.486027607228607e-05, 0.0061525823548436165, -0.021482596173882484, 0.013642682693898678, 0.00689679104834795, -0.003546137362718582, 0.02009706385433674, -0.019520903006196022, -0.003700466360896826, -0.014788147062063217, -0.01393076404929161, 0.0024572606198489666, -0.00990449171513319, -0.00012367754243314266, 0.00321004306897521, -0.002254917984828353, -0.02554316259920597, 0.03303326293826103, -0.0055386959575116634, -0.024967001751065254, 0.012682413682341576, 0.02797127328813076, -0.0107344388961792, -0.0014275432331487536, -0.017710110172629356, -0.17394591867923737, 0.008347483351826668, 0.0035289896186441183, -0.027120748534798622, 0.007881066761910915, 0.015748417004942894, 0.016036497429013252, 0.014774428680539131, -0.01924654096364975, -0.00904024951159954, -0.00021863273286726326, -0.02138656936585903, -0.017998190596699715, 0.0037381912115961313, -0.02783409133553505, 0.02825935371220112, 0.024281095713377, 0.009547820314764977, 0.03753281012177467, 0.027875246480107307, 0.045160092413425446, -0.03284120932221413, 0.01393076404929161, 0.00699281832203269, 0.02828679047524929, 0.0013135111657902598, 0.0015407177852466702, 0.029356803745031357, 0.003782775020226836, -0.03451482206583023, -0.001005710568279028, -0.015844443812966347, 0.01787472702562809, 0.008066262118518353, 0.002793354680761695, 0.013628965243697166, 0.03179863095283508, -0.010508089326322079, -0.005840494763106108, 0.0026338815223425627, 0.039919767528772354, 0.009575256146490574, -0.008731591515243053, 0.005356930661946535, -0.005744467955082655, 0.0227995365858078, 0.02614676021039486, -0.006557267624884844, 0.024788666516542435, -0.0010065679671242833, 0.005473535042256117, -0.018245115876197815, 0.027463702484965324, -0.00043705114512704313, 0.012215997092425823, 0.008505241945385933, 0.0016924745868891478, 0.029713476076722145, -0.021057333797216415, -0.004852789454162121, 0.0012432057410478592, -0.013375178910791874, 0.002651029033586383, -0.0030968685168772936, 0.0013563804095610976, -0.02783409133553505, -0.015391744673252106, 0.003817070508375764, -0.041428759694099426, -0.004859648644924164, -4.511979568633251e-05, 0.0076547181233763695, -0.0026613178197294474, 0.026722922921180725, -0.0016899025067687035, 0.026009580120444298, -0.006708167027682066, 0.0022309112828224897, 0.029055004939436913, 0.0047396146692335606, -0.00874530989676714, 0.0323747918009758, 0.0017764981603249907, -0.008347483351826668, 0.011763298884034157, 0.004160023760050535, 0.008594410493969917, 0.002733337925747037, -0.029686039313673973, 0.002867089817300439, 0.008614987134933472, 0.0008616701816208661, -0.00321004306897521, -0.03352711722254753, -0.007359778042882681, 0.0031517408788204193, -0.009664424695074558, -0.015268282033503056, 0.010926492512226105, 0.0007227741298265755, -0.004647017456591129, -0.031688887625932693, -0.023595187813043594, -0.0011626117629930377, 0.015775851905345917, 0.009204867295920849, -0.01868409663438797, 0.016900738701224327, 0.03273146599531174, -0.0015450046630576253, -0.024582894518971443, -0.016214832663536072, 0.008827618323266506, 0.024720074608922005, 0.000432978558819741, 0.018450887873768806, 0.009547820314764977, -0.0033163586631417274, 0.006221173331141472, 0.0009019672288559377, 0.030563998967409134, -0.021263105794787407, 0.009973082691431046, 0.00032066134735941887, -0.033966097980737686, -0.032072994858026505, -0.12017083913087845, -0.024857256561517715, -0.014170831069350243, -0.0022411998361349106, -0.006207454949617386, 0.012222856283187866, -0.016228551045060158, 0.03223761171102524, 0.016338296234607697, 0.04433700442314148, -0.032072994858026505, 0.0011831889860332012, -0.004883655346930027, -0.005288340151309967, -0.03248453885316849, 0.005387796554714441, -0.0048802257515490055, 0.0055009713396430016, -0.018601788207888603, 0.042663391679525375, -0.01108425110578537, -0.04013925790786743, -0.009698719717562199, 0.003919956274330616, -0.0002863660338334739, 0.012442346662282944, -0.032319922000169754, 0.013416334055364132, -0.015021354891359806, 0.01189362071454525, 0.018876150250434875, -0.01836857944726944, -0.0090059544891119, -0.02403416857123375, 0.008827618323266506, -0.01185932569205761, -0.02068694494664669, 0.002145173028111458, 0.014417757280170918, -0.02927449531853199, -0.001357237808406353, 0.008951081894338131, 0.0022411998361349106, 0.00995936430990696, -0.010926492512226105, -0.014801865443587303, -0.039919767528772354, 0.04979682341217995, 0.007771322038024664, -0.01875268667936325, 0.007030542939901352, -0.023279670625925064, -0.03352711722254753, -0.014033650048077106, 0.027916399762034416, 0.006478388328105211, -0.012188561260700226, 0.01657150499522686, -0.014541220851242542, -0.014609810896217823, -0.029356803745031357, 0.02336197905242443, -0.02727164700627327, -0.0036455937661230564, 0.007085415534675121, -0.0072363149374723434, -0.018176525831222534, -0.011605540290474892, 0.026229070499539375, 0.016983048990368843, 0.001335803186520934, 0.026942413300275803, -0.007538113743066788, 0.015131100080907345, -0.022195938974618912, 0.011516372673213482, -0.036298178136348724, -0.009287175722420216, 0.0106589887291193, -0.018588069826364517, 0.007846771739423275, -0.011372331529855728, -0.00990449171513319, -0.013045944273471832, -0.004890514072030783, 0.010672707110643387, -0.0036112985108047724, 0.005212890449911356, 0.0006160298944450915, -0.033801477402448654, -0.006426945328712463, 0.024047886952757835, 0.0429377555847168, -0.0013435196597129107, -0.0021743241231888533, 0.0033763754181563854, 0.019205385819077492, -0.01967180147767067, 0.01433544885367155, 0.010165136307477951, -0.0041394466534256935, -0.008573832921683788, -0.04236159473657608, 0.015336872078478336, 0.029603730887174606, -0.00972615648061037, -0.008669859729707241, 0.011468359269201756, 0.030838362872600555, -0.03226504847407341, 0.00846408773213625, 0.01787472702562809, -0.006958522833883762, -0.0035632848739624023, -0.025104183703660965, -0.00877960491925478, -0.015350590460002422, -0.05322635546326637, 0.007030542939901352, -0.02097502537071705, 0.016516631469130516, 0.011742721311748028, 0.00823087990283966, 0.010226868093013763, 0.020110782235860825, 0.031935811042785645, -0.020878998562693596, -0.008100557141005993, 0.006663582753390074, 0.014815582893788815, -0.008786464110016823, -0.03278633579611778, 0.0018468035850673914, -0.0411543995141983, -0.0017207682831212878, 0.007051120046526194, -0.021276824176311493, -0.0036250166594982147, 0.01685958541929722, -0.002386955078691244, 0.03662741556763649, 0.017833571881055832, 0.0029236769769340754, -0.014541220851242542, -0.0011454641353338957, 0.005055131856352091, -0.02209991216659546, -0.008134853094816208, -0.024569176137447357, -0.02241542935371399, 0.003601009724661708, 0.017147665843367577, 0.007455805316567421, -0.010528666898608208, -0.01839601621031761, -0.037066396325826645, 0.0032169020269066095, -0.030097583308815956, 0.023416852578520775, -0.008937363512814045, -0.003895949572324753, -0.03273146599531174, 0.03429533168673515, 0.008855055086314678, 0.004091433249413967, -0.0025670055765658617, 0.006169730331748724, -0.030344508588314056, 0.012181702069938183, 0.02086528018116951, -0.022580046206712723, 0.003793063573539257, -0.01699676550924778, 0.002044001827016473, -0.010096545331180096, 0.014952764846384525, 0.012517795898020267, 0.020824125036597252, 0.0036455937661230564, 0.009348907507956028, -0.0180119089782238, 0.008107416331768036, 0.02576265297830105, -0.0313870869576931, -0.006430374458432198, 0.010034814476966858, 0.012751004658639431, 0.01931513100862503, -0.00944493431597948, 0.002153746783733368, 0.008566973730921745, 0.014184549450874329, -0.015227126888930798, 0.006574415136128664, -0.006063414737582207, 0.023814678192138672, -0.011797593906521797, 0.0013529508141800761, -0.005765045061707497, -0.00778504041954875, -0.013683836907148361, 0.014952764846384525, -0.0013263719156384468, -0.006255468353629112, -0.018629224970936775, -0.039069242775440216, -0.025886116549372673, -0.018409734591841698, -0.0026938982773572206, -0.029000133275985718, 0.004173741675913334, 0.01632457785308361, 0.014211985282599926, -0.008985376916825771, -0.0012852175859734416, -0.0037793456576764584, -0.013862173072993755, 0.022676073014736176, 0.0015732983592897654, -0.019273975864052773, -0.031935811042785645, 0.00872473232448101, 0.010741298086941242, 0.012620681896805763, 0.04088003560900688, -0.010638412088155746, 0.012408050708472729, 0.012716708704829216, 0.030618872493505478, -0.007394073531031609, 0.030070146545767784, 0.0050894273445010185, -0.0055386959575116634, -0.002112592337653041, 0.006101139355450869, -0.007860490120947361, 0.010213149711489677, 5.862358375452459e-05, 0.0077301678247749805, 0.005353501066565514, 0.0113997682929039, 0.07424253225326538, 0.022442864254117012, -0.03190837800502777, -0.005353501066565514, -0.0110293785110116, 0.02470635622739792, 0.008971658535301685, 0.02293671853840351, -0.028917822986841202, -0.031688887625932693, 0.01562495343387127, -0.0034946943633258343, -0.01688702218234539, -0.018286271020770073, -0.008100557141005993, 0.024281095713377, 0.011022519320249557, 0.008738450706005096, -0.015405463054776192, 0.006574415136128664, 0.004856219049543142, 0.007558691315352917, 0.021153360605239868, 0.015638671815395355, 0.011996506713330746, 0.003235764568671584, 0.037066396325826645, 0.015720980241894722, -0.017079075798392296, -0.039425913244485855, -0.022003885358572006, -0.0023955288343131542, -0.027600882574915886, -0.006821341346949339, 0.019205385819077492, -0.024116476997733116, -0.008422933518886566, -0.008525819517672062, -0.000971415254753083, 0.023759806528687477, 0.017188820987939835, -0.009438075125217438, 0.0008509529288858175, -0.0265994593501091, -0.02504931017756462, 0.01808049902319908, -0.014788147062063217, -0.021647213026881218, -0.013971918262541294], metadata={'file_path': '/content/mixed_data/output_text.txt', 'file_name': 'output_text.txt', 'file_type': 'text/plain', 'file_size': 3400, 'creation_date': '2024-04-14', 'last_modified_date': '2024-04-14'}, excluded_embed_metadata_keys=['file_name', 'file_type', 'file_size', 'creation_date', 'last_modified_date', 'last_accessed_date'], excluded_llm_metadata_keys=['file_name', 'file_type', 'file_size', 'creation_date', 'last_modified_date', 'last_accessed_date'], relationships={<NodeRelationship.SOURCE: '1'>: RelatedNodeInfo(node_id='32c8b180-97c9-4de4-a044-ec7d02cd1f79', node_type=<ObjectType.DOCUMENT: '4'>, metadata={'file_path': '/content/mixed_data/output_text.txt', 'file_name': 'output_text.txt', 'file_type': 'text/plain', 'file_size': 3400, 'creation_date': '2024-04-14', 'last_modified_date': '2024-04-14'}, hash='3d05f78a6b2b7e664afc1c0c2467dc21b073aeb279b3ff8eabb701c2e3c6d9b7'), <NodeRelationship.PREVIOUS: '2'>: RelatedNodeInfo(node_id='40f380d8-4679-4acb-a071-5b065a3e68d5', node_type=<ObjectType.IMAGE: '2'>, metadata={'file_path': '/content/mixed_data/frame0046.png', 'file_name': 'frame0046.png', 'file_type': 'image/png', 'file_size': 2820, 'creation_date': '2024-04-14', 'last_modified_date': '2024-04-14'}, hash='2c4224a2d0140e07e6bc3c52cc5da011d83cf193942ebbb659305b3af3b81ffd')}, text=\"Lanyard regression is a statistical technique for modeling the relationship between an output variable and one or more input variables. In layman's terms, think of it as fitting a line through some data points as shown here, so you can make predictions on unknown data, assuming there is a linear relationship between the variables. You might be familiar with the linear function y equals mx plus b, where y is the output variable, also called the dependent variable. You may also see expressed as f of x, the function of the input variable. x on the other hand, would serve as the input variable, also called the independent variable. It's likely you'll see the coefficients m and b expressed as beta 1 and beta 0 respectively. So what do the m and b coefficients do? The m or beta 1 coefficient controls the slope of the line. The b or the beta 0 controls the intercept of the line. In machine learning, we also know it as the bias. These two coefficients are what we are solving for in linear regression. We can also extend to multiple input variables, so x1, x2, x3, with beta 1, beta 2, and beta 3, and so on, acting as slopes for each of those variables. In these higher dimensions, you would visualize the linear regression as a hyperplane. So how do we fit the line to these points? Well, you'll notice that there's these differences between the points and the line, these little red segments, these are called residuals. They are the differences between the data points and the predictions the line would produce. Take each of these residuals and square them. These are the squared errors, and notice that the large of the residuals are, the more amplified area of the squares are. If we total the areas of all of these squares for a given line, we will get the sum of the squared error, and this is known as our loss function. We need to find the beta 0 and beta 1 coefficients that will minimize that sum of squared error. The coefficients can be solved with a variety of techniques ranging from matrix decomposition to gradient descent, which is depicted right here. Thankfully, a lot of libraries are available to do this for us, and we will deep dive into these topics in other videos. To validate a linear regression, there are a number of techniques. Machine learning practitioners will often take a third of the data and put it into the test data set. The remaining two thirds will become the training data set. The training data set will then be used to fit the regression line. The test data set will then be used to validate the regression line. This is done to make sure that the regression performs well on data it has not seen before. The tricks used to evaluate the linear regression vary from the R square, standard error of the estimate, prediction intervals, as well as statistical significance. These are topics we will cover in future videos. If you enjoyed this video, please like and subscribe. Look at my two O'Reilly books, Essential Math for Data Science, and getting started with SQL. Chapter five of Essential Math for Data Science actually covers linear regression and much more depth. If you want live instruction, I also do teach on the O'Reilly platform. Promotional link below. I teach classes including machine learning from scratch, probability, and SQL. Comment on what topics you would like to see next, and I will see you again on 3 Minute Data Science.\", start_char_idx=1, end_char_idx=3400, text_template='{metadata_str}\\n\\n{content}', metadata_template='{key}: {value}', metadata_seperator='\\n'), score=0.7483672499656677),\n",
              " NodeWithScore(node=ImageNode(id_='ee68246b-5049-4387-962a-78e7b492207a', embedding=[0.0534958690404892, -0.08979269862174988, -0.1691904067993164, -0.18744641542434692, -0.34308385848999023, -0.06341623514890671, 0.32713618874549866, 0.4115194082260132, 0.010623324662446976, 0.3668833076953888, 0.54414302110672, 0.029040852561593056, 0.15309247374534607, 0.29627731442451477, -0.5396237373352051, 0.20318716764450073, -0.6554197669029236, 0.40742406249046326, -0.29476889967918396, -0.5126824975013733, -0.0198822021484375, 0.03008073754608631, -0.5772714018821716, 0.36091047525405884, -0.07539161294698715, 0.04869772121310234, 0.05355382710695267, -0.0850534588098526, 0.19355328381061554, -0.4839162826538086, 0.011203798465430737, 0.018490919843316078, -0.1843189299106598, 0.08389461785554886, -0.19597771763801575, -0.35963138937950134, -0.6155503392219543, 0.18932710587978363, -0.37819308042526245, -1.457872748374939, 0.17562416195869446, 0.06820596754550934, -0.2990100383758545, 0.20413945615291595, -0.43878796696662903, 0.0872262567281723, 0.12917540967464447, 0.21674330532550812, -0.24516114592552185, -0.18079178035259247, -0.2559675872325897, -0.18444190919399261, -0.08170957118272781, 0.017803477123379707, -0.19024690985679626, -0.015898166224360466, 0.3096691071987152, 0.32632866501808167, -0.017533233389258385, -0.30649876594543457, -0.06158697232604027, 0.15372474491596222, 0.8278633952140808, 0.24925747513771057, 0.04287734627723694, 0.006314969155937433, 0.13489937782287598, 0.2272404432296753, 0.4454023540019989, 0.02667875774204731, -0.2812136113643646, 0.4055391848087311, 0.2935643196105957, -0.2997371256351471, -0.4845370650291443, 0.04270369932055473, -0.11160056293010712, 0.050588708370923996, -0.5863098502159119, -0.1790982335805893, 0.11958280950784683, -0.24452699720859528, -0.0498894527554512, 0.6716105341911316, -0.041233159601688385, -0.23501436412334442, 1.2169826030731201, -0.0891413539648056, 0.5566096305847168, -0.1875068098306656, -0.11996381729841232, -0.3998972475528717, -4.122630596160889, 0.06283419579267502, -0.050603237003088, -0.31986483931541443, -0.08324982225894928, 0.1849774420261383, 0.5762887001037598, -1.02517831325531, 0.06771170347929001, -0.07072263956069946, -0.12779738008975983, -0.2688694894313812, -0.27591028809547424, -0.15764155983924866, -1.0499365329742432, 0.6321783661842346, 0.043717287480831146, -0.08039098978042603, -0.7196813821792603, 0.21537244319915771, 0.6310262084007263, 0.4300343692302704, -0.2055002599954605, -0.11596096307039261, -0.17590300738811493, -0.5393787026405334, -0.40023234486579895, -0.5942338705062866, -0.1964208036661148, 0.30104735493659973, -0.216243714094162, 0.528914213180542, 0.0071787647902965546, 0.41789117455482483, -0.13959085941314697, 0.3016582727432251, 0.41844502091407776, -0.6529985070228577, 0.48172467947006226, 0.5480231642723083, 0.14727304875850677, 0.8530416488647461, 0.04565221816301346, -0.12973619997501373, 0.7979268431663513, 0.023372292518615723, -0.2171047031879425, -0.29276958107948303, 0.14356255531311035, -0.014884257689118385, 0.009192785248160362, 0.12611505389213562, -0.44933342933654785, 0.3393193781375885, -0.5069708824157715, 0.09248284995555878, 0.17685173451900482, 0.036797843873500824, 0.2994573712348938, -0.5008624792098999, 0.4967258870601654, -0.15859560668468475, -0.019984157755970955, -0.5556597113609314, 0.2626505494117737, -0.02537325769662857, -0.03383982181549072, -0.01274901069700718, -0.3688276708126068, -0.274094820022583, -0.1213158667087555, 0.19083453714847565, 0.042781930416822433, -0.3726949095726013, -0.5284885168075562, -0.18039864301681519, -0.08907324075698853, -0.08760075271129608, 0.7436440587043762, 0.09627293795347214, -0.5827832818031311, -0.20503947138786316, 0.05407966673374176, -0.22918827831745148, 0.15811416506767273, -0.04968848451972008, -0.0753193199634552, -0.21500752866268158, 0.22362898290157318, -0.03297366201877594, -0.0006015960825607181, 0.31640297174453735, -0.0762319564819336, -0.2619309425354004, 0.08028176426887512, 0.15106907486915588, -0.2814103364944458, 0.5916599631309509, -0.07012428343296051, 0.07974746823310852, -0.35957133769989014, -0.20936644077301025, 0.14400295913219452, -0.0528927706182003, -0.3591305911540985, 0.0814492478966713, 0.01394340954720974, 0.30450439453125, 0.22745832800865173, -0.028539109975099564, -0.29444995522499084, -0.027578243985772133, -0.04884028434753418, -0.29171842336654663, -0.5340979695320129, 0.2642331123352051, 0.34047406911849976, 0.5678615570068359, -0.08314115554094315, 0.6087028980255127, 0.18556252121925354, 0.012232545763254166, 0.004920117557048798, -0.343177855014801, 0.34529781341552734, 0.05121368542313576, -0.04937438666820526, -0.006871314719319344, 0.536352813243866, 0.027858057990670204, -0.30301153659820557, -0.04850337281823158, -0.6430044770240784, -0.2661791443824768, 0.5201622247695923, -0.23842918872833252, 0.12818577885627747, 0.011402392759919167, -0.2898281216621399, 0.2882946729660034, 0.34100186824798584, -0.4590868055820465, 0.05314488336443901, -0.0023881709203124046, 0.2441023886203766, 0.04512571915984154, 0.20037545263767242, 0.2886456251144409, -0.17630624771118164, -0.03648441657423973, 0.4644980728626251, 0.23719313740730286, -0.05204271152615547, 0.16938184201717377, 0.05067923665046692, 0.49527624249458313, 0.0713842362165451, -0.1108422577381134, -0.2073415070772171, -0.5420251488685608, 0.10735809057950974, 0.19002895057201385, 0.3007434606552124, -0.6798681020736694, -0.2713119685649872, 0.08913147449493408, -1.2903386354446411, 0.28123655915260315, -0.5017999410629272, 0.03110598400235176, 0.20232859253883362, -0.10190988332033157, 0.10710996389389038, -0.06707374006509781, 0.1774371713399887, -0.2659158408641815, -0.12762326002120972, -0.09617027640342712, -0.6257702708244324, 0.2609749138355255, -0.4650207459926605, -0.4383486211299896, -0.2266124039888382, 0.28476959466934204, -0.14908082783222198, 0.16139599680900574, 0.5603510141372681, 0.07542973756790161, -0.10238604992628098, -0.30336788296699524, -0.2644299864768982, -0.6143052577972412, -0.1742696464061737, -0.31144633889198303, -0.667504072189331, -0.3819449543952942, 0.1794353872537613, -0.6178445816040039, 0.2325233668088913, 0.48113009333610535, 0.32603806257247925, -0.27453911304473877, 0.046947281807661057, 0.38497433066368103, -0.4168339669704437, 0.48926791548728943, 0.26617780327796936, -0.4272036850452423, 0.4463614225387573, 0.1469661295413971, -0.0501776784658432, 0.20761485397815704, -0.4338446259498596, -0.05042876675724983, 0.2639184296131134, 0.05528770387172699, -0.15664398670196533, -0.008938869461417198, -0.3835948407649994, 0.1367056965827942, 0.853140652179718, -0.1684442013502121, 0.11320976912975311, 0.39714619517326355, -0.111732117831707, -0.25567975640296936, -0.2862864136695862, -0.1734069585800171, 0.0174887515604496, 1.0685023069381714, 0.349452406167984, 0.170592799782753, -0.4117729067802429, 0.23075078427791595, 0.3393115997314453, -0.43090590834617615, 0.2506027817726135, -0.06283827871084213, -0.018167758360505104, 0.22798314690589905, 0.40117087960243225, -0.5056203007698059, -0.2668408751487732, -0.08688745647668839, -0.26538532972335815, -0.05974649637937546, -0.5019011497497559, -0.34074369072914124, 0.09391810745000839, -0.12089112401008606, 0.20349988341331482, -0.4614710211753845, -0.17949321866035461, -0.07168038189411163, 0.2721771001815796, 0.08855012059211731, 0.5597043037414551, -0.17784307897090912, 0.1714993119239807, -0.08189855515956879, 0.31788989901542664, 0.7214404344558716, 0.24250847101211548, 0.2541455626487732, 0.09304402768611908, -0.43092936277389526, -0.1882428228855133, -0.4254758656024933, -0.5047805905342102, 0.04912950098514557, -0.012918243184685707, 0.27974733710289, -0.4482181966304779, 0.27309101819992065, -0.0794462189078331, -0.9997095465660095, 0.5214329361915588, 0.36564508080482483, 0.44144970178604126, 0.3512905240058899, 0.37400805950164795, -0.05806102976202965, 0.15048538148403168, 0.03355005383491516, -0.19331248104572296, -0.08870095759630203, -0.7442817687988281, 0.5517617464065552, -0.4234243333339691, 0.2297397255897522, 0.34004074335098267, 0.060813769698143005, -0.23763814568519592, 0.22470036149024963, -0.03456583991646767, -0.07959543168544769, -0.09489255398511887, 0.4564792811870575, -0.21255314350128174, 0.25746950507164, 0.28223246335983276, 0.213278666138649, 0.2584637701511383, 0.09193515032529831, -0.42370128631591797, -0.03506085276603699, 0.1362859457731247, -0.13748301565647125, 0.20858173072338104, 0.28335630893707275, 0.1084422841668129, -0.12924791872501373, 0.23047834634780884, 0.03690304234623909, -0.2074766457080841, 0.3257840871810913, 0.3919309079647064, 0.04885365441441536, -0.07032036781311035, 0.13477057218551636, 0.10378989577293396, -0.10435337573289871, -0.37132886052131653, -0.6255565285682678, -0.10087033361196518, -0.4588456153869629, 0.20222316682338715, -0.4675516188144684, 0.21362683176994324, -0.4486840069293976, -0.24837827682495117, 0.5363175272941589, 0.06901869177818298, -0.4765748381614685, -0.3904538154602051, -0.47144487500190735, -0.9421809315681458, 0.17151939868927002, -0.010717542842030525, -0.16232308745384216, -1.0601892471313477, -0.038464222103357315, 0.045660678297281265, -0.4877132475376129, -0.11906138807535172, 0.017077254131436348, 0.43406185507774353, -0.6246116161346436, -0.5709994435310364, 0.10993596166372299, -0.11393633484840393, 0.33718863129615784, 0.2564049959182739, -0.11733540147542953, -0.1058327704668045, -0.06791552901268005, -0.09006167948246002, 0.37281420826911926, -0.3949389159679413, -0.106031633913517, -0.044115327298641205, -0.513856828212738, -0.41955187916755676, -0.7211914658546448, -0.8589726090431213, 0.3272688388824463, -0.678490161895752, 0.4560970067977905, -0.030042042955756187, -0.5107841491699219, -0.4925473928451538, 0.14056888222694397, 0.07996722310781479, -0.11015178263187408, 0.0545017309486866, 0.4376364052295685, 0.25698739290237427, 0.09483281522989273, -0.13515324890613556, -0.15744566917419434, -0.04694348946213722, -0.6776344180107117, -0.016408735886216164, -0.08103099465370178, -0.0991787388920784, 0.08435148745775223, 0.09855195879936218, 0.18444427847862244, -0.13878731429576874, -0.04036329686641693, 0.1262609362602234, 0.30571722984313965, -0.19461552798748016, -0.3138886094093323, -0.4015764594078064, -0.17692531645298004, 0.1535906046628952, -0.26812246441841125, -0.09467358142137527, -0.3945746123790741, -0.5765719413757324, -0.32036665081977844, 0.3696404695510864, 0.6542861461639404, -0.26968124508857727, 0.45704787969589233, 0.1708913892507553, -0.15960803627967834, -0.6038364768028259, 0.17788593471050262, 0.48946473002433777, -0.38656139373779297, 0.0511900819838047, 0.1667609065771103, 0.23188485205173492, -0.45806291699409485, -0.08383198827505112, 0.5393031239509583, 0.0633983388543129, 0.4602494239807129], metadata={'file_path': '/content/mixed_data/frame0003.png', 'file_name': 'frame0003.png', 'file_type': 'image/png', 'file_size': 61264, 'creation_date': '2024-04-14', 'last_modified_date': '2024-04-14'}, excluded_embed_metadata_keys=['file_name', 'file_type', 'file_size', 'creation_date', 'last_modified_date', 'last_accessed_date'], excluded_llm_metadata_keys=['file_name', 'file_type', 'file_size', 'creation_date', 'last_modified_date', 'last_accessed_date'], relationships={<NodeRelationship.SOURCE: '1'>: RelatedNodeInfo(node_id='3e81495a-671b-4deb-a460-9a96a5cf5cae', node_type=<ObjectType.DOCUMENT: '4'>, metadata={'file_path': '/content/mixed_data/frame0003.png', 'file_name': 'frame0003.png', 'file_type': 'image/png', 'file_size': 61264, 'creation_date': '2024-04-14', 'last_modified_date': '2024-04-14'}, hash='8ab7c4f20c3d4885a9f753a78fe84728aa77e9002ed47014854fad3614fde855'), <NodeRelationship.PREVIOUS: '2'>: RelatedNodeInfo(node_id='afb7f4b4-6a03-473c-a2e8-405b9adfa32b', node_type=<ObjectType.IMAGE: '2'>, metadata={'file_path': '/content/mixed_data/frame0002.png', 'file_name': 'frame0002.png', 'file_type': 'image/png', 'file_size': 83490, 'creation_date': '2024-04-14', 'last_modified_date': '2024-04-14'}, hash='c311b98238c1416910288e543ebe06ccd88ba249abe69bbf2f3f27f89ec7374e'), <NodeRelationship.NEXT: '3'>: RelatedNodeInfo(node_id='4300f2cc-244e-437e-9e32-06dd7753d6f7', node_type=<ObjectType.IMAGE: '2'>, metadata={}, hash='44136fa355b3678a1146ad16f7e8649e94fb4fc21fe77e8310c060f61caaff8a')}, text='', start_char_idx=0, end_char_idx=0, text_template='{metadata_str}\\n\\n{content}', metadata_template='{key}: {value}', metadata_seperator='\\n', image=None, image_path='/content/mixed_data/frame0003.png', image_url=None, image_mimetype=None, text_embedding=None), score=0.0),\n",
              " NodeWithScore(node=ImageNode(id_='cb95e174-a7e6-410b-8506-661869368521', embedding=[-0.08285508304834366, 0.451405793428421, -0.257437139749527, 0.10492764413356781, -0.29358839988708496, 0.23947228491306305, 0.0069894916377961636, 0.47336581349372864, 0.45024847984313965, 0.10641741007566452, 0.39709457755088806, 0.12235353887081146, -0.5326316952705383, 0.0728737935423851, -0.4279949367046356, 0.10752438008785248, -0.2122880518436432, 0.3062826693058014, -0.3909720778465271, 0.24019314348697662, 0.3196199834346771, -0.048032764345407486, -0.10767010599374771, 0.11463218927383423, 0.37445491552352905, 0.2213044911623001, -0.4506460726261139, -0.1795753687620163, 0.043172527104616165, -0.2823910117149353, -0.08550899475812912, 0.2505896985530853, -0.47355881333351135, 0.09703045338392258, 0.33985188603401184, 0.4039331376552582, 0.015220977365970612, -0.07776793092489243, 0.09016729146242142, -1.7122623920440674, -0.5695568323135376, -0.2003609985113144, 0.0015665431274101138, -0.15471474826335907, -0.26689109206199646, 0.1348176896572113, 0.45550933480262756, -0.5783207416534424, -0.010278594680130482, -0.4652845561504364, -0.03565366938710213, -0.39321407675743103, -0.4898584485054016, -0.13109026849269867, -0.3832022547721863, -0.1740923672914505, -0.18417136371135712, -0.11517427116632462, 0.2920812964439392, 0.23129327595233917, -0.5257647633552551, -0.033611491322517395, 0.4294915795326233, -0.12373272329568863, -0.4619719386100769, -0.4311687648296356, -0.36008650064468384, 0.06464387476444244, -0.1230369508266449, -0.6080560088157654, 0.04100381210446358, -0.004557549953460693, 0.505574643611908, 0.030270177870988846, 0.3387834131717682, -0.2276046723127365, -0.4140380322933197, -0.16974212229251862, -0.055638037621974945, -0.16554789245128632, -0.1212744191288948, -0.08165151625871658, 0.07144159078598022, 0.5930418372154236, -0.4786057770252228, -0.060580573976039886, 0.6848408579826355, 0.3560280501842499, 0.6597211360931396, 0.18818087875843048, -0.055543046444654465, 0.48870664834976196, -5.094515800476074, 0.006857174448668957, -0.252732515335083, -0.23358431458473206, -0.2255786657333374, 0.045872561633586884, 0.17315004765987396, -0.28919926285743713, -0.4943554103374481, 0.013181895948946476, -0.12915565073490143, -0.6540234088897705, 0.1310339868068695, -0.10134293138980865, -2.137899398803711, -0.09268918633460999, -0.7535412907600403, -0.21583394706249237, 0.5223878026008606, -0.1176396980881691, 0.043187469244003296, -0.038132838904857635, 0.05510304868221283, 0.1064709722995758, 0.05204250290989876, -0.6942917108535767, -0.01504147332161665, -0.698045551776886, -0.2656598389148712, -0.06009598448872566, -0.2579845190048218, -0.03286305069923401, 0.11749714612960815, 0.011785099282860756, -0.13355125486850739, 0.6466132998466492, -0.21183326840400696, -0.49344223737716675, 0.4203723669052124, -0.15052063763141632, 0.48070862889289856, 0.8670714497566223, 0.017941026017069817, 0.26167839765548706, -0.18525098264217377, -0.107825867831707, 0.18702009320259094, -0.3051484227180481, 0.6719587445259094, -0.2842842936515808, -0.1164262667298317, 0.0047185225412249565, -0.08782545477151871, 0.04256382957100868, -0.4379037320613861, 0.8877813220024109, 0.1701650470495224, -0.007508393377065659, 0.2534373104572296, -0.42398619651794434, 0.44834455847740173, 0.21440079808235168, 0.1863880306482315, -0.11773468554019928, -0.5212341547012329, -0.2147352546453476, 0.16346992552280426, 0.40062206983566284, 0.0007900581113062799, -0.28114596009254456, 0.3896040618419647, -0.12952715158462524, 1.0828934907913208, -0.14238056540489197, -0.6252235770225525, -0.026783334091305733, -0.21088245511054993, 0.1301586627960205, 0.23812654614448547, -0.1348714679479599, -0.03733329847455025, -0.21171897649765015, 0.396982878446579, 0.07225955277681351, -0.32944726943969727, 0.45785462856292725, 0.27325841784477234, 0.4432847499847412, -0.09812523424625397, -0.30239182710647583, -0.08170868456363678, 0.007308822125196457, 0.1903846114873886, -0.35302722454071045, -0.0629936158657074, 0.08703601360321045, 0.44230061769485474, -0.015279478393495083, 0.010115194134414196, -0.050385430455207825, 0.1612814962863922, 0.0516156442463398, -0.16851381957530975, 0.40066102147102356, 0.19130702316761017, 0.22998331487178802, -0.06646036356687546, 0.22977164387702942, -0.097978875041008, -0.047633297741413116, 0.020634841173887253, 0.0832405611872673, -0.5604870319366455, -0.3543276786804199, -0.411571204662323, -0.16667944192886353, -0.00011395967158023268, 0.2752057611942291, -0.21548239886760712, -0.3973105251789093, -0.032989468425512314, 0.0776033028960228, 0.15662896633148193, -0.4439381957054138, 0.19230212271213531, 0.36447203159332275, -0.019589418545365334, -0.26287972927093506, 0.41338562965393066, -0.08546117693185806, 0.2691667377948761, 0.20002548396587372, 0.1789884716272354, 0.007120246533304453, 0.22458405792713165, 0.18625301122665405, -0.24333229660987854, 0.06303449720144272, -0.044515788555145264, 0.07395369559526443, -0.2038908302783966, -0.05858875811100006, 0.033503130078315735, -0.677876889705658, 0.2543351948261261, -0.39027997851371765, -0.1074221134185791, -0.45993730425834656, 0.20799489319324493, -0.13569556176662445, 0.022314153611660004, 0.4435262084007263, -0.12045165151357651, 0.4864114820957184, 0.5190744996070862, 0.5643095374107361, 0.2788126766681671, -0.025266265496611595, -0.13304057717323303, -0.5482262969017029, -0.17902900278568268, 0.2622135877609253, 0.3010718822479248, -0.2090579718351364, -0.48589909076690674, 0.028250891715288162, -0.980660080909729, -0.3110559582710266, -0.04325416684150696, -0.5331146121025085, -0.45070508122444153, 0.8882622122764587, 0.0671837255358696, 0.337367445230484, -0.16480886936187744, -0.23161904513835907, 0.13355375826358795, 0.0859808549284935, -0.6210508346557617, 0.4845718741416931, -0.3825220465660095, -0.38444340229034424, -0.21348460018634796, -0.26685264706611633, 0.015988243743777275, -0.3607364594936371, 0.4210045635700226, -0.1979123055934906, 0.011215048842132092, -0.14863210916519165, -0.36783459782600403, -0.23991219699382782, 0.36052942276000977, 0.2787801921367645, -0.41078856587409973, -0.4328702688217163, 0.09182465076446533, -0.33144956827163696, 0.18434207141399384, 0.09698852151632309, 0.2781588137149811, -0.42713549733161926, 0.2715064585208893, 0.23046284914016724, -0.524770975112915, 0.23239916563034058, 0.3272208571434021, -0.1830945611000061, 0.5990896224975586, -0.26955440640449524, -0.5011470913887024, 0.37366610765457153, -0.31058093905448914, -0.1489005833864212, -0.32961180806159973, -0.3542027175426483, 0.21794643998146057, -0.1827719360589981, -0.5302051305770874, -0.29963481426239014, 0.8671371936798096, 0.8560718297958374, -0.3444381356239319, 0.06897195428609848, -0.42174211144447327, -0.026656312867999077, -0.2021160125732422, -0.16662517189979553, 0.35296115279197693, 0.16489514708518982, 0.03997918218374252, -0.10247575491666794, -0.25210368633270264, 0.5386056900024414, 0.05329655110836029, -0.4063810408115387, 0.2656438946723938, 0.10859662294387817, -0.12131798267364502, 0.5332548022270203, -0.27699172496795654, -0.4142412841320038, 0.1452149599790573, 0.012961313128471375, 0.007250371854752302, 0.28639671206474304, -0.03126608952879906, -0.4539870321750641, 0.17164355516433716, -0.08676920086145401, 0.02462591417133808, 0.08502498269081116, -0.33954861760139465, -0.18061409890651703, 0.32080498337745667, 0.2929714024066925, 0.6208112835884094, 0.030024372041225433, 0.12376920878887177, -0.3682209253311157, -0.06282767653465271, 0.2813257575035095, 0.48524415493011475, -0.44312238693237305, -0.17462562024593353, -0.5214520692825317, -0.015176212415099144, 0.046664759516716, 0.4342186152935028, 0.16657453775405884, 0.2978144884109497, -0.10433182865381241, -0.9043055176734924, 0.13232718408107758, -0.3708934485912323, -0.16555844247341156, 0.5733270645141602, 0.266212522983551, -0.04578457400202751, -0.17108632624149323, 0.42707809805870056, -0.37806108593940735, -0.17662082612514496, -0.292582243680954, -0.7288830280303955, 0.04659460112452507, -0.6588612198829651, -0.07179588079452515, -0.5954412817955017, -0.05952721834182739, -0.07399454712867737, -0.3999328911304474, 0.25675660371780396, -0.2669817805290222, -0.2281368225812912, -0.28153762221336365, -0.2692066431045532, 0.2611432671546936, 0.45016762614250183, 0.015095775946974754, 0.35862529277801514, -0.6891672611236572, 0.013968001119792461, -0.20993156731128693, -0.31985214352607727, 0.07829908281564713, -0.1206241324543953, -0.20867495238780975, 0.4495944082736969, 0.021394897252321243, -0.014070909470319748, -0.2942025065422058, -0.3852868974208832, 0.3193228542804718, -0.03669556602835655, -0.04619431868195534, 0.362432599067688, -0.22051718831062317, 0.06267384439706802, 0.2662515938282013, -0.17264080047607422, -0.38866299390792847, 0.2306661605834961, 0.21317759156227112, -0.3739623427391052, 0.008744901977479458, 0.15817667543888092, 0.016932860016822815, -0.07161937654018402, 0.039161305874586105, -0.24860879778862, 0.015152262523770332, 0.04723760113120079, -0.35203030705451965, 0.5454096794128418, -0.4727683961391449, -1.3030810356140137, -0.12271450459957123, 0.5096918940544128, 0.17261990904808044, -0.19873353838920593, -0.41239485144615173, -0.3527434468269348, 0.013934632763266563, -0.07070200890302658, 0.4191605746746063, -0.15362513065338135, -0.13833196461200714, 0.3012048602104187, 0.505365252494812, 0.23413297533988953, 0.19831427931785583, -0.6452564597129822, 0.12497735023498535, 0.02543361857533455, -0.1849474310874939, 0.14560115337371826, -0.13312885165214539, -0.27915695309638977, 0.05671947821974754, -0.08197478204965591, -0.044714201241731644, 0.15771305561065674, 0.05221269279718399, -0.15329033136367798, 0.08102254569530487, 0.17665497958660126, 0.3258535861968994, -0.14332085847854614, -0.07871241122484207, -0.258791983127594, 0.04145267978310585, -0.006314544472843409, 0.056934650987386703, 0.12557479739189148, 0.10398422926664352, -0.6758227944374084, 0.15701840817928314, -0.2033507376909256, 0.3266089856624603, -0.1757410764694214, -0.665083110332489, 0.10635249316692352, -0.10670541971921921, 0.17838898301124573, 0.0974700078368187, -0.21280726790428162, 0.06928359717130661, -0.15541300177574158, -0.2648026645183563, -0.09049654752016068, 0.5587863922119141, -0.015324719250202179, 0.052965197712183, 0.0047040157951414585, -0.47838371992111206, 0.17968083918094635, -0.25301826000213623, 0.4513392150402069, -0.36736544966697693, 0.21094663441181183, -0.3252830505371094, 0.22621780633926392, -0.045087799429893494, -0.2873852252960205, -0.0457763597369194, 0.40449485182762146, 0.223373681306839, -0.49388960003852844, 0.4594891667366028, -0.05402242764830589, -0.09136875718832016, 0.2767234146595001, 0.15609782934188843, -0.29498571157455444, 0.25471752882003784, -0.49406898021698, 0.7287560105323792, -0.0007444405928254128, 0.9594348073005676], metadata={'file_path': '/content/mixed_data/frame0038.png', 'file_name': 'frame0038.png', 'file_type': 'image/png', 'file_size': 76762, 'creation_date': '2024-04-14', 'last_modified_date': '2024-04-14'}, excluded_embed_metadata_keys=['file_name', 'file_type', 'file_size', 'creation_date', 'last_modified_date', 'last_accessed_date'], excluded_llm_metadata_keys=['file_name', 'file_type', 'file_size', 'creation_date', 'last_modified_date', 'last_accessed_date'], relationships={<NodeRelationship.SOURCE: '1'>: RelatedNodeInfo(node_id='4e7a6455-6741-418b-8e89-174d2830628a', node_type=<ObjectType.DOCUMENT: '4'>, metadata={'file_path': '/content/mixed_data/frame0038.png', 'file_name': 'frame0038.png', 'file_type': 'image/png', 'file_size': 76762, 'creation_date': '2024-04-14', 'last_modified_date': '2024-04-14'}, hash='b95001782da030d538d701124fd0acf9ad5f520f54896747ef25a8201dfdfc18'), <NodeRelationship.PREVIOUS: '2'>: RelatedNodeInfo(node_id='5f8e8295-b2aa-46f6-a065-f342cb061d79', node_type=<ObjectType.IMAGE: '2'>, metadata={'file_path': '/content/mixed_data/frame0037.png', 'file_name': 'frame0037.png', 'file_type': 'image/png', 'file_size': 79921, 'creation_date': '2024-04-14', 'last_modified_date': '2024-04-14'}, hash='045a5d042e6e5f8b22c983c9374efe4f05f5989e23fb87d6c8cd7d26a3da005f'), <NodeRelationship.NEXT: '3'>: RelatedNodeInfo(node_id='fb68826d-b791-4e62-b9f7-df76f651f895', node_type=<ObjectType.IMAGE: '2'>, metadata={}, hash='44136fa355b3678a1146ad16f7e8649e94fb4fc21fe77e8310c060f61caaff8a')}, text='', start_char_idx=0, end_char_idx=0, text_template='{metadata_str}\\n\\n{content}', metadata_template='{key}: {value}', metadata_seperator='\\n', image=None, image_path='/content/mixed_data/frame0038.png', image_url=None, image_mimetype=None, text_embedding=None), score=0.0),\n",
              " NodeWithScore(node=ImageNode(id_='5c763491-7c8a-4647-b3c7-af0e00d645cf', embedding=[0.07558669149875641, -0.5877069234848022, -0.25143957138061523, -0.16766171157360077, -0.3656933307647705, -0.03674409165978432, 0.07449839264154434, 0.4462503492832184, 0.4763043522834778, 0.07221032679080963, -0.044912517070770264, 0.03173017129302025, -0.8875839710235596, -0.2565382122993469, -0.0757238045334816, 0.0995354950428009, -0.03283596411347389, -0.06127338856458664, -0.06783189624547958, -0.09885387867689133, 0.025049474090337753, -0.03969360142946243, -0.09423929452896118, -0.20815210044384003, -0.0865703895688057, 0.44932639598846436, -0.4608798921108246, -0.3952593207359314, 0.22679011523723602, -0.5040758848190308, 0.3464505970478058, -0.2808902859687805, -0.2682584822177887, 0.1547047346830368, 0.658616840839386, 0.464628130197525, 0.0735723003745079, -0.015807606279850006, -0.1533648818731308, -1.0431461334228516, -0.07465413957834244, 0.11834456026554108, -0.28523707389831543, -0.04805910587310791, -0.022777359932661057, -0.10765407979488373, 0.39129307866096497, 0.18320190906524658, -0.2681088149547577, -0.1709814816713333, 0.11523949354887009, -0.11724807322025299, 0.0021322823595255613, -0.1662122756242752, -0.21290726959705353, -0.11563797295093536, -0.4188888967037201, 0.392474889755249, -0.16378253698349, 0.6383143663406372, 0.45541638135910034, -0.35401299595832825, -0.17934618890285492, 0.3906894624233246, 0.31596896052360535, -0.07205670326948166, -0.5683424472808838, 0.6227649450302124, 0.1068931370973587, -0.19132980704307556, -0.3685586154460907, -0.3176381289958954, 0.0005273378337733448, 0.11043684929609299, -0.0005677654407918453, -0.46219882369041443, 0.46310684084892273, -0.8370378613471985, -0.09722008556127548, -0.34354597330093384, -0.12515324354171753, -0.3387616276741028, 0.15757764875888824, 1.147782325744629, 0.033352963626384735, -0.1574917584657669, 0.9913436770439148, -0.17646893858909607, 0.2322770357131958, -0.007017390802502632, -0.4664144217967987, 0.3041812777519226, -5.738879203796387, 0.25111788511276245, 0.11128579825162888, -0.11049020290374756, 0.2681244909763336, -0.307691752910614, 0.2810952365398407, -0.1989949494600296, -0.3995450735092163, 0.05701204016804695, -0.08807633817195892, -0.04820466786623001, 0.16833381354808807, -0.2497265487909317, -2.4906973838806152, 0.07436690479516983, -0.054272864013910294, 0.183761864900589, 0.13634464144706726, -0.2858014702796936, -0.20864781737327576, -0.27917447686195374, -0.03623034432530403, -0.10838092863559723, -0.7182034850120544, -0.7276398539543152, 0.4179063141345978, -0.28252676129341125, -0.10686104744672775, 0.26849445700645447, -0.2119472622871399, 0.34250062704086304, 0.18083392083644867, 0.11865539103746414, -0.2636873126029968, -0.08638115972280502, 0.08517042547464371, -0.014024346135556698, 0.3347962200641632, 0.22850222885608673, -0.018825003877282143, 0.8212255835533142, -0.08799296617507935, -0.2355349063873291, -0.24559526145458221, -0.3785238564014435, -0.05410349369049072, -0.14844834804534912, 0.41632509231567383, -0.2862766981124878, -0.5522991418838501, 0.20877127349376678, -0.3900410234928131, 0.35625022649765015, -0.25719133019447327, 0.6648204922676086, 0.29314908385276794, -0.14474499225616455, 0.11725594103336334, 0.37349215149879456, -0.08171107620000839, -0.24642670154571533, 0.5918799638748169, -0.5673878192901611, -0.3237663209438324, 0.16411440074443817, 0.5252746343612671, 0.04511599242687225, 0.3128296434879303, 0.1691589206457138, 0.03256719186902046, -0.007633666507899761, 0.5190586447715759, -0.3571149706840515, -0.7933828830718994, -0.11844702810049057, -0.37619882822036743, -0.09366507083177567, -0.34843701124191284, 0.12486691772937775, -0.342861533164978, 0.34501105546951294, -0.24181385338306427, -0.07533346116542816, -0.6340242624282837, 0.040711142122745514, 0.5752660036087036, 0.5849146842956543, -0.1282384693622589, -0.22549885511398315, -0.3920285105705261, -0.2895965278148651, 0.28215861320495605, -0.37500837445259094, 0.7902969717979431, 0.1766216903924942, 0.22110430896282196, 0.36520853638648987, 0.2077564299106598, 0.23909682035446167, -0.3486633002758026, 0.3911139965057373, -0.7070932984352112, -0.12409447878599167, 0.18179446458816528, 0.5529912710189819, 0.24741525948047638, 0.29710984230041504, 0.32541394233703613, -0.011243127286434174, 0.12112664431333542, -0.03043340891599655, -0.20900863409042358, 0.15464062988758087, 0.09879570454359055, 0.24656330049037933, 0.043885793536901474, -0.025766808539628983, 0.12351222336292267, 0.49769678711891174, 0.15728600323200226, -0.23901130259037018, -0.12998917698860168, 0.15321213006973267, 0.4266524910926819, 0.20432418584823608, -0.46145665645599365, -0.031373389065265656, 0.5549786686897278, -0.037426382303237915, -0.027375994250178337, 0.029313964769244194, -0.15169991552829742, -0.43051615357398987, -0.4019957482814789, -0.39028987288475037, 0.09663291275501251, 0.31318017840385437, -0.21108467876911163, -0.22352758049964905, -0.3089250326156616, -0.3827451467514038, -0.311935156583786, -0.5473741888999939, 0.30151450634002686, -0.49121785163879395, -0.21243473887443542, -0.21832513809204102, 0.06773844361305237, 0.3566540479660034, -0.09011577814817429, 0.10629713535308838, -0.4837035834789276, 0.16702529788017273, 0.6075639128684998, 0.24099193513393402, 0.34242692589759827, 0.05676821619272232, 0.054219525307416916, -0.16795586049556732, 0.29642587900161743, -0.0597977377474308, -0.4874943494796753, 0.10838891565799713, -0.35117852687835693, -0.3103647828102112, -0.23457050323486328, -0.4788329303264618, -0.11988234519958496, -0.10497770458459854, -0.06526238471269608, 1.3026949167251587, -0.024293269962072372, 0.03220955654978752, -0.19168376922607422, -0.1716432273387909, 0.32713425159454346, 0.29483139514923096, -0.2506342828273773, 0.2715325355529785, 0.11271589994430542, 0.1544876992702484, -0.18027085065841675, 0.029935598373413086, -0.048472631722688675, 0.3848535716533661, 0.41152456402778625, -0.37411242723464966, 0.4383555054664612, -0.07941947132349014, -0.28745806217193604, -0.05282336845993996, 0.11971331387758255, 0.347639799118042, -0.3789130747318268, -0.2333817332983017, -0.20146682858467102, -0.1270504593849182, 0.2576369345188141, 0.1732405126094818, -0.09786973893642426, -0.1527908444404602, 0.027624184265732765, 0.7467402815818787, -0.4658716022968292, -0.048617731779813766, -0.23179969191551208, 0.1293659806251526, -0.17811372876167297, -0.5067844390869141, -0.4187573492527008, 0.20912142097949982, 0.30135685205459595, 0.052100248634815216, 0.06585915386676788, 0.21777428686618805, 0.30178993940353394, 0.35008224844932556, -0.45354270935058594, 0.49936607480049133, 0.8221521377563477, 0.7541189789772034, -0.12787380814552307, 0.12838153541088104, 0.07922554016113281, -0.0029293056577444077, -0.027303757146000862, -0.08141220360994339, 0.7710558772087097, 0.03199724107980728, -0.5513368844985962, -0.26734212040901184, -0.354286253452301, 0.024928828701376915, -0.06516746431589127, -0.21465104818344116, 0.1649300456047058, 0.09163203090429306, 0.02295081317424774, -0.02853090688586235, 0.22635482251644135, -0.1340506672859192, -0.35563814640045166, -0.1432068943977356, -0.4277285039424896, -0.1517535150051117, 0.32379090785980225, 0.4412756860256195, -0.017024226486682892, -0.17405463755130768, 0.27443042397499084, -0.14235584437847137, 0.15328480303287506, -0.1553436815738678, -0.3330950438976288, 0.05250879004597664, 0.13415242731571198, -0.20650121569633484, 0.2295282930135727, 0.3139132261276245, 0.24324417114257812, -0.2550159990787506, -0.3449491262435913, -0.2844601571559906, 0.3384638726711273, -0.9523681998252869, -0.1816803365945816, 0.14256277680397034, -0.14672885835170746, -0.1948913037776947, 0.23416993021965027, -0.400045782327652, -1.0703495740890503, -0.11420773714780807, -0.009042998775839806, 0.23196054995059967, 0.3900611400604248, 0.29379570484161377, 0.25804463028907776, -0.5276424884796143, 0.2909039855003357, 0.5267514586448669, 0.07855118066072464, -0.12063944339752197, -0.584303081035614, 0.21002937853336334, -0.08723755180835724, -0.13546840846538544, -0.6387442350387573, -0.61353600025177, -0.4641757309436798, -0.5306180715560913, 0.21595780551433563, 0.6266986131668091, -0.02472856640815735, -0.37882426381111145, 0.006027563940733671, 0.5172346830368042, -0.4049473702907562, 0.14203663170337677, 0.09600797295570374, -0.6429269909858704, 0.015479356050491333, 0.011554749682545662, -0.02409391663968563, -0.24746623635292053, -0.3020234704017639, -0.18091899156570435, -0.08939501643180847, 0.16927450895309448, 0.2394917607307434, -0.2180129885673523, -0.3850535750389099, -0.24889354407787323, -0.16266381740570068, 0.06336136907339096, 0.9708890318870544, -0.07917995005846024, -0.2572089433670044, -0.08615746349096298, 0.39621660113334656, -0.3439677655696869, -0.2989196181297302, 0.1732643097639084, -0.7853161692619324, -0.17526650428771973, 0.14309196174144745, -0.4467143416404724, 0.48245954513549805, -0.8009531497955322, -0.019381435588002205, -0.35827571153640747, 0.324282169342041, -0.12931989133358002, -0.588263988494873, -0.3069818317890167, -1.7403500080108643, 0.04489268362522125, 0.34703025221824646, -0.22839635610580444, -0.47118160128593445, 0.22214367985725403, -0.4652104079723358, -0.14779134094715118, -0.11129342764616013, -0.11551118642091751, 0.24935592710971832, -0.23590241372585297, -0.09101627767086029, 0.07620804756879807, -0.301578164100647, -0.11021699756383896, -0.07004594802856445, -0.19924373924732208, 0.39703184366226196, -0.3304183781147003, -0.33015531301498413, -0.10401394218206406, 0.17756813764572144, -0.10574418306350708, -0.22594508528709412, -0.5343523621559143, 0.5355134606361389, 0.18672485649585724, -0.16435270011425018, 0.0625520572066307, -0.2205893099308014, 0.25866636633872986, 0.20864304900169373, -0.12613517045974731, -0.1573769748210907, -0.20208840072155, 0.009407882578670979, 0.5225833058357239, 0.1045219898223877, -0.11019141972064972, 0.2557053864002228, 0.3279626965522766, -0.33915984630584717, 0.2641753852367401, -0.04633137956261635, -0.03070935048162937, -0.09449074417352676, -0.2178966999053955, 0.25952813029289246, -0.39631155133247375, 0.2101447433233261, -0.2922707796096802, 0.0808674544095993, 0.14957065880298615, -0.1272282600402832, 0.48896029591560364, 0.23743733763694763, -0.1611694097518921, -0.22980070114135742, 0.030518537387251854, 0.019379492849111557, -0.33087852597236633, 0.4047049880027771, -0.005925938952714205, 0.28428059816360474, -0.4722548723220825, 0.05633092299103737, -0.05798470973968506, -0.15716883540153503, -0.4095165729522705, 0.059498775750398636, 0.207026407122612, -0.8205531239509583, -0.19301506876945496, -0.0794900506734848, -0.06297267228364944, -0.256194531917572, -0.010429668240249157, -0.19129541516304016, 0.22363431751728058, -0.3506901264190674, 1.1470106840133667, 0.26198622584342957, 0.10604915022850037], metadata={'file_path': '/content/mixed_data/frame0028.png', 'file_name': 'frame0028.png', 'file_type': 'image/png', 'file_size': 65903, 'creation_date': '2024-04-14', 'last_modified_date': '2024-04-14'}, excluded_embed_metadata_keys=['file_name', 'file_type', 'file_size', 'creation_date', 'last_modified_date', 'last_accessed_date'], excluded_llm_metadata_keys=['file_name', 'file_type', 'file_size', 'creation_date', 'last_modified_date', 'last_accessed_date'], relationships={<NodeRelationship.SOURCE: '1'>: RelatedNodeInfo(node_id='c56af4a3-6c73-4b25-9af9-cf0cd2b3319c', node_type=<ObjectType.DOCUMENT: '4'>, metadata={'file_path': '/content/mixed_data/frame0028.png', 'file_name': 'frame0028.png', 'file_type': 'image/png', 'file_size': 65903, 'creation_date': '2024-04-14', 'last_modified_date': '2024-04-14'}, hash='424a336f4fd7215216cbfe0193b47e857019800b3d6177fc82db03c693bd9075'), <NodeRelationship.PREVIOUS: '2'>: RelatedNodeInfo(node_id='8e24161c-378d-4745-a036-df9a4864b174', node_type=<ObjectType.IMAGE: '2'>, metadata={'file_path': '/content/mixed_data/frame0027.png', 'file_name': 'frame0027.png', 'file_type': 'image/png', 'file_size': 70238, 'creation_date': '2024-04-14', 'last_modified_date': '2024-04-14'}, hash='e05d3e8a0a0484b295e3ae7df720783905ed00558307c7a03c944420e0ce9915'), <NodeRelationship.NEXT: '3'>: RelatedNodeInfo(node_id='92a74c63-dcd5-41f5-b9d3-5638dee3196b', node_type=<ObjectType.IMAGE: '2'>, metadata={}, hash='44136fa355b3678a1146ad16f7e8649e94fb4fc21fe77e8310c060f61caaff8a')}, text='', start_char_idx=0, end_char_idx=0, text_template='{metadata_str}\\n\\n{content}', metadata_template='{key}: {value}', metadata_seperator='\\n', image=None, image_path='/content/mixed_data/frame0028.png', image_url=None, image_mimetype=None, text_embedding=None), score=0.0)]"
            ]
          },
          "metadata": {},
          "execution_count": 55
        }
      ]
    },
    {
      "cell_type": "code",
      "source": [
        "retrieved_image=[]\n",
        "retrieved_text=[]\n",
        "\n",
        "for res_node in retrieval_results:\n",
        "  if isinstance(res_node.node,ImageNode):\n",
        "    retrieved_image.append(res_node.node.metadata[\"file_path\"])\n",
        "  else:\n",
        "     display_source_node(res_node, source_length=200)\n",
        "     retrieved_text.append(res_node.text)"
      ],
      "metadata": {
        "id": "jR055oPTb3c-",
        "colab": {
          "base_uri": "https://localhost:8080/",
          "height": 119
        },
        "outputId": "911d0dce-3bb9-4b8b-d4d2-e814c43ce424"
      },
      "execution_count": 57,
      "outputs": [
        {
          "output_type": "display_data",
          "data": {
            "text/plain": [
              "<IPython.core.display.Markdown object>"
            ],
            "text/markdown": "**Node ID:** 2d97b645-ed94-45be-8c3b-6edbebfa27ea<br>**Similarity:** 0.7483672499656677<br>**Text:** Lanyard regression is a statistical technique for modeling the relationship between an output variable and one or more input variables. In layman's terms, think of it as fitting a line through some...<br>"
          },
          "metadata": {}
        }
      ]
    },
    {
      "cell_type": "code",
      "source": [
        "retrieved_image"
      ],
      "metadata": {
        "id": "aGqznXHfdFy8",
        "colab": {
          "base_uri": "https://localhost:8080/"
        },
        "outputId": "2112f59d-bf07-4386-ba54-eeaf2743c161"
      },
      "execution_count": 58,
      "outputs": [
        {
          "output_type": "execute_result",
          "data": {
            "text/plain": [
              "['/content/mixed_data/frame0003.png',\n",
              " '/content/mixed_data/frame0038.png',\n",
              " '/content/mixed_data/frame0028.png']"
            ]
          },
          "metadata": {},
          "execution_count": 58
        }
      ]
    },
    {
      "cell_type": "code",
      "source": [
        "retrieved_text"
      ],
      "metadata": {
        "id": "gib_LdutcAxv",
        "colab": {
          "base_uri": "https://localhost:8080/"
        },
        "outputId": "73660763-eff8-4a23-ccbc-7584b67cf37e"
      },
      "execution_count": 59,
      "outputs": [
        {
          "output_type": "execute_result",
          "data": {
            "text/plain": [
              "[\"Lanyard regression is a statistical technique for modeling the relationship between an output variable and one or more input variables. In layman's terms, think of it as fitting a line through some data points as shown here, so you can make predictions on unknown data, assuming there is a linear relationship between the variables. You might be familiar with the linear function y equals mx plus b, where y is the output variable, also called the dependent variable. You may also see expressed as f of x, the function of the input variable. x on the other hand, would serve as the input variable, also called the independent variable. It's likely you'll see the coefficients m and b expressed as beta 1 and beta 0 respectively. So what do the m and b coefficients do? The m or beta 1 coefficient controls the slope of the line. The b or the beta 0 controls the intercept of the line. In machine learning, we also know it as the bias. These two coefficients are what we are solving for in linear regression. We can also extend to multiple input variables, so x1, x2, x3, with beta 1, beta 2, and beta 3, and so on, acting as slopes for each of those variables. In these higher dimensions, you would visualize the linear regression as a hyperplane. So how do we fit the line to these points? Well, you'll notice that there's these differences between the points and the line, these little red segments, these are called residuals. They are the differences between the data points and the predictions the line would produce. Take each of these residuals and square them. These are the squared errors, and notice that the large of the residuals are, the more amplified area of the squares are. If we total the areas of all of these squares for a given line, we will get the sum of the squared error, and this is known as our loss function. We need to find the beta 0 and beta 1 coefficients that will minimize that sum of squared error. The coefficients can be solved with a variety of techniques ranging from matrix decomposition to gradient descent, which is depicted right here. Thankfully, a lot of libraries are available to do this for us, and we will deep dive into these topics in other videos. To validate a linear regression, there are a number of techniques. Machine learning practitioners will often take a third of the data and put it into the test data set. The remaining two thirds will become the training data set. The training data set will then be used to fit the regression line. The test data set will then be used to validate the regression line. This is done to make sure that the regression performs well on data it has not seen before. The tricks used to evaluate the linear regression vary from the R square, standard error of the estimate, prediction intervals, as well as statistical significance. These are topics we will cover in future videos. If you enjoyed this video, please like and subscribe. Look at my two O'Reilly books, Essential Math for Data Science, and getting started with SQL. Chapter five of Essential Math for Data Science actually covers linear regression and much more depth. If you want live instruction, I also do teach on the O'Reilly platform. Promotional link below. I teach classes including machine learning from scratch, probability, and SQL. Comment on what topics you would like to see next, and I will see you again on 3 Minute Data Science.\"]"
            ]
          },
          "metadata": {},
          "execution_count": 59
        }
      ]
    },
    {
      "cell_type": "code",
      "source": [
        "def retrieve(retriever_engine, query_str):\n",
        "    retrieval_results = retriever_engine.retrieve(query_str)\n",
        "\n",
        "    retrieved_image = []\n",
        "    retrieved_text = []\n",
        "    for res_node in retrieval_results:\n",
        "        if isinstance(res_node.node, ImageNode):\n",
        "            retrieved_image.append(res_node.node.metadata[\"file_path\"])\n",
        "        else:\n",
        "            display_source_node(res_node, source_length=200)\n",
        "            retrieved_text.append(res_node.text)\n",
        "\n",
        "    return retrieved_image, retrieved_text"
      ],
      "metadata": {
        "id": "5B4BiT94dLlw"
      },
      "execution_count": 60,
      "outputs": []
    },
    {
      "cell_type": "code",
      "source": [
        "img, txt = retrieve(retriever_engine=retriever_engine, query_str=query_str)"
      ],
      "metadata": {
        "id": "Cad40W4bd2Ch",
        "colab": {
          "base_uri": "https://localhost:8080/",
          "height": 119
        },
        "outputId": "7ad21f2c-9374-4354-8ece-d0f87d9c6ffa"
      },
      "execution_count": 61,
      "outputs": [
        {
          "output_type": "display_data",
          "data": {
            "text/plain": [
              "<IPython.core.display.Markdown object>"
            ],
            "text/markdown": "**Node ID:** 2d97b645-ed94-45be-8c3b-6edbebfa27ea<br>**Similarity:** 0.7483672499656677<br>**Text:** Lanyard regression is a statistical technique for modeling the relationship between an output variable and one or more input variables. In layman's terms, think of it as fitting a line through some...<br>"
          },
          "metadata": {}
        }
      ]
    },
    {
      "cell_type": "code",
      "source": [
        "output_folder"
      ],
      "metadata": {
        "id": "Ak5Pqa6Gd8ZO",
        "colab": {
          "base_uri": "https://localhost:8080/",
          "height": 56
        },
        "outputId": "04c63aad-8b03-42bd-d67f-ba143ceff328"
      },
      "execution_count": 62,
      "outputs": [
        {
          "output_type": "execute_result",
          "data": {
            "text/plain": [
              "'/content/mixed_data/'"
            ],
            "application/vnd.google.colaboratory.intrinsic+json": {
              "type": "string"
            }
          },
          "metadata": {},
          "execution_count": 62
        }
      ]
    },
    {
      "cell_type": "code",
      "source": [
        "img"
      ],
      "metadata": {
        "id": "ZHaQiZU5d_eB",
        "colab": {
          "base_uri": "https://localhost:8080/"
        },
        "outputId": "5642254c-60fb-4496-e623-23b9b0fae02c"
      },
      "execution_count": 63,
      "outputs": [
        {
          "output_type": "execute_result",
          "data": {
            "text/plain": [
              "['/content/mixed_data/frame0003.png',\n",
              " '/content/mixed_data/frame0038.png',\n",
              " '/content/mixed_data/frame0028.png']"
            ]
          },
          "metadata": {},
          "execution_count": 63
        }
      ]
    },
    {
      "cell_type": "code",
      "source": [
        "image_documents = SimpleDirectoryReader(input_dir=output_folder, input_files=img).load_data()"
      ],
      "metadata": {
        "id": "952FvMYDdy8u"
      },
      "execution_count": 64,
      "outputs": []
    },
    {
      "cell_type": "code",
      "source": [
        "image_documents2 = SimpleDirectoryReader(input_files=img).load_data()"
      ],
      "metadata": {
        "id": "-zD4t_V8nvUg"
      },
      "execution_count": 72,
      "outputs": []
    },
    {
      "cell_type": "code",
      "source": [
        "context_str = \"\".join(txt)"
      ],
      "metadata": {
        "id": "8OTwrn_TeJ88"
      },
      "execution_count": 65,
      "outputs": []
    },
    {
      "cell_type": "code",
      "source": [
        "context_str"
      ],
      "metadata": {
        "id": "os8_Ok5CfI1A",
        "colab": {
          "base_uri": "https://localhost:8080/",
          "height": 194
        },
        "outputId": "9ef97cd5-da08-4312-9379-7d61f542bad6"
      },
      "execution_count": 66,
      "outputs": [
        {
          "output_type": "execute_result",
          "data": {
            "text/plain": [
              "\"Lanyard regression is a statistical technique for modeling the relationship between an output variable and one or more input variables. In layman's terms, think of it as fitting a line through some data points as shown here, so you can make predictions on unknown data, assuming there is a linear relationship between the variables. You might be familiar with the linear function y equals mx plus b, where y is the output variable, also called the dependent variable. You may also see expressed as f of x, the function of the input variable. x on the other hand, would serve as the input variable, also called the independent variable. It's likely you'll see the coefficients m and b expressed as beta 1 and beta 0 respectively. So what do the m and b coefficients do? The m or beta 1 coefficient controls the slope of the line. The b or the beta 0 controls the intercept of the line. In machine learning, we also know it as the bias. These two coefficients are what we are solving for in linear regression. We can also extend to multiple input variables, so x1, x2, x3, with beta 1, beta 2, and beta 3, and so on, acting as slopes for each of those variables. In these higher dimensions, you would visualize the linear regression as a hyperplane. So how do we fit the line to these points? Well, you'll notice that there's these differences between the points and the line, these little red segments, these are called residuals. They are the differences between the data points and the predictions the line would produce. Take each of these residuals and square them. These are the squared errors, and notice that the large of the residuals are, the more amplified area of the squares are. If we total the areas of all of these squares for a given line, we will get the sum of the squared error, and this is known as our loss function. We need to find the beta 0 and beta 1 coefficients that will minimize that sum of squared error. The coefficients can be solved with a variety of techniques ranging from matrix decomposition to gradient descent, which is depicted right here. Thankfully, a lot of libraries are available to do this for us, and we will deep dive into these topics in other videos. To validate a linear regression, there are a number of techniques. Machine learning practitioners will often take a third of the data and put it into the test data set. The remaining two thirds will become the training data set. The training data set will then be used to fit the regression line. The test data set will then be used to validate the regression line. This is done to make sure that the regression performs well on data it has not seen before. The tricks used to evaluate the linear regression vary from the R square, standard error of the estimate, prediction intervals, as well as statistical significance. These are topics we will cover in future videos. If you enjoyed this video, please like and subscribe. Look at my two O'Reilly books, Essential Math for Data Science, and getting started with SQL. Chapter five of Essential Math for Data Science actually covers linear regression and much more depth. If you want live instruction, I also do teach on the O'Reilly platform. Promotional link below. I teach classes including machine learning from scratch, probability, and SQL. Comment on what topics you would like to see next, and I will see you again on 3 Minute Data Science.\""
            ],
            "application/vnd.google.colaboratory.intrinsic+json": {
              "type": "string"
            }
          },
          "metadata": {},
          "execution_count": 66
        }
      ]
    },
    {
      "cell_type": "code",
      "source": [
        "plot_images(img)"
      ],
      "metadata": {
        "id": "oDESieAreEm2",
        "colab": {
          "base_uri": "https://localhost:8080/",
          "height": 221
        },
        "outputId": "de6c5830-da70-4f8d-d78f-cd95644ea90a"
      },
      "execution_count": 67,
      "outputs": [
        {
          "output_type": "display_data",
          "data": {
            "text/plain": [
              "<Figure size 1600x900 with 3 Axes>"
            ],
            "image/png": "[encoded data removed]"
          },
          "metadata": {}
        }
      ]
    },
    {
      "cell_type": "code",
      "source": [
        "from llama_index.multi_modal_llms.openai import OpenAIMultiModal"
      ],
      "metadata": {
        "id": "mN91rICEePUg"
      },
      "execution_count": 68,
      "outputs": []
    },
    {
      "cell_type": "code",
      "source": [
        "openai_mm_llm = OpenAIMultiModal(model=\"gpt-4-vision-preview\", api_key=OPENAI_API_TOKEN, max_new_tokens=1500)"
      ],
      "metadata": {
        "id": "0ZZQhGfdfPy-"
      },
      "execution_count": 69,
      "outputs": []
    },
    {
      "cell_type": "code",
      "source": [
        "openai_mm_llm.complete(\n",
        "    prompt=qa_tmpl_str.format(\n",
        "        context_str=context_str,query_str=query_str,metadata_str=metadata_str\n",
        "    ),\n",
        "    image_documents=image_documents,\n",
        ")"
      ],
      "metadata": {
        "id": "SHQ05DNHfUy4",
        "colab": {
          "base_uri": "https://localhost:8080/"
        },
        "outputId": "35119a31-2712-45bf-fc8a-1387b61e2c7b"
      },
      "execution_count": 70,
      "outputs": [
        {
          "output_type": "execute_result",
          "data": {
            "text/plain": [
              "CompletionResponse(text='Multiple linear regression is an extension of simple linear regression to model the relationship between one dependent variable and two or more independent variables. In multiple linear regression, the linear function that describes the relationship is expressed as:\\n\\ny = β0 + β1x1 + β2x2 + ... + βnxn + ε\\n\\nHere, y is the dependent variable, x1, x2, ..., xn are the independent variables, β0 is the intercept term (also known as the bias), β1, β2, ..., βn are the coefficients that represent the slopes of the relationship between each independent variable and the dependent variable, and ε is the error term.\\n\\nThe goal in multiple linear regression is to find the values of the coefficients (β0, β1, β2, ..., βn) that minimize the sum of the squared differences (residuals) between the observed values and the values predicted by the linear model. This is done by using techniques such as matrix decomposition or gradient descent to solve for the coefficients that result in the least sum of squared errors (SSE), which is the loss function in this context.\\n\\nIn higher dimensions, the concept of fitting a line through data points extends to fitting a hyperplane through the data points in the multidimensional space of the independent variables.', additional_kwargs={}, raw={'id': 'chatcmpl-9Dp1prGTYoEhyY4C0X4UawEPCki3j', 'choices': [Choice(finish_reason='stop', index=0, logprobs=None, message=ChatCompletionMessage(content='Multiple linear regression is an extension of simple linear regression to model the relationship between one dependent variable and two or more independent variables. In multiple linear regression, the linear function that describes the relationship is expressed as:\\n\\ny = β0 + β1x1 + β2x2 + ... + βnxn + ε\\n\\nHere, y is the dependent variable, x1, x2, ..., xn are the independent variables, β0 is the intercept term (also known as the bias), β1, β2, ..., βn are the coefficients that represent the slopes of the relationship between each independent variable and the dependent variable, and ε is the error term.\\n\\nThe goal in multiple linear regression is to find the values of the coefficients (β0, β1, β2, ..., βn) that minimize the sum of the squared differences (residuals) between the observed values and the values predicted by the linear model. This is done by using techniques such as matrix decomposition or gradient descent to solve for the coefficients that result in the least sum of squared errors (SSE), which is the loss function in this context.\\n\\nIn higher dimensions, the concept of fitting a line through data points extends to fitting a hyperplane through the data points in the multidimensional space of the independent variables.', role='assistant', function_call=None, tool_calls=None))], 'created': 1713081445, 'model': 'gpt-4-1106-vision-preview', 'object': 'chat.completion', 'system_fingerprint': None, 'usage': CompletionUsage(completion_tokens=260, prompt_tokens=1047, total_tokens=1307)}, logprobs=None, delta=None)"
            ]
          },
          "metadata": {},
          "execution_count": 70
        }
      ]
    },
    {
      "cell_type": "code",
      "source": [
        "result=openai_mm_llm.complete(\n",
        "    prompt=qa_tmpl_str2.format(\n",
        "        query_str=query_str,metadata_str=metadata_str\n",
        "    ),\n",
        "    image_documents=image_documents2,\n",
        ")"
      ],
      "metadata": {
        "id": "-Gs1iomXgVon"
      },
      "execution_count": 73,
      "outputs": []
    },
    {
      "cell_type": "code",
      "source": [
        "pprint(result.text)"
      ],
      "metadata": {
        "colab": {
          "base_uri": "https://localhost:8080/"
        },
        "id": "pUN0WNZYnZPP",
        "outputId": "7e9dd4b1-6c3e-407d-c63f-a6864cacc1c1"
      },
      "execution_count": 74,
      "outputs": [
        {
          "output_type": "stream",
          "name": "stdout",
          "text": [
            "('Multiple linear regression is a statistical technique that models the '\n",
            " 'relationship between two or more independent variables and a dependent '\n",
            " 'variable by fitting a linear equation to observed data. Every value of the '\n",
            " 'independent variable x is associated with a value of the dependent variable '\n",
            " 'y. The regression line for p independent variables x1, x2, ..., xp is '\n",
            " 'represented as:\\n'\n",
            " '\\n'\n",
            " 'y = b0 + b1*x1 + b2*x2 + ... + bp*xp + e\\n'\n",
            " '\\n'\n",
            " 'where y is the dependent variable, x1, x2, ..., xp are the independent '\n",
            " 'variables, b0 is the y-intercept, b1, b2, ..., bp are the regression '\n",
            " 'coefficients representing the change in the dependent variable for one unit '\n",
            " 'change in the respective independent variable, and e is the error term, '\n",
            " 'which is the part of y the regression model is unable to explain.\\n'\n",
            " '\\n'\n",
            " 'Multiple linear regression is used to predict the value of a variable based '\n",
            " 'on the value of two or more other variables. The model is \"multiple\" because '\n",
            " 'it is seeking to predict a single dependent variable from multiple '\n",
            " 'independent variables.')\n"
          ]
        }
      ]
    },
    {
      "cell_type": "code",
      "source": [
        "result2=openai_mm_llm.complete(\n",
        "    prompt=\"what is O'Reilly?\",\n",
        "    image_documents=image_documents2\n",
        ")\n",
        "print(result2.text)"
      ],
      "metadata": {
        "colab": {
          "base_uri": "https://localhost:8080/"
        },
        "id": "46h0swKNn6iK",
        "outputId": "d639bf78-4411-478e-a358-0d352dc71f3d"
      },
      "execution_count": 75,
      "outputs": [
        {
          "output_type": "stream",
          "name": "stdout",
          "text": [
            "O'Reilly can refer to several things, but in the context of the images you've provided, which seem to be related to educational content on linear regression, O'Reilly likely refers to O'Reilly Media, Inc. This is a learning company that publishes books, produces tech conferences, and provides an online learning platform with content on various topics in technology, programming, and data science. They are known for their distinctive animal covers on their technical books. If the images are from a video or a book, it's possible that the content is part of O'Reilly's educational materials on data science and statistics.\n"
          ]
        }
      ]
    },
    {
      "cell_type": "markdown",
      "source": [
        "# Query 2"
      ],
      "metadata": {
        "id": "oht6yYZrqt9E"
      }
    },
    {
      "cell_type": "code",
      "source": [
        "query_str2=\"what is the equation for multiple linear regression?\""
      ],
      "metadata": {
        "id": "lDh7D2ukn-ip"
      },
      "execution_count": 76,
      "outputs": []
    },
    {
      "cell_type": "code",
      "source": [
        "retrieval_results2 = retriever_engine.retrieve(query_str2)"
      ],
      "metadata": {
        "id": "ODfW7jm9qzpd"
      },
      "execution_count": 78,
      "outputs": []
    },
    {
      "cell_type": "code",
      "source": [
        "retrieval_results2"
      ],
      "metadata": {
        "colab": {
          "base_uri": "https://localhost:8080/"
        },
        "id": "H3a4FxIWrFLY",
        "outputId": "af745ce7-a5db-4996-c83c-05b65f4292bf"
      },
      "execution_count": 79,
      "outputs": [
        {
          "output_type": "execute_result",
          "data": {
            "text/plain": [
              "[NodeWithScore(node=TextNode(id_='2d97b645-ed94-45be-8c3b-6edbebfa27ea', embedding=[-0.011831889860332012, 0.0038376476150006056, -0.001850233180448413, -0.011338036507368088, -0.010082827880978584, 0.0011677560396492481, 0.0016093084122985601, 0.00849838275462389, -0.03259428218007088, -0.042553648352622986, -0.006865925621241331, 0.025419699028134346, -0.001395819941535592, 0.02853371575474739, 0.007867349311709404, -0.016804711893200874, 0.02399301342666149, 0.010727579705417156, 0.0436236634850502, -0.020138218998908997, -0.030728617683053017, 0.012943058274686337, -0.013231138698756695, -0.01629714109003544, -0.014417757280170918, -0.019520903006196022, 0.030344508588314056, -0.019685519859194756, 0.006968811620026827, -0.0025601466186344624, 0.012744145467877388, -0.006931086536496878, -0.009931928478181362, -0.019891291856765747, -0.010508089326322079, -0.02037142775952816, 0.011777017265558243, -0.001055438886396587, 0.023869551718235016, -0.01819024421274662, 0.021263105794787407, 0.020138218998908997, -0.0037107549142092466, -0.021139642223715782, 0.006934516131877899, -0.004355506971478462, 0.024637766182422638, -0.05640896037220955, -0.02273094654083252, 0.02371865138411522, 0.0033952377270907164, 0.011187137104570866, -0.03135965019464493, -0.01664009504020214, 0.0002259204920846969, 0.016845867037773132, 0.015323154628276825, 0.013025366701185703, 0.0005808771820738912, -0.025323672220110893, -0.011921057477593422, -0.0009979940950870514, -0.009767310693860054, -0.017161384224891663, 0.01713394746184349, -0.008985376916825771, 0.013937623240053654, 0.024624047800898552, -0.007407791446894407, 0.033335063606500626, -0.023389415815472603, 0.008923645131289959, 0.013656401075422764, 0.013711273670196533, 0.015446617268025875, 0.008313188329339027, -0.03371917083859444, -0.007044261321425438, 0.010672707110643387, 0.012325742281973362, 0.009767310693860054, -0.005041413940489292, 0.0007574981427751482, 0.023814678192138672, 0.023032745346426964, -0.030207328498363495, -0.003438106970861554, 0.034185588359832764, -0.013176266103982925, -0.02814960852265358, -0.007839912548661232, 0.004499547649174929, 0.024047886952757835, -0.00914999470114708, 0.009280316531658173, 0.0019788406789302826, 0.010652130469679832, 0.020083345472812653, 0.007695872336626053, -0.010562961921095848, 0.004516695160418749, -0.0025515726301819086, -0.02727164700627327, -0.009424356743693352, -0.04205979406833649, -0.006941375322639942, -0.004166882950812578, -0.016667531803250313, 0.017188820987939835, 0.0023835254833102226, -0.036325614899396896, 0.04351391643285751, -0.016489194706082344, -0.035667143762111664, 0.013196843676269054, -0.00452012475579977, 0.01456865668296814, -0.024335967376828194, -0.021125923842191696, 0.005603857338428497, 0.025927269831299782, 0.01174958050251007, 0.026860103011131287, -0.008470946922898293, 0.01551520824432373, 0.000653754745144397, -0.001841659308411181, 0.0001713694800855592, -0.010302317328751087, -0.01836857944726944, -0.0037519093602895737, 0.009794746525585651, -0.006114857736974955, 0.018066780641674995, -0.013045944273471832, 0.015021354891359806, 0.002280639484524727, -0.0004441245400812477, -0.0399746373295784, -0.03437764197587967, 0.030810926109552383, 0.009458652697503567, -0.0103640491142869, 0.0010905915405601263, -0.008930504322052002, 0.023938141763210297, 0.00581305893138051, 0.02054976299405098, -0.0032014693133533, -0.00650925375521183, 0.00662242854014039, -0.02041258104145527, 0.010912774130702019, -0.0012792159104719758, -0.0049968296661973, -0.010350330732762814, 0.016489194706082344, 0.013896468095481396, -0.024047886952757835, -0.007016825024038553, 0.012380614876747131, 0.03673715889453888, -0.01032975409179926, 0.01030917651951313, 0.02709331177175045, 0.03876744210720062, 0.0005491540068760514, -0.01681843027472496, -0.004863078240305185, 0.012943058274686337, 0.006800764240324497, 0.03964540362358093, -0.05042785406112671, 0.02691497653722763, 0.006018830928951502, -0.007750744931399822, -0.0032477679196745157, -0.003463828470557928, -0.02579008974134922, -0.019644366577267647, -0.005926233250647783, 0.01677727699279785, 0.01208567526191473, 0.02639368735253811, -0.005391226150095463, -0.0006571842823177576, 0.004616151563823223, -0.016900738701224327, -0.015172254294157028, -0.0313870869576931, 0.022456582635641098, 0.021894140169024467, -0.007894785143435001, -0.019685519859194756, -0.6255468726158142, -0.0022737805265933275, 0.003228905377909541, -0.0010460076155140996, -0.0030660026241093874, -0.005010548047721386, 0.005881649442017078, -0.029603730887174606, -0.011811312288045883, 0.04359622672200203, -0.0020234244875609875, 0.0024401128757745028, 0.005267763044685125, -0.03514585644006729, -0.002035427838563919, -0.014061085879802704, -0.018492043018341064, -0.012572668492794037, -0.011413486674427986, 0.02068694494664669, -0.04074285551905632, 0.02952142059803009, -0.016722403466701508, 0.03561227396130562, -0.007421509828418493, 0.011722144670784473, 0.009513525292277336, 0.011653553694486618, 0.034816619008779526, 0.012161124497652054, -0.014637247659265995, 0.009931928478181362, 0.01646175980567932, 0.009657565504312515, 0.04038618132472038, -0.027463702484965324, -0.0072294557467103004, 0.022209657356142998, 0.026311378926038742, 0.044391877949237823, -0.025213927030563354, -0.03292351961135864, 0.012291447259485722, -0.0008959655533544719, 0.004931668750941753, -0.012826453894376755, 0.022086193785071373, 0.008107416331768036, 0.0009422642178833485, -0.03338993340730667, -0.015021354891359806, -0.00927345734089613, -0.010576680302619934, -0.03037194535136223, 0.009877055883407593, -0.01344376988708973, 0.04008438438177109, -0.01632457785308361, 0.023060180246829987, -0.017079075798392296, -0.014211985282599926, -0.029603730887174606, -0.02111220546066761, -0.012161124497652054, -0.009342048317193985, 0.025639189407229424, 0.021688368171453476, 0.0032169020269066095, 0.0016204543644562364, -0.012188561260700226, 0.01794331707060337, 0.02399301342666149, 0.006656724028289318, -0.02603701502084732, -0.01419826690107584, 0.024678921326994896, 0.018601788207888603, 0.024939564988017082, -0.0011120261624455452, 0.009753592312335968, 0.004304063972085714, 0.011008801870048046, -0.010508089326322079, -0.002966546220704913, 0.03264915570616722, 0.017037920653820038, -0.008621846325695515, 0.01364954188466072, 0.0017850720323622227, 0.021345414221286774, 0.005720461253076792, 0.007044261321425438, -0.027504855766892433, -0.03723101317882538, 0.01189362071454525, 0.019054485484957695, 0.0003939676098525524, 0.001025430392473936, 0.022785818204283714, -0.025913553312420845, -0.020316554233431816, 0.022250810638070107, 0.0012252007145434618, 0.0046710241585969925, 0.014349167235195637, 0.02167464978992939, 0.018341142684221268, 0.005250615067780018, 0.003228905377909541, -0.05061991140246391, -0.01096078846603632, -0.01688702218234539, 0.004729326348751783, 0.0034672580659389496, 0.015350590460002422, -0.02814960852265358, -2.8159682187833823e-05, -0.014061085879802704, 0.010638412088155746, -0.012956776656210423, 0.041291579604148865, 0.0067870463244616985, 0.0175180546939373, -0.019273975864052773, -0.001391533063724637, 0.000552583544049412, 0.018341142684221268, -0.000763499818276614, -0.008717873133718967, -0.01945231296122074, -0.0011703282361850142, -0.019081922248005867, 0.014061085879802704, -0.028341662138700485, -0.004893943667411804, -0.010556102730333805, 0.01439032144844532, -0.012936199083924294, 0.0019325419561937451, -0.010823606513440609, -0.03459713235497475, -0.010466935113072395, 0.010062250308692455, 0.005274622235447168, -0.03890462592244148, -0.030179891735315323, -0.02041258104145527, 0.01681843027472496, 0.015583798289299011, -0.0007442086935043335, -0.02635253220796585, -0.007983952760696411, -0.007983952760696411, 0.01439032144844532, -0.0021880422718822956, 0.004509835969656706, -0.023910705000162125, -0.006687589455395937, -0.03788948059082031, -0.009856478311121464, -0.0365176685154438, 0.015419181436300278, -0.015926752239465714, -0.005456387065351009, 0.010316035710275173, -0.024720074608922005, 0.0031140160281211138, 0.02772434614598751, -0.030426818877458572, -0.026023298501968384, 0.011852466501295567, -0.014431475661695004, -0.01661265827715397, 0.01185932569205761, 0.0044755409471690655, 0.02097502537071705, -0.016475478187203407, 0.0003174461598973721, -0.0008428077562712133, -0.03775230050086975, 0.003902808763086796, 0.004163453355431557, -0.03199068456888199, -0.00837492011487484, 0.030563998967409134, 0.018601788207888603, 0.023512879386544228, 0.000548296608030796, 0.00953410193324089, -0.0007673580548726022, 0.0014181119622662663, 0.02695612981915474, -0.02927449531853199, 0.020042192190885544, 0.007833053357899189, 0.004321211948990822, -0.0010117122437804937, 0.0014223988400772214, -0.014349167235195637, 0.013121393509209156, -0.007078556343913078, 0.01143406331539154, 0.008909926749765873, -0.01412967685610056, 0.005785622633993626, -0.022881845012307167, 0.012360037304461002, -0.018423452973365784, 0.021715804934501648, -0.012339460663497448, 0.019836420193314552, -0.02657202258706093, -0.012332601472735405, -0.042416464537382126, 0.0036696004681289196, 0.03703895956277847, 0.005977676250040531, 0.047409866005182266, -0.00967814214527607, 0.011392909102141857, -0.016544068232178688, 0.004180600866675377, 0.021798113361001015, 0.005449528340250254, -0.00642008613795042, -0.004321211948990822, -0.0009697005152702332, 0.006149152759462595, 0.008189724758267403, -0.01875268667936325, 0.008388638496398926, 0.019040768966078758, 0.014349167235195637, 0.004060567356646061, 0.00823087990283966, -0.0033077846746891737, 0.01611880585551262, -0.008443511091172695, 0.04935784265398979, -0.016694966703653336, -0.028451407328248024, 0.014047367498278618, 0.005463246256113052, -0.01589931547641754, 0.025817526504397392, 0.00875902734696865, 0.02776550129055977, 0.021935293450951576, 0.008031967096030712, 0.0035358488094061613, -0.005535266362130642, 0.037066396325826645, -0.013827878050506115, 0.012476641684770584, -0.0009422642178833485, -0.04038618132472038, 0.007346060127019882, -0.006917368620634079, 0.037450503557920456, 0.019616929814219475, 0.014609810896217823, -0.0017173386877402663, 0.0010648700408637524, -0.0022566327825188637, 0.011811312288045883, 0.0048665073700249195, -0.012215997092425823, -0.00048656502622179687, -0.022195938974618912, -0.001430115313269198, 0.005991394631564617, -0.0048802257515490055, 0.003378090215846896, -0.010707002133131027, 0.021798113361001015, 0.002386955078691244, 0.03174375742673874, -0.006924227345734835, 0.014554938301444054, 0.01226401049643755, -0.02583124302327633, -0.022607482969760895, 0.04258108511567116, -0.0039233858697116375, -0.0055146892555058, -0.010857902467250824, -0.009369484148919582, -0.001135175465606153, -0.0043280706740915775, -0.0012792159104719758, 0.014609810896217823, -0.0027196197770535946, -0.009973082691431046, -0.025982143357396126, -0.003995405975729227, 0.029576294124126434, 0.03769742697477341, -0.0025790089275687933, 0.015035073272883892, -0.009108840487897396, 0.009808464907109737, 0.013683836907148361, -0.008614987134933472, -0.006684160325676203, 0.043184682726860046, -0.0041703125461936, -0.00869043730199337, 0.0036524527240544558, 0.0021588911768049, -0.005576421041041613, 0.0045441314578056335, 0.00255500222556293, -0.008189724758267403, 0.007839912548661232, 0.024884693324565887, 0.010466935113072395, 0.007791899144649506, 0.01263440027832985, 0.02374608814716339, 0.025145336985588074, 0.004832212347537279, -0.010069109499454498, -0.0010888767428696156, 0.027573445811867714, 0.047656793147325516, 0.03607868775725365, -0.006282904651015997, 0.020700661465525627, -0.0296586025506258, -0.011406627483665943, -0.02203132025897503, -0.02589983493089676, 0.008971658535301685, 0.038685135543346405, -0.010583539493381977, 0.011283163912594318, 0.015775851905345917, 0.003429533215239644, 0.007332341745495796, 0.00010256447421852499, 0.012696132063865662, -0.03734075650572777, 0.0008616701816208661, -0.0007750744698569179, -0.023773523047566414, -0.015707261860370636, 0.017888445407152176, -0.002935680327937007, 0.000962841440923512, 0.011962211690843105, 0.024829819798469543, 0.033060699701309204, -0.012058238498866558, -0.03934360295534134, 0.006718455348163843, 0.022017603740096092, -0.007977094501256943, 0.0016598940128460526, -0.007462664041668177, 0.03550252690911293, 0.015309436246752739, -0.00012164125655544922, 0.004911091644316912, 0.0040434193797409534, 0.017367156222462654, 0.011667272076010704, 0.006886502727866173, 0.030097583308815956, 0.0017344864318147302, -0.010953929275274277, 0.03328019008040428, -0.01131060067564249, 0.010892197489738464, -0.002798499073833227, -0.006749321240931749, 0.004581856541335583, 0.003851365763694048, -0.024130195379257202, 0.0207280982285738, -0.009595833718776703, 0.01847832463681698, -0.008326906710863113, -0.0055318367667496204, -0.02470635622739792, -0.03075605258345604, -0.03223761171102524, 0.05767102912068367, -0.018149089068174362, -0.0035427077673375607, 0.0025001296307891607, -0.00497968215495348, -0.006132005248218775, -0.034706875681877136, -0.0034758318215608597, -0.015748417004942894, -0.02293671853840351, -0.03347224369645119, -0.022442864254117012, -0.001130888587795198, 0.024445712566375732, 0.009835900738835335, 0.007051120046526194, -0.009877055883407593, -0.0005101430579088628, -0.007044261321425438, 0.0016058789333328605, 0.0002424251288175583, -0.03212786838412285, -0.002412676578387618, 0.00373476161621511, 0.0007454947917722166, 0.0005341498181223869, -0.02850627899169922, 0.0121405478566885, -0.012428628280758858, -0.01113912370055914, -0.028753206133842468, -0.01893102377653122, 0.012051379308104515, 0.006505824625492096, -0.004070855677127838, -0.002184612676501274, 0.03429533168673515, -0.03753281012177467, 0.004331500269472599, -0.00019784118921961635, -0.006872784346342087, -0.012833313085138798, 0.01444519404321909, 0.004482399672269821, -0.003419244661927223, 0.002244629431515932, -0.005987965036183596, 0.007503818720579147, 0.01284017227590084, -0.011159701272845268, 0.01812165416777134, 0.012003365904092789, 0.02522764541208744, 0.008608127944171429, 0.02509046532213688, 0.026613177731633186, 0.0375053733587265, -0.02185298502445221, -0.007373496424406767, -0.013457488268613815, 0.026133041828870773, -0.0020199951250106096, 0.0016015919391065836, 0.018697815015912056, -0.01664009504020214, -0.01614624261856079, -0.03835589811205864, -0.0013975347392261028, -0.005603857338428497, 0.026434842497110367, -0.008368060924112797, -0.023019026964902878, -0.05865873396396637, 0.0008153715170919895, -0.03857538849115372, -0.0055009713396430016, -0.022826973348855972, -0.009540961124002934, 0.004242332652211189, 0.012943058274686337, 0.021084770560264587, -0.022648636251688004, 0.02349916100502014, -0.02065950818359852, -0.03037194535136223, 0.000164831944857724, -0.006156011950224638, 0.012092533521354198, 0.011969070881605148, 0.028835514560341835, -0.03670972213149071, -0.03649023175239563, -0.007812476716935635, -0.008923645131289959, 0.011193996295332909, -0.005353501066565514, 0.015474054031074047, 0.0058850790373981, 0.03429533168673515, -0.005655300337821245, 0.02044001780450344, 0.011790734715759754, -0.00018519478908274323, 0.0007802188047207892, -0.014925328083336353, -0.01888986863195896, -0.007407791446894407, -0.004626440349966288, 0.010576680302619934, -0.00814857054501772, 0.02814960852265358, -0.015295717865228653, -0.0069893887266516685, 0.03201812133193016, -0.0052094608545303345, -0.0052917697466909885, -0.011200855486094952, -0.02026168256998062, -0.011255728080868721, 0.03135965019464493, -0.006752750836312771, 0.025913553312420845, -0.04000207409262657, 6.687589484499767e-05, -0.0027882105205208063, 0.005483823362737894, 0.006022260058671236, -0.0038582247216254473, 0.02079668827354908, 0.009733014740049839, 0.01562495343387127, 0.003522130660712719, 0.009163713082671165, -0.020385144278407097, -0.02480238303542137, -0.028341662138700485, -0.0020457166247069836, 0.02284069173038006, -0.0017387733096256852, 0.03509098291397095, 0.00479448726400733, -0.00881389994174242, -0.017326001077890396, -0.0040434193797409534, 0.005655300337821245, -0.005651870742440224, 0.01562495343387127, -0.020892716944217682, -0.0009251165902242064, -0.0350361093878746, -0.0343502052128315, -0.006629287730902433, -0.00459214486181736, 0.03103041648864746, -0.002244629431515932, 0.01780613698065281, -0.022319402545690536, -0.0002527137112338096, 0.007757604122161865, 0.0063549247570335865, 0.02825935371220112, 0.002446971833705902, 0.032210174947977066, 0.007682154420763254, -0.008676718920469284, -0.011557526886463165, 0.012600105255842209, 0.006673871539533138, -0.003455254714936018, 0.01805306226015091, 0.010418921709060669, -0.0275871641933918, -0.03341737017035484, 0.000613886455539614, -0.0210710521787405, -0.010261163115501404, -0.03100297972559929, 0.0013100816868245602, 0.0065023950301110744, -0.01724369265139103, -0.011763298884034157, -0.0024932706728577614, -0.052513010799884796, -0.004221755545586348, -0.004324641544371843, 0.005909085739403963, -0.009698719717562199, -0.016105087473988533, -0.0019736962858587503, 0.032182738184928894, 0.0010562961688265204, 0.01576213352382183, 0.0166812501847744, -0.00995936430990696, -0.013752427883446217, 0.008971658535301685, -0.006046266760677099, -0.0047601922415196896, 0.015583798289299011, 0.03802666440606117, -0.019438594579696655, 0.0214688777923584, 0.022223375737667084, 0.025529444217681885, -0.009513525292277336, -0.006426945328712463, -0.0066978782415390015, 0.039425913244485855, -0.026338813826441765, -0.0027024720329791307, -0.02248401939868927, -0.0030814355704933405, -0.018588069826364517, 0.012860748916864395, -0.019959883764386177, -0.02340313419699669, -0.014294294640421867, 0.004828782752156258, 0.031579140573740005, 0.0018896728288382292, -0.021715804934501648, 0.02374608814716339, -0.012318883091211319, -0.0151996910572052, -0.01674984022974968, -0.00608742143958807, -0.006180018652230501, -0.03747793659567833, -0.022401710972189903, -0.024089040234684944, 0.003947392571717501, 0.013148830272257328, -0.00869043730199337, -0.002707616426050663, -0.0026287371292710304, 0.02097502537071705, -0.019754111766815186, -0.0025344251189380884, 0.0017644948093220592, 0.01344376988708973, -0.008176007308065891, 0.033801477402448654, -0.00814857054501772, 0.011125405319035053, 0.01607765071094036, -0.013752427883446217, -0.018629224970936775, -0.025200210511684418, 0.00013428766396827996, 0.006557267624884844, -0.013992494903504848, -0.012517795898020267, -0.015432898886501789, 0.0047910576686263084, 0.004904232453554869, 0.008196583949029446, -0.013937623240053654, 0.002138313837349415, 0.007606704719364643, -0.010041672736406326, 0.020042192190885544, -0.02723049372434616, 0.013786722905933857, -0.008326906710863113, -0.009026531130075455, 0.0022377704735845327, -0.03649023175239563, 0.0022171931341290474, -0.010075968690216541, -0.004173741675913334, -0.005061991047114134, 0.012181702069938183, -0.01679099351167679, -0.0172711294144392, -0.016036497429013252, 0.016585221514105797, -0.006022260058671236, -0.015707261860370636, 0.004472111351788044, 0.004568138159811497, 0.016653813421726227, 0.041044652462005615, -0.030426818877458572, -0.021756958216428757, 0.01861550658941269, -0.004763621371239424, -0.003134593367576599, -0.014870455488562584, -0.029740910977125168, 0.036819469183683395, 0.010233727283775806, -0.017435746267437935, -0.008875631727278233, -0.0037313320208340883, -0.03599638119339943, -0.012888185679912567, -0.009403780102729797, 0.002428109524771571, -5.018371666665189e-05, 0.014088522642850876, 0.007538113743066788, 0.03810897096991539, 0.0016616088105365634, 0.011811312288045883, -0.018848713487386703, -0.007140288129448891, 0.0019342567538842559, 0.013731851242482662, 0.001286074984818697, -0.005895367357879877, -0.02621535211801529, -0.012236574664711952, -0.007929081097245216, -0.010014236904680729, 0.0318809412419796, 0.0414561964571476, -0.012092533521354198, -0.013080239295959473, 0.013100816868245602, 0.03273146599531174, 0.01893102377653122, 0.0002437111979816109, 0.014061085879802704, -0.03476174920797348, -0.02234683744609356, 0.015542644076049328, 0.02596842497587204, 0.0010391485411673784, -0.015981623902916908, 0.01769639179110527, 0.016845867037773132, 0.0052026016637682915, -0.016132524237036705, -0.0006841918802820146, -0.01099508348852396, 0.016763558611273766, 0.03015245497226715, 0.007894785143435001, 0.02160605974495411, 0.04581856355071068, 0.0014824157115072012, -0.005881649442017078, -0.010103404521942139, 0.0011240295134484768, -0.0026081600226461887, 0.0022669213358312845, 0.028588589280843735, -0.012092533521354198, -0.009561538696289062, 0.0042663393542170525, 0.02702472172677517, 0.016845867037773132, 0.0036387345753610134, -0.008560114540159702, -0.01263440027832985, -0.02358146943151951, 0.015391744673252106, -0.01162611786276102, -0.006804193835705519, 0.004441245459020138, -0.0028070728294551373, 0.0020903004333376884, 0.012325742281973362, -0.001941115828230977, 0.01945231296122074, -0.02315620705485344, -0.007819335907697678, -0.003220331622287631, 0.002993982518091798, -0.0076615773141384125, 0.014404038898646832, 0.01587187871336937, -0.03015245497226715, 0.022195938974618912, 0.190297931432724, -0.028451407328248024, 0.0137935820966959, -0.002716190181672573, 0.002800213871523738, 0.011564386077225208, -0.0005491540068760514, 0.008704154752194881, 0.003235764568671584, 0.01407480426132679, 0.008957941085100174, 0.022072475403547287, -0.002681894926354289, -0.0037038957234472036, 0.007887925952672958, 0.015597516670823097, -0.02765575610101223, -0.02445943094789982, -0.008566973730921745, 0.014239422045648098, -0.017339719459414482, 0.017435746267437935, -0.00835434254258871, -0.03026220016181469, 0.054268933832645416, 0.009767310693860054, -0.019273975864052773, -0.014472629874944687, 0.0159404706209898, 0.009829042479395866, -0.02572149783372879, -0.009527242742478848, 0.0012209138367325068, 0.005168306641280651, -0.023512879386544228, 0.010350330732762814, 0.004983111750334501, -0.000693623092956841, 0.030948108062148094, 0.004667594563215971, 0.052732501178979874, -0.01699676550924778, 0.005617575254291296, -0.012620681896805763, -0.004077714867889881, 0.023334544152021408, -0.012257151305675507, -0.013800441287457943, -0.014239422045648098, -0.0007845057407394052, -0.0072294557467103004, 0.010226868093013763, 0.009705578908324242, 0.02090643346309662, -0.018697815015912056, 0.009835900738835335, -0.016530349850654602, 0.014088522642850876, 0.02277209982275963, 0.011557526886463165, -0.026681767776608467, -0.007263751234859228, -0.0014163971645757556, 0.028945259749889374, -0.018876150250434875, 0.010576680302619934, 0.013917045667767525, -0.016050215810537338, -0.030344508588314056, -0.019822701811790466, -0.02009706385433674, 0.016585221514105797, -0.01917794905602932, 0.010165136307477951, -0.018217680975794792, -0.02648971416056156, 0.021976448595523834, 0.01987757347524166, 0.009623270481824875, 0.022964153438806534, -0.027038440108299255, -0.01755920983850956, -0.007503818720579147, -0.03769742697477341, -0.02009706385433674, -0.01632457785308361, -0.03163401409983635, -0.02902756817638874, -0.008752169087529182, -0.030481690540909767, 0.004369225353002548, -0.014143395237624645, -0.017079075798392296, 0.0007189158932305872, 0.006841918453574181, -0.006344636436551809, -0.007496959529817104, 0.009307753294706345, 0.004009124357253313, 0.011392909102141857, -0.0252688005566597, 0.055613309144973755, 0.03956309333443642, 0.020316554233431816, 0.040770288556814194, -0.01657150499522686, -0.03050912730395794, 0.01910935901105404, 0.013663260266184807, -0.008326906710863113, 0.007174583617597818, -0.037066396325826645, 0.006056555546820164, -0.016022779047489166, -0.03212786838412285, -0.011694707907736301, 0.04101721569895744, -0.004194319248199463, -0.0066978782415390015, 0.01226401049643755, -0.022182220593094826, -0.019959883764386177, -0.006073703058063984, -0.0056210048496723175, -0.0008625275804661214, -0.004650447051972151, 0.002143458230420947, 0.0056210048496723175, -0.0313870869576931, 0.015967905521392822, 0.011331177316606045, -0.014294294640421867, 0.002690468681976199, 0.010837324894964695, 0.025844961404800415, -0.010892197489738464, -0.006540119647979736, -0.03028963692486286, 0.005106574855744839, 0.01829998940229416, -0.012730427086353302, -7.486027607228607e-05, 0.0061525823548436165, -0.021482596173882484, 0.013642682693898678, 0.00689679104834795, -0.003546137362718582, 0.02009706385433674, -0.019520903006196022, -0.003700466360896826, -0.014788147062063217, -0.01393076404929161, 0.0024572606198489666, -0.00990449171513319, -0.00012367754243314266, 0.00321004306897521, -0.002254917984828353, -0.02554316259920597, 0.03303326293826103, -0.0055386959575116634, -0.024967001751065254, 0.012682413682341576, 0.02797127328813076, -0.0107344388961792, -0.0014275432331487536, -0.017710110172629356, -0.17394591867923737, 0.008347483351826668, 0.0035289896186441183, -0.027120748534798622, 0.007881066761910915, 0.015748417004942894, 0.016036497429013252, 0.014774428680539131, -0.01924654096364975, -0.00904024951159954, -0.00021863273286726326, -0.02138656936585903, -0.017998190596699715, 0.0037381912115961313, -0.02783409133553505, 0.02825935371220112, 0.024281095713377, 0.009547820314764977, 0.03753281012177467, 0.027875246480107307, 0.045160092413425446, -0.03284120932221413, 0.01393076404929161, 0.00699281832203269, 0.02828679047524929, 0.0013135111657902598, 0.0015407177852466702, 0.029356803745031357, 0.003782775020226836, -0.03451482206583023, -0.001005710568279028, -0.015844443812966347, 0.01787472702562809, 0.008066262118518353, 0.002793354680761695, 0.013628965243697166, 0.03179863095283508, -0.010508089326322079, -0.005840494763106108, 0.0026338815223425627, 0.039919767528772354, 0.009575256146490574, -0.008731591515243053, 0.005356930661946535, -0.005744467955082655, 0.0227995365858078, 0.02614676021039486, -0.006557267624884844, 0.024788666516542435, -0.0010065679671242833, 0.005473535042256117, -0.018245115876197815, 0.027463702484965324, -0.00043705114512704313, 0.012215997092425823, 0.008505241945385933, 0.0016924745868891478, 0.029713476076722145, -0.021057333797216415, -0.004852789454162121, 0.0012432057410478592, -0.013375178910791874, 0.002651029033586383, -0.0030968685168772936, 0.0013563804095610976, -0.02783409133553505, -0.015391744673252106, 0.003817070508375764, -0.041428759694099426, -0.004859648644924164, -4.511979568633251e-05, 0.0076547181233763695, -0.0026613178197294474, 0.026722922921180725, -0.0016899025067687035, 0.026009580120444298, -0.006708167027682066, 0.0022309112828224897, 0.029055004939436913, 0.0047396146692335606, -0.00874530989676714, 0.0323747918009758, 0.0017764981603249907, -0.008347483351826668, 0.011763298884034157, 0.004160023760050535, 0.008594410493969917, 0.002733337925747037, -0.029686039313673973, 0.002867089817300439, 0.008614987134933472, 0.0008616701816208661, -0.00321004306897521, -0.03352711722254753, -0.007359778042882681, 0.0031517408788204193, -0.009664424695074558, -0.015268282033503056, 0.010926492512226105, 0.0007227741298265755, -0.004647017456591129, -0.031688887625932693, -0.023595187813043594, -0.0011626117629930377, 0.015775851905345917, 0.009204867295920849, -0.01868409663438797, 0.016900738701224327, 0.03273146599531174, -0.0015450046630576253, -0.024582894518971443, -0.016214832663536072, 0.008827618323266506, 0.024720074608922005, 0.000432978558819741, 0.018450887873768806, 0.009547820314764977, -0.0033163586631417274, 0.006221173331141472, 0.0009019672288559377, 0.030563998967409134, -0.021263105794787407, 0.009973082691431046, 0.00032066134735941887, -0.033966097980737686, -0.032072994858026505, -0.12017083913087845, -0.024857256561517715, -0.014170831069350243, -0.0022411998361349106, -0.006207454949617386, 0.012222856283187866, -0.016228551045060158, 0.03223761171102524, 0.016338296234607697, 0.04433700442314148, -0.032072994858026505, 0.0011831889860332012, -0.004883655346930027, -0.005288340151309967, -0.03248453885316849, 0.005387796554714441, -0.0048802257515490055, 0.0055009713396430016, -0.018601788207888603, 0.042663391679525375, -0.01108425110578537, -0.04013925790786743, -0.009698719717562199, 0.003919956274330616, -0.0002863660338334739, 0.012442346662282944, -0.032319922000169754, 0.013416334055364132, -0.015021354891359806, 0.01189362071454525, 0.018876150250434875, -0.01836857944726944, -0.0090059544891119, -0.02403416857123375, 0.008827618323266506, -0.01185932569205761, -0.02068694494664669, 0.002145173028111458, 0.014417757280170918, -0.02927449531853199, -0.001357237808406353, 0.008951081894338131, 0.0022411998361349106, 0.00995936430990696, -0.010926492512226105, -0.014801865443587303, -0.039919767528772354, 0.04979682341217995, 0.007771322038024664, -0.01875268667936325, 0.007030542939901352, -0.023279670625925064, -0.03352711722254753, -0.014033650048077106, 0.027916399762034416, 0.006478388328105211, -0.012188561260700226, 0.01657150499522686, -0.014541220851242542, -0.014609810896217823, -0.029356803745031357, 0.02336197905242443, -0.02727164700627327, -0.0036455937661230564, 0.007085415534675121, -0.0072363149374723434, -0.018176525831222534, -0.011605540290474892, 0.026229070499539375, 0.016983048990368843, 0.001335803186520934, 0.026942413300275803, -0.007538113743066788, 0.015131100080907345, -0.022195938974618912, 0.011516372673213482, -0.036298178136348724, -0.009287175722420216, 0.0106589887291193, -0.018588069826364517, 0.007846771739423275, -0.011372331529855728, -0.00990449171513319, -0.013045944273471832, -0.004890514072030783, 0.010672707110643387, -0.0036112985108047724, 0.005212890449911356, 0.0006160298944450915, -0.033801477402448654, -0.006426945328712463, 0.024047886952757835, 0.0429377555847168, -0.0013435196597129107, -0.0021743241231888533, 0.0033763754181563854, 0.019205385819077492, -0.01967180147767067, 0.01433544885367155, 0.010165136307477951, -0.0041394466534256935, -0.008573832921683788, -0.04236159473657608, 0.015336872078478336, 0.029603730887174606, -0.00972615648061037, -0.008669859729707241, 0.011468359269201756, 0.030838362872600555, -0.03226504847407341, 0.00846408773213625, 0.01787472702562809, -0.006958522833883762, -0.0035632848739624023, -0.025104183703660965, -0.00877960491925478, -0.015350590460002422, -0.05322635546326637, 0.007030542939901352, -0.02097502537071705, 0.016516631469130516, 0.011742721311748028, 0.00823087990283966, 0.010226868093013763, 0.020110782235860825, 0.031935811042785645, -0.020878998562693596, -0.008100557141005993, 0.006663582753390074, 0.014815582893788815, -0.008786464110016823, -0.03278633579611778, 0.0018468035850673914, -0.0411543995141983, -0.0017207682831212878, 0.007051120046526194, -0.021276824176311493, -0.0036250166594982147, 0.01685958541929722, -0.002386955078691244, 0.03662741556763649, 0.017833571881055832, 0.0029236769769340754, -0.014541220851242542, -0.0011454641353338957, 0.005055131856352091, -0.02209991216659546, -0.008134853094816208, -0.024569176137447357, -0.02241542935371399, 0.003601009724661708, 0.017147665843367577, 0.007455805316567421, -0.010528666898608208, -0.01839601621031761, -0.037066396325826645, 0.0032169020269066095, -0.030097583308815956, 0.023416852578520775, -0.008937363512814045, -0.003895949572324753, -0.03273146599531174, 0.03429533168673515, 0.008855055086314678, 0.004091433249413967, -0.0025670055765658617, 0.006169730331748724, -0.030344508588314056, 0.012181702069938183, 0.02086528018116951, -0.022580046206712723, 0.003793063573539257, -0.01699676550924778, 0.002044001827016473, -0.010096545331180096, 0.014952764846384525, 0.012517795898020267, 0.020824125036597252, 0.0036455937661230564, 0.009348907507956028, -0.0180119089782238, 0.008107416331768036, 0.02576265297830105, -0.0313870869576931, -0.006430374458432198, 0.010034814476966858, 0.012751004658639431, 0.01931513100862503, -0.00944493431597948, 0.002153746783733368, 0.008566973730921745, 0.014184549450874329, -0.015227126888930798, 0.006574415136128664, -0.006063414737582207, 0.023814678192138672, -0.011797593906521797, 0.0013529508141800761, -0.005765045061707497, -0.00778504041954875, -0.013683836907148361, 0.014952764846384525, -0.0013263719156384468, -0.006255468353629112, -0.018629224970936775, -0.039069242775440216, -0.025886116549372673, -0.018409734591841698, -0.0026938982773572206, -0.029000133275985718, 0.004173741675913334, 0.01632457785308361, 0.014211985282599926, -0.008985376916825771, -0.0012852175859734416, -0.0037793456576764584, -0.013862173072993755, 0.022676073014736176, 0.0015732983592897654, -0.019273975864052773, -0.031935811042785645, 0.00872473232448101, 0.010741298086941242, 0.012620681896805763, 0.04088003560900688, -0.010638412088155746, 0.012408050708472729, 0.012716708704829216, 0.030618872493505478, -0.007394073531031609, 0.030070146545767784, 0.0050894273445010185, -0.0055386959575116634, -0.002112592337653041, 0.006101139355450869, -0.007860490120947361, 0.010213149711489677, 5.862358375452459e-05, 0.0077301678247749805, 0.005353501066565514, 0.0113997682929039, 0.07424253225326538, 0.022442864254117012, -0.03190837800502777, -0.005353501066565514, -0.0110293785110116, 0.02470635622739792, 0.008971658535301685, 0.02293671853840351, -0.028917822986841202, -0.031688887625932693, 0.01562495343387127, -0.0034946943633258343, -0.01688702218234539, -0.018286271020770073, -0.008100557141005993, 0.024281095713377, 0.011022519320249557, 0.008738450706005096, -0.015405463054776192, 0.006574415136128664, 0.004856219049543142, 0.007558691315352917, 0.021153360605239868, 0.015638671815395355, 0.011996506713330746, 0.003235764568671584, 0.037066396325826645, 0.015720980241894722, -0.017079075798392296, -0.039425913244485855, -0.022003885358572006, -0.0023955288343131542, -0.027600882574915886, -0.006821341346949339, 0.019205385819077492, -0.024116476997733116, -0.008422933518886566, -0.008525819517672062, -0.000971415254753083, 0.023759806528687477, 0.017188820987939835, -0.009438075125217438, 0.0008509529288858175, -0.0265994593501091, -0.02504931017756462, 0.01808049902319908, -0.014788147062063217, -0.021647213026881218, -0.013971918262541294], metadata={'file_path': '/content/mixed_data/output_text.txt', 'file_name': 'output_text.txt', 'file_type': 'text/plain', 'file_size': 3400, 'creation_date': '2024-04-14', 'last_modified_date': '2024-04-14'}, excluded_embed_metadata_keys=['file_name', 'file_type', 'file_size', 'creation_date', 'last_modified_date', 'last_accessed_date'], excluded_llm_metadata_keys=['file_name', 'file_type', 'file_size', 'creation_date', 'last_modified_date', 'last_accessed_date'], relationships={<NodeRelationship.SOURCE: '1'>: RelatedNodeInfo(node_id='32c8b180-97c9-4de4-a044-ec7d02cd1f79', node_type=<ObjectType.DOCUMENT: '4'>, metadata={'file_path': '/content/mixed_data/output_text.txt', 'file_name': 'output_text.txt', 'file_type': 'text/plain', 'file_size': 3400, 'creation_date': '2024-04-14', 'last_modified_date': '2024-04-14'}, hash='3d05f78a6b2b7e664afc1c0c2467dc21b073aeb279b3ff8eabb701c2e3c6d9b7'), <NodeRelationship.PREVIOUS: '2'>: RelatedNodeInfo(node_id='40f380d8-4679-4acb-a071-5b065a3e68d5', node_type=<ObjectType.IMAGE: '2'>, metadata={'file_path': '/content/mixed_data/frame0046.png', 'file_name': 'frame0046.png', 'file_type': 'image/png', 'file_size': 2820, 'creation_date': '2024-04-14', 'last_modified_date': '2024-04-14'}, hash='2c4224a2d0140e07e6bc3c52cc5da011d83cf193942ebbb659305b3af3b81ffd')}, text=\"Lanyard regression is a statistical technique for modeling the relationship between an output variable and one or more input variables. In layman's terms, think of it as fitting a line through some data points as shown here, so you can make predictions on unknown data, assuming there is a linear relationship between the variables. You might be familiar with the linear function y equals mx plus b, where y is the output variable, also called the dependent variable. You may also see expressed as f of x, the function of the input variable. x on the other hand, would serve as the input variable, also called the independent variable. It's likely you'll see the coefficients m and b expressed as beta 1 and beta 0 respectively. So what do the m and b coefficients do? The m or beta 1 coefficient controls the slope of the line. The b or the beta 0 controls the intercept of the line. In machine learning, we also know it as the bias. These two coefficients are what we are solving for in linear regression. We can also extend to multiple input variables, so x1, x2, x3, with beta 1, beta 2, and beta 3, and so on, acting as slopes for each of those variables. In these higher dimensions, you would visualize the linear regression as a hyperplane. So how do we fit the line to these points? Well, you'll notice that there's these differences between the points and the line, these little red segments, these are called residuals. They are the differences between the data points and the predictions the line would produce. Take each of these residuals and square them. These are the squared errors, and notice that the large of the residuals are, the more amplified area of the squares are. If we total the areas of all of these squares for a given line, we will get the sum of the squared error, and this is known as our loss function. We need to find the beta 0 and beta 1 coefficients that will minimize that sum of squared error. The coefficients can be solved with a variety of techniques ranging from matrix decomposition to gradient descent, which is depicted right here. Thankfully, a lot of libraries are available to do this for us, and we will deep dive into these topics in other videos. To validate a linear regression, there are a number of techniques. Machine learning practitioners will often take a third of the data and put it into the test data set. The remaining two thirds will become the training data set. The training data set will then be used to fit the regression line. The test data set will then be used to validate the regression line. This is done to make sure that the regression performs well on data it has not seen before. The tricks used to evaluate the linear regression vary from the R square, standard error of the estimate, prediction intervals, as well as statistical significance. These are topics we will cover in future videos. If you enjoyed this video, please like and subscribe. Look at my two O'Reilly books, Essential Math for Data Science, and getting started with SQL. Chapter five of Essential Math for Data Science actually covers linear regression and much more depth. If you want live instruction, I also do teach on the O'Reilly platform. Promotional link below. I teach classes including machine learning from scratch, probability, and SQL. Comment on what topics you would like to see next, and I will see you again on 3 Minute Data Science.\", start_char_idx=1, end_char_idx=3400, text_template='{metadata_str}\\n\\n{content}', metadata_template='{key}: {value}', metadata_seperator='\\n'), score=0.7384580969810486),\n",
              " NodeWithScore(node=ImageNode(id_='ee68246b-5049-4387-962a-78e7b492207a', embedding=[0.0534958690404892, -0.08979269862174988, -0.1691904067993164, -0.18744641542434692, -0.34308385848999023, -0.06341623514890671, 0.32713618874549866, 0.4115194082260132, 0.010623324662446976, 0.3668833076953888, 0.54414302110672, 0.029040852561593056, 0.15309247374534607, 0.29627731442451477, -0.5396237373352051, 0.20318716764450073, -0.6554197669029236, 0.40742406249046326, -0.29476889967918396, -0.5126824975013733, -0.0198822021484375, 0.03008073754608631, -0.5772714018821716, 0.36091047525405884, -0.07539161294698715, 0.04869772121310234, 0.05355382710695267, -0.0850534588098526, 0.19355328381061554, -0.4839162826538086, 0.011203798465430737, 0.018490919843316078, -0.1843189299106598, 0.08389461785554886, -0.19597771763801575, -0.35963138937950134, -0.6155503392219543, 0.18932710587978363, -0.37819308042526245, -1.457872748374939, 0.17562416195869446, 0.06820596754550934, -0.2990100383758545, 0.20413945615291595, -0.43878796696662903, 0.0872262567281723, 0.12917540967464447, 0.21674330532550812, -0.24516114592552185, -0.18079178035259247, -0.2559675872325897, -0.18444190919399261, -0.08170957118272781, 0.017803477123379707, -0.19024690985679626, -0.015898166224360466, 0.3096691071987152, 0.32632866501808167, -0.017533233389258385, -0.30649876594543457, -0.06158697232604027, 0.15372474491596222, 0.8278633952140808, 0.24925747513771057, 0.04287734627723694, 0.006314969155937433, 0.13489937782287598, 0.2272404432296753, 0.4454023540019989, 0.02667875774204731, -0.2812136113643646, 0.4055391848087311, 0.2935643196105957, -0.2997371256351471, -0.4845370650291443, 0.04270369932055473, -0.11160056293010712, 0.050588708370923996, -0.5863098502159119, -0.1790982335805893, 0.11958280950784683, -0.24452699720859528, -0.0498894527554512, 0.6716105341911316, -0.041233159601688385, -0.23501436412334442, 1.2169826030731201, -0.0891413539648056, 0.5566096305847168, -0.1875068098306656, -0.11996381729841232, -0.3998972475528717, -4.122630596160889, 0.06283419579267502, -0.050603237003088, -0.31986483931541443, -0.08324982225894928, 0.1849774420261383, 0.5762887001037598, -1.02517831325531, 0.06771170347929001, -0.07072263956069946, -0.12779738008975983, -0.2688694894313812, -0.27591028809547424, -0.15764155983924866, -1.0499365329742432, 0.6321783661842346, 0.043717287480831146, -0.08039098978042603, -0.7196813821792603, 0.21537244319915771, 0.6310262084007263, 0.4300343692302704, -0.2055002599954605, -0.11596096307039261, -0.17590300738811493, -0.5393787026405334, -0.40023234486579895, -0.5942338705062866, -0.1964208036661148, 0.30104735493659973, -0.216243714094162, 0.528914213180542, 0.0071787647902965546, 0.41789117455482483, -0.13959085941314697, 0.3016582727432251, 0.41844502091407776, -0.6529985070228577, 0.48172467947006226, 0.5480231642723083, 0.14727304875850677, 0.8530416488647461, 0.04565221816301346, -0.12973619997501373, 0.7979268431663513, 0.023372292518615723, -0.2171047031879425, -0.29276958107948303, 0.14356255531311035, -0.014884257689118385, 0.009192785248160362, 0.12611505389213562, -0.44933342933654785, 0.3393193781375885, -0.5069708824157715, 0.09248284995555878, 0.17685173451900482, 0.036797843873500824, 0.2994573712348938, -0.5008624792098999, 0.4967258870601654, -0.15859560668468475, -0.019984157755970955, -0.5556597113609314, 0.2626505494117737, -0.02537325769662857, -0.03383982181549072, -0.01274901069700718, -0.3688276708126068, -0.274094820022583, -0.1213158667087555, 0.19083453714847565, 0.042781930416822433, -0.3726949095726013, -0.5284885168075562, -0.18039864301681519, -0.08907324075698853, -0.08760075271129608, 0.7436440587043762, 0.09627293795347214, -0.5827832818031311, -0.20503947138786316, 0.05407966673374176, -0.22918827831745148, 0.15811416506767273, -0.04968848451972008, -0.0753193199634552, -0.21500752866268158, 0.22362898290157318, -0.03297366201877594, -0.0006015960825607181, 0.31640297174453735, -0.0762319564819336, -0.2619309425354004, 0.08028176426887512, 0.15106907486915588, -0.2814103364944458, 0.5916599631309509, -0.07012428343296051, 0.07974746823310852, -0.35957133769989014, -0.20936644077301025, 0.14400295913219452, -0.0528927706182003, -0.3591305911540985, 0.0814492478966713, 0.01394340954720974, 0.30450439453125, 0.22745832800865173, -0.028539109975099564, -0.29444995522499084, -0.027578243985772133, -0.04884028434753418, -0.29171842336654663, -0.5340979695320129, 0.2642331123352051, 0.34047406911849976, 0.5678615570068359, -0.08314115554094315, 0.6087028980255127, 0.18556252121925354, 0.012232545763254166, 0.004920117557048798, -0.343177855014801, 0.34529781341552734, 0.05121368542313576, -0.04937438666820526, -0.006871314719319344, 0.536352813243866, 0.027858057990670204, -0.30301153659820557, -0.04850337281823158, -0.6430044770240784, -0.2661791443824768, 0.5201622247695923, -0.23842918872833252, 0.12818577885627747, 0.011402392759919167, -0.2898281216621399, 0.2882946729660034, 0.34100186824798584, -0.4590868055820465, 0.05314488336443901, -0.0023881709203124046, 0.2441023886203766, 0.04512571915984154, 0.20037545263767242, 0.2886456251144409, -0.17630624771118164, -0.03648441657423973, 0.4644980728626251, 0.23719313740730286, -0.05204271152615547, 0.16938184201717377, 0.05067923665046692, 0.49527624249458313, 0.0713842362165451, -0.1108422577381134, -0.2073415070772171, -0.5420251488685608, 0.10735809057950974, 0.19002895057201385, 0.3007434606552124, -0.6798681020736694, -0.2713119685649872, 0.08913147449493408, -1.2903386354446411, 0.28123655915260315, -0.5017999410629272, 0.03110598400235176, 0.20232859253883362, -0.10190988332033157, 0.10710996389389038, -0.06707374006509781, 0.1774371713399887, -0.2659158408641815, -0.12762326002120972, -0.09617027640342712, -0.6257702708244324, 0.2609749138355255, -0.4650207459926605, -0.4383486211299896, -0.2266124039888382, 0.28476959466934204, -0.14908082783222198, 0.16139599680900574, 0.5603510141372681, 0.07542973756790161, -0.10238604992628098, -0.30336788296699524, -0.2644299864768982, -0.6143052577972412, -0.1742696464061737, -0.31144633889198303, -0.667504072189331, -0.3819449543952942, 0.1794353872537613, -0.6178445816040039, 0.2325233668088913, 0.48113009333610535, 0.32603806257247925, -0.27453911304473877, 0.046947281807661057, 0.38497433066368103, -0.4168339669704437, 0.48926791548728943, 0.26617780327796936, -0.4272036850452423, 0.4463614225387573, 0.1469661295413971, -0.0501776784658432, 0.20761485397815704, -0.4338446259498596, -0.05042876675724983, 0.2639184296131134, 0.05528770387172699, -0.15664398670196533, -0.008938869461417198, -0.3835948407649994, 0.1367056965827942, 0.853140652179718, -0.1684442013502121, 0.11320976912975311, 0.39714619517326355, -0.111732117831707, -0.25567975640296936, -0.2862864136695862, -0.1734069585800171, 0.0174887515604496, 1.0685023069381714, 0.349452406167984, 0.170592799782753, -0.4117729067802429, 0.23075078427791595, 0.3393115997314453, -0.43090590834617615, 0.2506027817726135, -0.06283827871084213, -0.018167758360505104, 0.22798314690589905, 0.40117087960243225, -0.5056203007698059, -0.2668408751487732, -0.08688745647668839, -0.26538532972335815, -0.05974649637937546, -0.5019011497497559, -0.34074369072914124, 0.09391810745000839, -0.12089112401008606, 0.20349988341331482, -0.4614710211753845, -0.17949321866035461, -0.07168038189411163, 0.2721771001815796, 0.08855012059211731, 0.5597043037414551, -0.17784307897090912, 0.1714993119239807, -0.08189855515956879, 0.31788989901542664, 0.7214404344558716, 0.24250847101211548, 0.2541455626487732, 0.09304402768611908, -0.43092936277389526, -0.1882428228855133, -0.4254758656024933, -0.5047805905342102, 0.04912950098514557, -0.012918243184685707, 0.27974733710289, -0.4482181966304779, 0.27309101819992065, -0.0794462189078331, -0.9997095465660095, 0.5214329361915588, 0.36564508080482483, 0.44144970178604126, 0.3512905240058899, 0.37400805950164795, -0.05806102976202965, 0.15048538148403168, 0.03355005383491516, -0.19331248104572296, -0.08870095759630203, -0.7442817687988281, 0.5517617464065552, -0.4234243333339691, 0.2297397255897522, 0.34004074335098267, 0.060813769698143005, -0.23763814568519592, 0.22470036149024963, -0.03456583991646767, -0.07959543168544769, -0.09489255398511887, 0.4564792811870575, -0.21255314350128174, 0.25746950507164, 0.28223246335983276, 0.213278666138649, 0.2584637701511383, 0.09193515032529831, -0.42370128631591797, -0.03506085276603699, 0.1362859457731247, -0.13748301565647125, 0.20858173072338104, 0.28335630893707275, 0.1084422841668129, -0.12924791872501373, 0.23047834634780884, 0.03690304234623909, -0.2074766457080841, 0.3257840871810913, 0.3919309079647064, 0.04885365441441536, -0.07032036781311035, 0.13477057218551636, 0.10378989577293396, -0.10435337573289871, -0.37132886052131653, -0.6255565285682678, -0.10087033361196518, -0.4588456153869629, 0.20222316682338715, -0.4675516188144684, 0.21362683176994324, -0.4486840069293976, -0.24837827682495117, 0.5363175272941589, 0.06901869177818298, -0.4765748381614685, -0.3904538154602051, -0.47144487500190735, -0.9421809315681458, 0.17151939868927002, -0.010717542842030525, -0.16232308745384216, -1.0601892471313477, -0.038464222103357315, 0.045660678297281265, -0.4877132475376129, -0.11906138807535172, 0.017077254131436348, 0.43406185507774353, -0.6246116161346436, -0.5709994435310364, 0.10993596166372299, -0.11393633484840393, 0.33718863129615784, 0.2564049959182739, -0.11733540147542953, -0.1058327704668045, -0.06791552901268005, -0.09006167948246002, 0.37281420826911926, -0.3949389159679413, -0.106031633913517, -0.044115327298641205, -0.513856828212738, -0.41955187916755676, -0.7211914658546448, -0.8589726090431213, 0.3272688388824463, -0.678490161895752, 0.4560970067977905, -0.030042042955756187, -0.5107841491699219, -0.4925473928451538, 0.14056888222694397, 0.07996722310781479, -0.11015178263187408, 0.0545017309486866, 0.4376364052295685, 0.25698739290237427, 0.09483281522989273, -0.13515324890613556, -0.15744566917419434, -0.04694348946213722, -0.6776344180107117, -0.016408735886216164, -0.08103099465370178, -0.0991787388920784, 0.08435148745775223, 0.09855195879936218, 0.18444427847862244, -0.13878731429576874, -0.04036329686641693, 0.1262609362602234, 0.30571722984313965, -0.19461552798748016, -0.3138886094093323, -0.4015764594078064, -0.17692531645298004, 0.1535906046628952, -0.26812246441841125, -0.09467358142137527, -0.3945746123790741, -0.5765719413757324, -0.32036665081977844, 0.3696404695510864, 0.6542861461639404, -0.26968124508857727, 0.45704787969589233, 0.1708913892507553, -0.15960803627967834, -0.6038364768028259, 0.17788593471050262, 0.48946473002433777, -0.38656139373779297, 0.0511900819838047, 0.1667609065771103, 0.23188485205173492, -0.45806291699409485, -0.08383198827505112, 0.5393031239509583, 0.0633983388543129, 0.4602494239807129], metadata={'file_path': '/content/mixed_data/frame0003.png', 'file_name': 'frame0003.png', 'file_type': 'image/png', 'file_size': 61264, 'creation_date': '2024-04-14', 'last_modified_date': '2024-04-14'}, excluded_embed_metadata_keys=['file_name', 'file_type', 'file_size', 'creation_date', 'last_modified_date', 'last_accessed_date'], excluded_llm_metadata_keys=['file_name', 'file_type', 'file_size', 'creation_date', 'last_modified_date', 'last_accessed_date'], relationships={<NodeRelationship.SOURCE: '1'>: RelatedNodeInfo(node_id='3e81495a-671b-4deb-a460-9a96a5cf5cae', node_type=<ObjectType.DOCUMENT: '4'>, metadata={'file_path': '/content/mixed_data/frame0003.png', 'file_name': 'frame0003.png', 'file_type': 'image/png', 'file_size': 61264, 'creation_date': '2024-04-14', 'last_modified_date': '2024-04-14'}, hash='8ab7c4f20c3d4885a9f753a78fe84728aa77e9002ed47014854fad3614fde855'), <NodeRelationship.PREVIOUS: '2'>: RelatedNodeInfo(node_id='afb7f4b4-6a03-473c-a2e8-405b9adfa32b', node_type=<ObjectType.IMAGE: '2'>, metadata={'file_path': '/content/mixed_data/frame0002.png', 'file_name': 'frame0002.png', 'file_type': 'image/png', 'file_size': 83490, 'creation_date': '2024-04-14', 'last_modified_date': '2024-04-14'}, hash='c311b98238c1416910288e543ebe06ccd88ba249abe69bbf2f3f27f89ec7374e'), <NodeRelationship.NEXT: '3'>: RelatedNodeInfo(node_id='4300f2cc-244e-437e-9e32-06dd7753d6f7', node_type=<ObjectType.IMAGE: '2'>, metadata={}, hash='44136fa355b3678a1146ad16f7e8649e94fb4fc21fe77e8310c060f61caaff8a')}, text='', start_char_idx=0, end_char_idx=0, text_template='{metadata_str}\\n\\n{content}', metadata_template='{key}: {value}', metadata_seperator='\\n', image=None, image_path='/content/mixed_data/frame0003.png', image_url=None, image_mimetype=None, text_embedding=None), score=0.0),\n",
              " NodeWithScore(node=ImageNode(id_='cb95e174-a7e6-410b-8506-661869368521', embedding=[-0.08285508304834366, 0.451405793428421, -0.257437139749527, 0.10492764413356781, -0.29358839988708496, 0.23947228491306305, 0.0069894916377961636, 0.47336581349372864, 0.45024847984313965, 0.10641741007566452, 0.39709457755088806, 0.12235353887081146, -0.5326316952705383, 0.0728737935423851, -0.4279949367046356, 0.10752438008785248, -0.2122880518436432, 0.3062826693058014, -0.3909720778465271, 0.24019314348697662, 0.3196199834346771, -0.048032764345407486, -0.10767010599374771, 0.11463218927383423, 0.37445491552352905, 0.2213044911623001, -0.4506460726261139, -0.1795753687620163, 0.043172527104616165, -0.2823910117149353, -0.08550899475812912, 0.2505896985530853, -0.47355881333351135, 0.09703045338392258, 0.33985188603401184, 0.4039331376552582, 0.015220977365970612, -0.07776793092489243, 0.09016729146242142, -1.7122623920440674, -0.5695568323135376, -0.2003609985113144, 0.0015665431274101138, -0.15471474826335907, -0.26689109206199646, 0.1348176896572113, 0.45550933480262756, -0.5783207416534424, -0.010278594680130482, -0.4652845561504364, -0.03565366938710213, -0.39321407675743103, -0.4898584485054016, -0.13109026849269867, -0.3832022547721863, -0.1740923672914505, -0.18417136371135712, -0.11517427116632462, 0.2920812964439392, 0.23129327595233917, -0.5257647633552551, -0.033611491322517395, 0.4294915795326233, -0.12373272329568863, -0.4619719386100769, -0.4311687648296356, -0.36008650064468384, 0.06464387476444244, -0.1230369508266449, -0.6080560088157654, 0.04100381210446358, -0.004557549953460693, 0.505574643611908, 0.030270177870988846, 0.3387834131717682, -0.2276046723127365, -0.4140380322933197, -0.16974212229251862, -0.055638037621974945, -0.16554789245128632, -0.1212744191288948, -0.08165151625871658, 0.07144159078598022, 0.5930418372154236, -0.4786057770252228, -0.060580573976039886, 0.6848408579826355, 0.3560280501842499, 0.6597211360931396, 0.18818087875843048, -0.055543046444654465, 0.48870664834976196, -5.094515800476074, 0.006857174448668957, -0.252732515335083, -0.23358431458473206, -0.2255786657333374, 0.045872561633586884, 0.17315004765987396, -0.28919926285743713, -0.4943554103374481, 0.013181895948946476, -0.12915565073490143, -0.6540234088897705, 0.1310339868068695, -0.10134293138980865, -2.137899398803711, -0.09268918633460999, -0.7535412907600403, -0.21583394706249237, 0.5223878026008606, -0.1176396980881691, 0.043187469244003296, -0.038132838904857635, 0.05510304868221283, 0.1064709722995758, 0.05204250290989876, -0.6942917108535767, -0.01504147332161665, -0.698045551776886, -0.2656598389148712, -0.06009598448872566, -0.2579845190048218, -0.03286305069923401, 0.11749714612960815, 0.011785099282860756, -0.13355125486850739, 0.6466132998466492, -0.21183326840400696, -0.49344223737716675, 0.4203723669052124, -0.15052063763141632, 0.48070862889289856, 0.8670714497566223, 0.017941026017069817, 0.26167839765548706, -0.18525098264217377, -0.107825867831707, 0.18702009320259094, -0.3051484227180481, 0.6719587445259094, -0.2842842936515808, -0.1164262667298317, 0.0047185225412249565, -0.08782545477151871, 0.04256382957100868, -0.4379037320613861, 0.8877813220024109, 0.1701650470495224, -0.007508393377065659, 0.2534373104572296, -0.42398619651794434, 0.44834455847740173, 0.21440079808235168, 0.1863880306482315, -0.11773468554019928, -0.5212341547012329, -0.2147352546453476, 0.16346992552280426, 0.40062206983566284, 0.0007900581113062799, -0.28114596009254456, 0.3896040618419647, -0.12952715158462524, 1.0828934907913208, -0.14238056540489197, -0.6252235770225525, -0.026783334091305733, -0.21088245511054993, 0.1301586627960205, 0.23812654614448547, -0.1348714679479599, -0.03733329847455025, -0.21171897649765015, 0.396982878446579, 0.07225955277681351, -0.32944726943969727, 0.45785462856292725, 0.27325841784477234, 0.4432847499847412, -0.09812523424625397, -0.30239182710647583, -0.08170868456363678, 0.007308822125196457, 0.1903846114873886, -0.35302722454071045, -0.0629936158657074, 0.08703601360321045, 0.44230061769485474, -0.015279478393495083, 0.010115194134414196, -0.050385430455207825, 0.1612814962863922, 0.0516156442463398, -0.16851381957530975, 0.40066102147102356, 0.19130702316761017, 0.22998331487178802, -0.06646036356687546, 0.22977164387702942, -0.097978875041008, -0.047633297741413116, 0.020634841173887253, 0.0832405611872673, -0.5604870319366455, -0.3543276786804199, -0.411571204662323, -0.16667944192886353, -0.00011395967158023268, 0.2752057611942291, -0.21548239886760712, -0.3973105251789093, -0.032989468425512314, 0.0776033028960228, 0.15662896633148193, -0.4439381957054138, 0.19230212271213531, 0.36447203159332275, -0.019589418545365334, -0.26287972927093506, 0.41338562965393066, -0.08546117693185806, 0.2691667377948761, 0.20002548396587372, 0.1789884716272354, 0.007120246533304453, 0.22458405792713165, 0.18625301122665405, -0.24333229660987854, 0.06303449720144272, -0.044515788555145264, 0.07395369559526443, -0.2038908302783966, -0.05858875811100006, 0.033503130078315735, -0.677876889705658, 0.2543351948261261, -0.39027997851371765, -0.1074221134185791, -0.45993730425834656, 0.20799489319324493, -0.13569556176662445, 0.022314153611660004, 0.4435262084007263, -0.12045165151357651, 0.4864114820957184, 0.5190744996070862, 0.5643095374107361, 0.2788126766681671, -0.025266265496611595, -0.13304057717323303, -0.5482262969017029, -0.17902900278568268, 0.2622135877609253, 0.3010718822479248, -0.2090579718351364, -0.48589909076690674, 0.028250891715288162, -0.980660080909729, -0.3110559582710266, -0.04325416684150696, -0.5331146121025085, -0.45070508122444153, 0.8882622122764587, 0.0671837255358696, 0.337367445230484, -0.16480886936187744, -0.23161904513835907, 0.13355375826358795, 0.0859808549284935, -0.6210508346557617, 0.4845718741416931, -0.3825220465660095, -0.38444340229034424, -0.21348460018634796, -0.26685264706611633, 0.015988243743777275, -0.3607364594936371, 0.4210045635700226, -0.1979123055934906, 0.011215048842132092, -0.14863210916519165, -0.36783459782600403, -0.23991219699382782, 0.36052942276000977, 0.2787801921367645, -0.41078856587409973, -0.4328702688217163, 0.09182465076446533, -0.33144956827163696, 0.18434207141399384, 0.09698852151632309, 0.2781588137149811, -0.42713549733161926, 0.2715064585208893, 0.23046284914016724, -0.524770975112915, 0.23239916563034058, 0.3272208571434021, -0.1830945611000061, 0.5990896224975586, -0.26955440640449524, -0.5011470913887024, 0.37366610765457153, -0.31058093905448914, -0.1489005833864212, -0.32961180806159973, -0.3542027175426483, 0.21794643998146057, -0.1827719360589981, -0.5302051305770874, -0.29963481426239014, 0.8671371936798096, 0.8560718297958374, -0.3444381356239319, 0.06897195428609848, -0.42174211144447327, -0.026656312867999077, -0.2021160125732422, -0.16662517189979553, 0.35296115279197693, 0.16489514708518982, 0.03997918218374252, -0.10247575491666794, -0.25210368633270264, 0.5386056900024414, 0.05329655110836029, -0.4063810408115387, 0.2656438946723938, 0.10859662294387817, -0.12131798267364502, 0.5332548022270203, -0.27699172496795654, -0.4142412841320038, 0.1452149599790573, 0.012961313128471375, 0.007250371854752302, 0.28639671206474304, -0.03126608952879906, -0.4539870321750641, 0.17164355516433716, -0.08676920086145401, 0.02462591417133808, 0.08502498269081116, -0.33954861760139465, -0.18061409890651703, 0.32080498337745667, 0.2929714024066925, 0.6208112835884094, 0.030024372041225433, 0.12376920878887177, -0.3682209253311157, -0.06282767653465271, 0.2813257575035095, 0.48524415493011475, -0.44312238693237305, -0.17462562024593353, -0.5214520692825317, -0.015176212415099144, 0.046664759516716, 0.4342186152935028, 0.16657453775405884, 0.2978144884109497, -0.10433182865381241, -0.9043055176734924, 0.13232718408107758, -0.3708934485912323, -0.16555844247341156, 0.5733270645141602, 0.266212522983551, -0.04578457400202751, -0.17108632624149323, 0.42707809805870056, -0.37806108593940735, -0.17662082612514496, -0.292582243680954, -0.7288830280303955, 0.04659460112452507, -0.6588612198829651, -0.07179588079452515, -0.5954412817955017, -0.05952721834182739, -0.07399454712867737, -0.3999328911304474, 0.25675660371780396, -0.2669817805290222, -0.2281368225812912, -0.28153762221336365, -0.2692066431045532, 0.2611432671546936, 0.45016762614250183, 0.015095775946974754, 0.35862529277801514, -0.6891672611236572, 0.013968001119792461, -0.20993156731128693, -0.31985214352607727, 0.07829908281564713, -0.1206241324543953, -0.20867495238780975, 0.4495944082736969, 0.021394897252321243, -0.014070909470319748, -0.2942025065422058, -0.3852868974208832, 0.3193228542804718, -0.03669556602835655, -0.04619431868195534, 0.362432599067688, -0.22051718831062317, 0.06267384439706802, 0.2662515938282013, -0.17264080047607422, -0.38866299390792847, 0.2306661605834961, 0.21317759156227112, -0.3739623427391052, 0.008744901977479458, 0.15817667543888092, 0.016932860016822815, -0.07161937654018402, 0.039161305874586105, -0.24860879778862, 0.015152262523770332, 0.04723760113120079, -0.35203030705451965, 0.5454096794128418, -0.4727683961391449, -1.3030810356140137, -0.12271450459957123, 0.5096918940544128, 0.17261990904808044, -0.19873353838920593, -0.41239485144615173, -0.3527434468269348, 0.013934632763266563, -0.07070200890302658, 0.4191605746746063, -0.15362513065338135, -0.13833196461200714, 0.3012048602104187, 0.505365252494812, 0.23413297533988953, 0.19831427931785583, -0.6452564597129822, 0.12497735023498535, 0.02543361857533455, -0.1849474310874939, 0.14560115337371826, -0.13312885165214539, -0.27915695309638977, 0.05671947821974754, -0.08197478204965591, -0.044714201241731644, 0.15771305561065674, 0.05221269279718399, -0.15329033136367798, 0.08102254569530487, 0.17665497958660126, 0.3258535861968994, -0.14332085847854614, -0.07871241122484207, -0.258791983127594, 0.04145267978310585, -0.006314544472843409, 0.056934650987386703, 0.12557479739189148, 0.10398422926664352, -0.6758227944374084, 0.15701840817928314, -0.2033507376909256, 0.3266089856624603, -0.1757410764694214, -0.665083110332489, 0.10635249316692352, -0.10670541971921921, 0.17838898301124573, 0.0974700078368187, -0.21280726790428162, 0.06928359717130661, -0.15541300177574158, -0.2648026645183563, -0.09049654752016068, 0.5587863922119141, -0.015324719250202179, 0.052965197712183, 0.0047040157951414585, -0.47838371992111206, 0.17968083918094635, -0.25301826000213623, 0.4513392150402069, -0.36736544966697693, 0.21094663441181183, -0.3252830505371094, 0.22621780633926392, -0.045087799429893494, -0.2873852252960205, -0.0457763597369194, 0.40449485182762146, 0.223373681306839, -0.49388960003852844, 0.4594891667366028, -0.05402242764830589, -0.09136875718832016, 0.2767234146595001, 0.15609782934188843, -0.29498571157455444, 0.25471752882003784, -0.49406898021698, 0.7287560105323792, -0.0007444405928254128, 0.9594348073005676], metadata={'file_path': '/content/mixed_data/frame0038.png', 'file_name': 'frame0038.png', 'file_type': 'image/png', 'file_size': 76762, 'creation_date': '2024-04-14', 'last_modified_date': '2024-04-14'}, excluded_embed_metadata_keys=['file_name', 'file_type', 'file_size', 'creation_date', 'last_modified_date', 'last_accessed_date'], excluded_llm_metadata_keys=['file_name', 'file_type', 'file_size', 'creation_date', 'last_modified_date', 'last_accessed_date'], relationships={<NodeRelationship.SOURCE: '1'>: RelatedNodeInfo(node_id='4e7a6455-6741-418b-8e89-174d2830628a', node_type=<ObjectType.DOCUMENT: '4'>, metadata={'file_path': '/content/mixed_data/frame0038.png', 'file_name': 'frame0038.png', 'file_type': 'image/png', 'file_size': 76762, 'creation_date': '2024-04-14', 'last_modified_date': '2024-04-14'}, hash='b95001782da030d538d701124fd0acf9ad5f520f54896747ef25a8201dfdfc18'), <NodeRelationship.PREVIOUS: '2'>: RelatedNodeInfo(node_id='5f8e8295-b2aa-46f6-a065-f342cb061d79', node_type=<ObjectType.IMAGE: '2'>, metadata={'file_path': '/content/mixed_data/frame0037.png', 'file_name': 'frame0037.png', 'file_type': 'image/png', 'file_size': 79921, 'creation_date': '2024-04-14', 'last_modified_date': '2024-04-14'}, hash='045a5d042e6e5f8b22c983c9374efe4f05f5989e23fb87d6c8cd7d26a3da005f'), <NodeRelationship.NEXT: '3'>: RelatedNodeInfo(node_id='fb68826d-b791-4e62-b9f7-df76f651f895', node_type=<ObjectType.IMAGE: '2'>, metadata={}, hash='44136fa355b3678a1146ad16f7e8649e94fb4fc21fe77e8310c060f61caaff8a')}, text='', start_char_idx=0, end_char_idx=0, text_template='{metadata_str}\\n\\n{content}', metadata_template='{key}: {value}', metadata_seperator='\\n', image=None, image_path='/content/mixed_data/frame0038.png', image_url=None, image_mimetype=None, text_embedding=None), score=0.0),\n",
              " NodeWithScore(node=ImageNode(id_='5c763491-7c8a-4647-b3c7-af0e00d645cf', embedding=[0.07558669149875641, -0.5877069234848022, -0.25143957138061523, -0.16766171157360077, -0.3656933307647705, -0.03674409165978432, 0.07449839264154434, 0.4462503492832184, 0.4763043522834778, 0.07221032679080963, -0.044912517070770264, 0.03173017129302025, -0.8875839710235596, -0.2565382122993469, -0.0757238045334816, 0.0995354950428009, -0.03283596411347389, -0.06127338856458664, -0.06783189624547958, -0.09885387867689133, 0.025049474090337753, -0.03969360142946243, -0.09423929452896118, -0.20815210044384003, -0.0865703895688057, 0.44932639598846436, -0.4608798921108246, -0.3952593207359314, 0.22679011523723602, -0.5040758848190308, 0.3464505970478058, -0.2808902859687805, -0.2682584822177887, 0.1547047346830368, 0.658616840839386, 0.464628130197525, 0.0735723003745079, -0.015807606279850006, -0.1533648818731308, -1.0431461334228516, -0.07465413957834244, 0.11834456026554108, -0.28523707389831543, -0.04805910587310791, -0.022777359932661057, -0.10765407979488373, 0.39129307866096497, 0.18320190906524658, -0.2681088149547577, -0.1709814816713333, 0.11523949354887009, -0.11724807322025299, 0.0021322823595255613, -0.1662122756242752, -0.21290726959705353, -0.11563797295093536, -0.4188888967037201, 0.392474889755249, -0.16378253698349, 0.6383143663406372, 0.45541638135910034, -0.35401299595832825, -0.17934618890285492, 0.3906894624233246, 0.31596896052360535, -0.07205670326948166, -0.5683424472808838, 0.6227649450302124, 0.1068931370973587, -0.19132980704307556, -0.3685586154460907, -0.3176381289958954, 0.0005273378337733448, 0.11043684929609299, -0.0005677654407918453, -0.46219882369041443, 0.46310684084892273, -0.8370378613471985, -0.09722008556127548, -0.34354597330093384, -0.12515324354171753, -0.3387616276741028, 0.15757764875888824, 1.147782325744629, 0.033352963626384735, -0.1574917584657669, 0.9913436770439148, -0.17646893858909607, 0.2322770357131958, -0.007017390802502632, -0.4664144217967987, 0.3041812777519226, -5.738879203796387, 0.25111788511276245, 0.11128579825162888, -0.11049020290374756, 0.2681244909763336, -0.307691752910614, 0.2810952365398407, -0.1989949494600296, -0.3995450735092163, 0.05701204016804695, -0.08807633817195892, -0.04820466786623001, 0.16833381354808807, -0.2497265487909317, -2.4906973838806152, 0.07436690479516983, -0.054272864013910294, 0.183761864900589, 0.13634464144706726, -0.2858014702796936, -0.20864781737327576, -0.27917447686195374, -0.03623034432530403, -0.10838092863559723, -0.7182034850120544, -0.7276398539543152, 0.4179063141345978, -0.28252676129341125, -0.10686104744672775, 0.26849445700645447, -0.2119472622871399, 0.34250062704086304, 0.18083392083644867, 0.11865539103746414, -0.2636873126029968, -0.08638115972280502, 0.08517042547464371, -0.014024346135556698, 0.3347962200641632, 0.22850222885608673, -0.018825003877282143, 0.8212255835533142, -0.08799296617507935, -0.2355349063873291, -0.24559526145458221, -0.3785238564014435, -0.05410349369049072, -0.14844834804534912, 0.41632509231567383, -0.2862766981124878, -0.5522991418838501, 0.20877127349376678, -0.3900410234928131, 0.35625022649765015, -0.25719133019447327, 0.6648204922676086, 0.29314908385276794, -0.14474499225616455, 0.11725594103336334, 0.37349215149879456, -0.08171107620000839, -0.24642670154571533, 0.5918799638748169, -0.5673878192901611, -0.3237663209438324, 0.16411440074443817, 0.5252746343612671, 0.04511599242687225, 0.3128296434879303, 0.1691589206457138, 0.03256719186902046, -0.007633666507899761, 0.5190586447715759, -0.3571149706840515, -0.7933828830718994, -0.11844702810049057, -0.37619882822036743, -0.09366507083177567, -0.34843701124191284, 0.12486691772937775, -0.342861533164978, 0.34501105546951294, -0.24181385338306427, -0.07533346116542816, -0.6340242624282837, 0.040711142122745514, 0.5752660036087036, 0.5849146842956543, -0.1282384693622589, -0.22549885511398315, -0.3920285105705261, -0.2895965278148651, 0.28215861320495605, -0.37500837445259094, 0.7902969717979431, 0.1766216903924942, 0.22110430896282196, 0.36520853638648987, 0.2077564299106598, 0.23909682035446167, -0.3486633002758026, 0.3911139965057373, -0.7070932984352112, -0.12409447878599167, 0.18179446458816528, 0.5529912710189819, 0.24741525948047638, 0.29710984230041504, 0.32541394233703613, -0.011243127286434174, 0.12112664431333542, -0.03043340891599655, -0.20900863409042358, 0.15464062988758087, 0.09879570454359055, 0.24656330049037933, 0.043885793536901474, -0.025766808539628983, 0.12351222336292267, 0.49769678711891174, 0.15728600323200226, -0.23901130259037018, -0.12998917698860168, 0.15321213006973267, 0.4266524910926819, 0.20432418584823608, -0.46145665645599365, -0.031373389065265656, 0.5549786686897278, -0.037426382303237915, -0.027375994250178337, 0.029313964769244194, -0.15169991552829742, -0.43051615357398987, -0.4019957482814789, -0.39028987288475037, 0.09663291275501251, 0.31318017840385437, -0.21108467876911163, -0.22352758049964905, -0.3089250326156616, -0.3827451467514038, -0.311935156583786, -0.5473741888999939, 0.30151450634002686, -0.49121785163879395, -0.21243473887443542, -0.21832513809204102, 0.06773844361305237, 0.3566540479660034, -0.09011577814817429, 0.10629713535308838, -0.4837035834789276, 0.16702529788017273, 0.6075639128684998, 0.24099193513393402, 0.34242692589759827, 0.05676821619272232, 0.054219525307416916, -0.16795586049556732, 0.29642587900161743, -0.0597977377474308, -0.4874943494796753, 0.10838891565799713, -0.35117852687835693, -0.3103647828102112, -0.23457050323486328, -0.4788329303264618, -0.11988234519958496, -0.10497770458459854, -0.06526238471269608, 1.3026949167251587, -0.024293269962072372, 0.03220955654978752, -0.19168376922607422, -0.1716432273387909, 0.32713425159454346, 0.29483139514923096, -0.2506342828273773, 0.2715325355529785, 0.11271589994430542, 0.1544876992702484, -0.18027085065841675, 0.029935598373413086, -0.048472631722688675, 0.3848535716533661, 0.41152456402778625, -0.37411242723464966, 0.4383555054664612, -0.07941947132349014, -0.28745806217193604, -0.05282336845993996, 0.11971331387758255, 0.347639799118042, -0.3789130747318268, -0.2333817332983017, -0.20146682858467102, -0.1270504593849182, 0.2576369345188141, 0.1732405126094818, -0.09786973893642426, -0.1527908444404602, 0.027624184265732765, 0.7467402815818787, -0.4658716022968292, -0.048617731779813766, -0.23179969191551208, 0.1293659806251526, -0.17811372876167297, -0.5067844390869141, -0.4187573492527008, 0.20912142097949982, 0.30135685205459595, 0.052100248634815216, 0.06585915386676788, 0.21777428686618805, 0.30178993940353394, 0.35008224844932556, -0.45354270935058594, 0.49936607480049133, 0.8221521377563477, 0.7541189789772034, -0.12787380814552307, 0.12838153541088104, 0.07922554016113281, -0.0029293056577444077, -0.027303757146000862, -0.08141220360994339, 0.7710558772087097, 0.03199724107980728, -0.5513368844985962, -0.26734212040901184, -0.354286253452301, 0.024928828701376915, -0.06516746431589127, -0.21465104818344116, 0.1649300456047058, 0.09163203090429306, 0.02295081317424774, -0.02853090688586235, 0.22635482251644135, -0.1340506672859192, -0.35563814640045166, -0.1432068943977356, -0.4277285039424896, -0.1517535150051117, 0.32379090785980225, 0.4412756860256195, -0.017024226486682892, -0.17405463755130768, 0.27443042397499084, -0.14235584437847137, 0.15328480303287506, -0.1553436815738678, -0.3330950438976288, 0.05250879004597664, 0.13415242731571198, -0.20650121569633484, 0.2295282930135727, 0.3139132261276245, 0.24324417114257812, -0.2550159990787506, -0.3449491262435913, -0.2844601571559906, 0.3384638726711273, -0.9523681998252869, -0.1816803365945816, 0.14256277680397034, -0.14672885835170746, -0.1948913037776947, 0.23416993021965027, -0.400045782327652, -1.0703495740890503, -0.11420773714780807, -0.009042998775839806, 0.23196054995059967, 0.3900611400604248, 0.29379570484161377, 0.25804463028907776, -0.5276424884796143, 0.2909039855003357, 0.5267514586448669, 0.07855118066072464, -0.12063944339752197, -0.584303081035614, 0.21002937853336334, -0.08723755180835724, -0.13546840846538544, -0.6387442350387573, -0.61353600025177, -0.4641757309436798, -0.5306180715560913, 0.21595780551433563, 0.6266986131668091, -0.02472856640815735, -0.37882426381111145, 0.006027563940733671, 0.5172346830368042, -0.4049473702907562, 0.14203663170337677, 0.09600797295570374, -0.6429269909858704, 0.015479356050491333, 0.011554749682545662, -0.02409391663968563, -0.24746623635292053, -0.3020234704017639, -0.18091899156570435, -0.08939501643180847, 0.16927450895309448, 0.2394917607307434, -0.2180129885673523, -0.3850535750389099, -0.24889354407787323, -0.16266381740570068, 0.06336136907339096, 0.9708890318870544, -0.07917995005846024, -0.2572089433670044, -0.08615746349096298, 0.39621660113334656, -0.3439677655696869, -0.2989196181297302, 0.1732643097639084, -0.7853161692619324, -0.17526650428771973, 0.14309196174144745, -0.4467143416404724, 0.48245954513549805, -0.8009531497955322, -0.019381435588002205, -0.35827571153640747, 0.324282169342041, -0.12931989133358002, -0.588263988494873, -0.3069818317890167, -1.7403500080108643, 0.04489268362522125, 0.34703025221824646, -0.22839635610580444, -0.47118160128593445, 0.22214367985725403, -0.4652104079723358, -0.14779134094715118, -0.11129342764616013, -0.11551118642091751, 0.24935592710971832, -0.23590241372585297, -0.09101627767086029, 0.07620804756879807, -0.301578164100647, -0.11021699756383896, -0.07004594802856445, -0.19924373924732208, 0.39703184366226196, -0.3304183781147003, -0.33015531301498413, -0.10401394218206406, 0.17756813764572144, -0.10574418306350708, -0.22594508528709412, -0.5343523621559143, 0.5355134606361389, 0.18672485649585724, -0.16435270011425018, 0.0625520572066307, -0.2205893099308014, 0.25866636633872986, 0.20864304900169373, -0.12613517045974731, -0.1573769748210907, -0.20208840072155, 0.009407882578670979, 0.5225833058357239, 0.1045219898223877, -0.11019141972064972, 0.2557053864002228, 0.3279626965522766, -0.33915984630584717, 0.2641753852367401, -0.04633137956261635, -0.03070935048162937, -0.09449074417352676, -0.2178966999053955, 0.25952813029289246, -0.39631155133247375, 0.2101447433233261, -0.2922707796096802, 0.0808674544095993, 0.14957065880298615, -0.1272282600402832, 0.48896029591560364, 0.23743733763694763, -0.1611694097518921, -0.22980070114135742, 0.030518537387251854, 0.019379492849111557, -0.33087852597236633, 0.4047049880027771, -0.005925938952714205, 0.28428059816360474, -0.4722548723220825, 0.05633092299103737, -0.05798470973968506, -0.15716883540153503, -0.4095165729522705, 0.059498775750398636, 0.207026407122612, -0.8205531239509583, -0.19301506876945496, -0.0794900506734848, -0.06297267228364944, -0.256194531917572, -0.010429668240249157, -0.19129541516304016, 0.22363431751728058, -0.3506901264190674, 1.1470106840133667, 0.26198622584342957, 0.10604915022850037], metadata={'file_path': '/content/mixed_data/frame0028.png', 'file_name': 'frame0028.png', 'file_type': 'image/png', 'file_size': 65903, 'creation_date': '2024-04-14', 'last_modified_date': '2024-04-14'}, excluded_embed_metadata_keys=['file_name', 'file_type', 'file_size', 'creation_date', 'last_modified_date', 'last_accessed_date'], excluded_llm_metadata_keys=['file_name', 'file_type', 'file_size', 'creation_date', 'last_modified_date', 'last_accessed_date'], relationships={<NodeRelationship.SOURCE: '1'>: RelatedNodeInfo(node_id='c56af4a3-6c73-4b25-9af9-cf0cd2b3319c', node_type=<ObjectType.DOCUMENT: '4'>, metadata={'file_path': '/content/mixed_data/frame0028.png', 'file_name': 'frame0028.png', 'file_type': 'image/png', 'file_size': 65903, 'creation_date': '2024-04-14', 'last_modified_date': '2024-04-14'}, hash='424a336f4fd7215216cbfe0193b47e857019800b3d6177fc82db03c693bd9075'), <NodeRelationship.PREVIOUS: '2'>: RelatedNodeInfo(node_id='8e24161c-378d-4745-a036-df9a4864b174', node_type=<ObjectType.IMAGE: '2'>, metadata={'file_path': '/content/mixed_data/frame0027.png', 'file_name': 'frame0027.png', 'file_type': 'image/png', 'file_size': 70238, 'creation_date': '2024-04-14', 'last_modified_date': '2024-04-14'}, hash='e05d3e8a0a0484b295e3ae7df720783905ed00558307c7a03c944420e0ce9915'), <NodeRelationship.NEXT: '3'>: RelatedNodeInfo(node_id='92a74c63-dcd5-41f5-b9d3-5638dee3196b', node_type=<ObjectType.IMAGE: '2'>, metadata={}, hash='44136fa355b3678a1146ad16f7e8649e94fb4fc21fe77e8310c060f61caaff8a')}, text='', start_char_idx=0, end_char_idx=0, text_template='{metadata_str}\\n\\n{content}', metadata_template='{key}: {value}', metadata_seperator='\\n', image=None, image_path='/content/mixed_data/frame0028.png', image_url=None, image_mimetype=None, text_embedding=None), score=0.0)]"
            ]
          },
          "metadata": {},
          "execution_count": 79
        }
      ]
    },
    {
      "cell_type": "code",
      "source": [
        "retrieved_image=[]\n",
        "retrieved_text=[]"
      ],
      "metadata": {
        "id": "hUTlFNymrPog"
      },
      "execution_count": 80,
      "outputs": []
    },
    {
      "cell_type": "code",
      "source": [
        "for res_node in retrieval_results2:\n",
        "  if isinstance(res_node.node,ImageNode):\n",
        "    retrieved_image.append(res_node.node.metadata[\"file_path\"])\n",
        "  else:\n",
        "     display_source_node(res_node, source_length=200)\n",
        "     retrieved_text.append(res_node.text)"
      ],
      "metadata": {
        "colab": {
          "base_uri": "https://localhost:8080/",
          "height": 119
        },
        "id": "El3emZC3rcLQ",
        "outputId": "899558d7-8435-49c6-be84-4f43e8158707"
      },
      "execution_count": 81,
      "outputs": [
        {
          "output_type": "display_data",
          "data": {
            "text/plain": [
              "<IPython.core.display.Markdown object>"
            ],
            "text/markdown": "**Node ID:** 2d97b645-ed94-45be-8c3b-6edbebfa27ea<br>**Similarity:** 0.7384580969810486<br>**Text:** Lanyard regression is a statistical technique for modeling the relationship between an output variable and one or more input variables. In layman's terms, think of it as fitting a line through some...<br>"
          },
          "metadata": {}
        }
      ]
    },
    {
      "cell_type": "code",
      "source": [
        "retrieved_image"
      ],
      "metadata": {
        "colab": {
          "base_uri": "https://localhost:8080/"
        },
        "id": "Dz9Mj3X7rtbL",
        "outputId": "454b9acc-d2f8-4eee-d1ae-8ca9beabb084"
      },
      "execution_count": 82,
      "outputs": [
        {
          "output_type": "execute_result",
          "data": {
            "text/plain": [
              "['/content/mixed_data/frame0003.png',\n",
              " '/content/mixed_data/frame0038.png',\n",
              " '/content/mixed_data/frame0028.png']"
            ]
          },
          "metadata": {},
          "execution_count": 82
        }
      ]
    },
    {
      "cell_type": "code",
      "source": [
        "retrieved_text"
      ],
      "metadata": {
        "colab": {
          "base_uri": "https://localhost:8080/"
        },
        "id": "ZZ1JkZpwr2eW",
        "outputId": "e54774bb-37b0-41bd-a78f-4b31fbf93621"
      },
      "execution_count": 83,
      "outputs": [
        {
          "output_type": "execute_result",
          "data": {
            "text/plain": [
              "[\"Lanyard regression is a statistical technique for modeling the relationship between an output variable and one or more input variables. In layman's terms, think of it as fitting a line through some data points as shown here, so you can make predictions on unknown data, assuming there is a linear relationship between the variables. You might be familiar with the linear function y equals mx plus b, where y is the output variable, also called the dependent variable. You may also see expressed as f of x, the function of the input variable. x on the other hand, would serve as the input variable, also called the independent variable. It's likely you'll see the coefficients m and b expressed as beta 1 and beta 0 respectively. So what do the m and b coefficients do? The m or beta 1 coefficient controls the slope of the line. The b or the beta 0 controls the intercept of the line. In machine learning, we also know it as the bias. These two coefficients are what we are solving for in linear regression. We can also extend to multiple input variables, so x1, x2, x3, with beta 1, beta 2, and beta 3, and so on, acting as slopes for each of those variables. In these higher dimensions, you would visualize the linear regression as a hyperplane. So how do we fit the line to these points? Well, you'll notice that there's these differences between the points and the line, these little red segments, these are called residuals. They are the differences between the data points and the predictions the line would produce. Take each of these residuals and square them. These are the squared errors, and notice that the large of the residuals are, the more amplified area of the squares are. If we total the areas of all of these squares for a given line, we will get the sum of the squared error, and this is known as our loss function. We need to find the beta 0 and beta 1 coefficients that will minimize that sum of squared error. The coefficients can be solved with a variety of techniques ranging from matrix decomposition to gradient descent, which is depicted right here. Thankfully, a lot of libraries are available to do this for us, and we will deep dive into these topics in other videos. To validate a linear regression, there are a number of techniques. Machine learning practitioners will often take a third of the data and put it into the test data set. The remaining two thirds will become the training data set. The training data set will then be used to fit the regression line. The test data set will then be used to validate the regression line. This is done to make sure that the regression performs well on data it has not seen before. The tricks used to evaluate the linear regression vary from the R square, standard error of the estimate, prediction intervals, as well as statistical significance. These are topics we will cover in future videos. If you enjoyed this video, please like and subscribe. Look at my two O'Reilly books, Essential Math for Data Science, and getting started with SQL. Chapter five of Essential Math for Data Science actually covers linear regression and much more depth. If you want live instruction, I also do teach on the O'Reilly platform. Promotional link below. I teach classes including machine learning from scratch, probability, and SQL. Comment on what topics you would like to see next, and I will see you again on 3 Minute Data Science.\"]"
            ]
          },
          "metadata": {},
          "execution_count": 83
        }
      ]
    },
    {
      "cell_type": "code",
      "source": [
        "query_str2"
      ],
      "metadata": {
        "colab": {
          "base_uri": "https://localhost:8080/",
          "height": 56
        },
        "id": "GSsWRHj2skxo",
        "outputId": "a8215d4a-ddfe-422c-f992-552a5832f7fd"
      },
      "execution_count": 84,
      "outputs": [
        {
          "output_type": "execute_result",
          "data": {
            "text/plain": [
              "'what is the equation for multiple linear regression?'"
            ],
            "application/vnd.google.colaboratory.intrinsic+json": {
              "type": "string"
            }
          },
          "metadata": {},
          "execution_count": 84
        }
      ]
    },
    {
      "cell_type": "code",
      "source": [
        "img, txt = retrieve(retriever_engine=retriever_engine, query_str=query_str2)"
      ],
      "metadata": {
        "colab": {
          "base_uri": "https://localhost:8080/",
          "height": 119
        },
        "id": "nMJfkL2br4W-",
        "outputId": "46890adc-eb80-443b-a759-27e7e7bcc80d"
      },
      "execution_count": 85,
      "outputs": [
        {
          "output_type": "display_data",
          "data": {
            "text/plain": [
              "<IPython.core.display.Markdown object>"
            ],
            "text/markdown": "**Node ID:** 2d97b645-ed94-45be-8c3b-6edbebfa27ea<br>**Similarity:** 0.7384580969810486<br>**Text:** Lanyard regression is a statistical technique for modeling the relationship between an output variable and one or more input variables. In layman's terms, think of it as fitting a line through some...<br>"
          },
          "metadata": {}
        }
      ]
    },
    {
      "cell_type": "code",
      "source": [
        "img"
      ],
      "metadata": {
        "colab": {
          "base_uri": "https://localhost:8080/"
        },
        "id": "i3fi_xvosmk_",
        "outputId": "33cb181e-52c8-43bf-c088-be56e29a0110"
      },
      "execution_count": 86,
      "outputs": [
        {
          "output_type": "execute_result",
          "data": {
            "text/plain": [
              "['/content/mixed_data/frame0003.png',\n",
              " '/content/mixed_data/frame0038.png',\n",
              " '/content/mixed_data/frame0028.png']"
            ]
          },
          "metadata": {},
          "execution_count": 86
        }
      ]
    },
    {
      "cell_type": "code",
      "source": [
        "image_documents = SimpleDirectoryReader(input_dir=output_folder, input_files=img).load_data()"
      ],
      "metadata": {
        "id": "BgJlC29XtCfO"
      },
      "execution_count": 87,
      "outputs": []
    },
    {
      "cell_type": "code",
      "source": [
        "image_documents2 = SimpleDirectoryReader(input_files=img).load_data()"
      ],
      "metadata": {
        "id": "hCpEcOk3tLq2"
      },
      "execution_count": 88,
      "outputs": []
    },
    {
      "cell_type": "code",
      "source": [
        "context_str = \"\".join(txt)"
      ],
      "metadata": {
        "id": "QpNgpYfVtSr4"
      },
      "execution_count": 89,
      "outputs": []
    },
    {
      "cell_type": "code",
      "source": [
        "context_str"
      ],
      "metadata": {
        "colab": {
          "base_uri": "https://localhost:8080/",
          "height": 194
        },
        "id": "c5t63nMHtYUP",
        "outputId": "68c729e4-f98d-48d4-b8a9-55349e765a95"
      },
      "execution_count": 90,
      "outputs": [
        {
          "output_type": "execute_result",
          "data": {
            "text/plain": [
              "\"Lanyard regression is a statistical technique for modeling the relationship between an output variable and one or more input variables. In layman's terms, think of it as fitting a line through some data points as shown here, so you can make predictions on unknown data, assuming there is a linear relationship between the variables. You might be familiar with the linear function y equals mx plus b, where y is the output variable, also called the dependent variable. You may also see expressed as f of x, the function of the input variable. x on the other hand, would serve as the input variable, also called the independent variable. It's likely you'll see the coefficients m and b expressed as beta 1 and beta 0 respectively. So what do the m and b coefficients do? The m or beta 1 coefficient controls the slope of the line. The b or the beta 0 controls the intercept of the line. In machine learning, we also know it as the bias. These two coefficients are what we are solving for in linear regression. We can also extend to multiple input variables, so x1, x2, x3, with beta 1, beta 2, and beta 3, and so on, acting as slopes for each of those variables. In these higher dimensions, you would visualize the linear regression as a hyperplane. So how do we fit the line to these points? Well, you'll notice that there's these differences between the points and the line, these little red segments, these are called residuals. They are the differences between the data points and the predictions the line would produce. Take each of these residuals and square them. These are the squared errors, and notice that the large of the residuals are, the more amplified area of the squares are. If we total the areas of all of these squares for a given line, we will get the sum of the squared error, and this is known as our loss function. We need to find the beta 0 and beta 1 coefficients that will minimize that sum of squared error. The coefficients can be solved with a variety of techniques ranging from matrix decomposition to gradient descent, which is depicted right here. Thankfully, a lot of libraries are available to do this for us, and we will deep dive into these topics in other videos. To validate a linear regression, there are a number of techniques. Machine learning practitioners will often take a third of the data and put it into the test data set. The remaining two thirds will become the training data set. The training data set will then be used to fit the regression line. The test data set will then be used to validate the regression line. This is done to make sure that the regression performs well on data it has not seen before. The tricks used to evaluate the linear regression vary from the R square, standard error of the estimate, prediction intervals, as well as statistical significance. These are topics we will cover in future videos. If you enjoyed this video, please like and subscribe. Look at my two O'Reilly books, Essential Math for Data Science, and getting started with SQL. Chapter five of Essential Math for Data Science actually covers linear regression and much more depth. If you want live instruction, I also do teach on the O'Reilly platform. Promotional link below. I teach classes including machine learning from scratch, probability, and SQL. Comment on what topics you would like to see next, and I will see you again on 3 Minute Data Science.\""
            ],
            "application/vnd.google.colaboratory.intrinsic+json": {
              "type": "string"
            }
          },
          "metadata": {},
          "execution_count": 90
        }
      ]
    },
    {
      "cell_type": "code",
      "source": [
        "plot_images(img)"
      ],
      "metadata": {
        "colab": {
          "base_uri": "https://localhost:8080/",
          "height": 221
        },
        "id": "DcQXW08BttZs",
        "outputId": "2250ba96-4feb-4f64-fc33-3282a58a9242"
      },
      "execution_count": 91,
      "outputs": [
        {
          "output_type": "display_data",
          "data": {
            "text/plain": [
              "<Figure size 1600x900 with 3 Axes>"
            ],
            "image/png": "[encoded data removed]"
          },
          "metadata": {}
        }
      ]
    },
    {
      "cell_type": "code",
      "source": [
        "result = openai_mm_llm.complete(\n",
        "    prompt=qa_tmpl_str.format(\n",
        "        context_str=context_str,query_str=query_str2,metadata_str=metadata_str\n",
        "    ),\n",
        "    image_documents=image_documents,\n",
        ")"
      ],
      "metadata": {
        "id": "bkb3fxD7tu-o"
      },
      "execution_count": 93,
      "outputs": []
    },
    {
      "cell_type": "code",
      "source": [
        "pprint(result.text)"
      ],
      "metadata": {
        "colab": {
          "base_uri": "https://localhost:8080/"
        },
        "id": "ZTJC6IWCuEOx",
        "outputId": "60843878-7ab9-4f54-b1b4-a4dfd3d5dcaa"
      },
      "execution_count": 95,
      "outputs": [
        {
          "output_type": "stream",
          "name": "stdout",
          "text": [
            "('The equation for multiple linear regression, based on the provided context, '\n",
            " 'is an extension of the simple linear regression equation. It includes '\n",
            " 'multiple input variables (x1, x2, x3, ...) and their corresponding '\n",
            " 'coefficients (beta 1, beta 2, beta 3, ...). The general form of the equation '\n",
            " 'is:\\n'\n",
            " '\\n'\n",
            " 'y = beta_0 + beta_1 * x1 + beta_2 * x2 + beta_3 * x3 + ... + beta_n * xn\\n'\n",
            " '\\n'\n",
            " 'Here, y is the dependent variable (output), x1, x2, x3, ..., xn are the '\n",
            " 'independent variables (inputs), beta_1, beta_2, beta_3, ..., beta_n are the '\n",
            " 'coefficients that represent the slope of the regression line with respect to '\n",
            " 'each independent variable, and beta_0 is the intercept term, also known as '\n",
            " 'the bias in machine learning.')\n"
          ]
        }
      ]
    },
    {
      "cell_type": "markdown",
      "source": [
        "# Query 3"
      ],
      "metadata": {
        "id": "IaxXbLJtvFLM"
      }
    },
    {
      "cell_type": "code",
      "source": [
        "query_str3 = \"what is the O'Reilly platform?\""
      ],
      "metadata": {
        "id": "IqUe1W34uWIG"
      },
      "execution_count": 125,
      "outputs": []
    },
    {
      "cell_type": "code",
      "source": [
        "img, txt = retrieve(retriever_engine=retriever_engine, query_str=query_str3)"
      ],
      "metadata": {
        "colab": {
          "base_uri": "https://localhost:8080/",
          "height": 119
        },
        "id": "AnyFJUmTx_T_",
        "outputId": "6d492ecd-f144-44dd-9833-8e837195e315"
      },
      "execution_count": 126,
      "outputs": [
        {
          "output_type": "display_data",
          "data": {
            "text/plain": [
              "<IPython.core.display.Markdown object>"
            ],
            "text/markdown": "**Node ID:** 2d97b645-ed94-45be-8c3b-6edbebfa27ea<br>**Similarity:** 0.5603644251823425<br>**Text:** Lanyard regression is a statistical technique for modeling the relationship between an output variable and one or more input variables. In layman's terms, think of it as fitting a line through some...<br>"
          },
          "metadata": {}
        }
      ]
    },
    {
      "cell_type": "code",
      "source": [
        "context_str = \"\".join(txt)\n",
        "print(context_str)"
      ],
      "metadata": {
        "colab": {
          "base_uri": "https://localhost:8080/"
        },
        "id": "rmhFIsnJzCMt",
        "outputId": "976151fc-05aa-48b2-bd8b-face75411544"
      },
      "execution_count": 127,
      "outputs": [
        {
          "output_type": "stream",
          "name": "stdout",
          "text": [
            "Lanyard regression is a statistical technique for modeling the relationship between an output variable and one or more input variables. In layman's terms, think of it as fitting a line through some data points as shown here, so you can make predictions on unknown data, assuming there is a linear relationship between the variables. You might be familiar with the linear function y equals mx plus b, where y is the output variable, also called the dependent variable. You may also see expressed as f of x, the function of the input variable. x on the other hand, would serve as the input variable, also called the independent variable. It's likely you'll see the coefficients m and b expressed as beta 1 and beta 0 respectively. So what do the m and b coefficients do? The m or beta 1 coefficient controls the slope of the line. The b or the beta 0 controls the intercept of the line. In machine learning, we also know it as the bias. These two coefficients are what we are solving for in linear regression. We can also extend to multiple input variables, so x1, x2, x3, with beta 1, beta 2, and beta 3, and so on, acting as slopes for each of those variables. In these higher dimensions, you would visualize the linear regression as a hyperplane. So how do we fit the line to these points? Well, you'll notice that there's these differences between the points and the line, these little red segments, these are called residuals. They are the differences between the data points and the predictions the line would produce. Take each of these residuals and square them. These are the squared errors, and notice that the large of the residuals are, the more amplified area of the squares are. If we total the areas of all of these squares for a given line, we will get the sum of the squared error, and this is known as our loss function. We need to find the beta 0 and beta 1 coefficients that will minimize that sum of squared error. The coefficients can be solved with a variety of techniques ranging from matrix decomposition to gradient descent, which is depicted right here. Thankfully, a lot of libraries are available to do this for us, and we will deep dive into these topics in other videos. To validate a linear regression, there are a number of techniques. Machine learning practitioners will often take a third of the data and put it into the test data set. The remaining two thirds will become the training data set. The training data set will then be used to fit the regression line. The test data set will then be used to validate the regression line. This is done to make sure that the regression performs well on data it has not seen before. The tricks used to evaluate the linear regression vary from the R square, standard error of the estimate, prediction intervals, as well as statistical significance. These are topics we will cover in future videos. If you enjoyed this video, please like and subscribe. Look at my two O'Reilly books, Essential Math for Data Science, and getting started with SQL. Chapter five of Essential Math for Data Science actually covers linear regression and much more depth. If you want live instruction, I also do teach on the O'Reilly platform. Promotional link below. I teach classes including machine learning from scratch, probability, and SQL. Comment on what topics you would like to see next, and I will see you again on 3 Minute Data Science.\n"
          ]
        }
      ]
    },
    {
      "cell_type": "code",
      "source": [
        "plot_images(img)"
      ],
      "metadata": {
        "colab": {
          "base_uri": "https://localhost:8080/",
          "height": 221
        },
        "id": "Ua1RJcGizVWm",
        "outputId": "c2eec329-5ee3-4843-d1cf-8736e76a7816"
      },
      "execution_count": 128,
      "outputs": [
        {
          "output_type": "display_data",
          "data": {
            "text/plain": [
              "<Figure size 1600x900 with 3 Axes>"
            ],
            "image/png": "[encoded data removed]"
          },
          "metadata": {}
        }
      ]
    },
    {
      "cell_type": "code",
      "source": [
        "image_documents = SimpleDirectoryReader(input_dir=output_folder, input_files=img).load_data()"
      ],
      "metadata": {
        "id": "VaYVj2_OwEd1"
      },
      "execution_count": 129,
      "outputs": []
    },
    {
      "cell_type": "code",
      "source": [
        "result3 = openai_mm_llm.complete(\n",
        "    prompt=qa_tmpl_str.format(\n",
        "        context_str=context_str,query_str=query_str3,metadata_str=metadata_str\n",
        "    ),\n",
        "    image_documents=image_documents,\n",
        ")"
      ],
      "metadata": {
        "id": "3JuHt1qzy2A0"
      },
      "execution_count": 133,
      "outputs": []
    },
    {
      "cell_type": "code",
      "source": [
        "pprint(result3.text)"
      ],
      "metadata": {
        "colab": {
          "base_uri": "https://localhost:8080/"
        },
        "id": "agxqEsUrwIQG",
        "outputId": "14dbdf66-23af-44d5-b2f5-a2f2ce1ccf6d"
      },
      "execution_count": 134,
      "outputs": [
        {
          "output_type": "stream",
          "name": "stdout",
          "text": [
            "(\"The O'Reilly platform, often associated with O'Reilly Media, is an online \"\n",
            " 'learning platform that provides a wide range of resources for technology and '\n",
            " 'business professionals. It offers books, videos, live online training '\n",
            " 'sessions, interactive learning scenarios, and more on topics such as data '\n",
            " 'science, software development, IT operations, and management. The platform '\n",
            " 'is known for its extensive library of content, including the \"animal books\" '\n",
            " \"for programming and technology, which are published by O'Reilly Media. The \"\n",
            " 'author of the video you provided context for mentions teaching on the '\n",
            " \"O'Reilly platform, which suggests that they offer live instruction through \"\n",
            " 'this service.')\n"
          ]
        }
      ]
    },
    {
      "cell_type": "code",
      "source": [],
      "metadata": {
        "id": "E5zSufbLwiX_"
      },
      "execution_count": null,
      "outputs": []
    }
  ]
}